{
  "nbformat": 4,
  "nbformat_minor": 0,
  "metadata": {
    "colab": {
      "provenance": [],
      "toc_visible": true
    },
    "kernelspec": {
      "name": "python3",
      "display_name": "Python 3"
    },
    "language_info": {
      "name": "python"
    }
  },
  "cells": [
    {
      "cell_type": "code",
      "execution_count": null,
      "metadata": {
        "id": "P6STJhjj_q1h"
      },
      "outputs": [],
      "source": []
    },
    {
      "cell_type": "code",
      "source": [],
      "metadata": {
        "id": "utfHfovH_t5I"
      },
      "execution_count": null,
      "outputs": []
    },
    {
      "cell_type": "code",
      "source": [
        "from google.colab import drive\n",
        "drive.mount('/content/drive')"
      ],
      "metadata": {
        "colab": {
          "base_uri": "https://localhost:8080/"
        },
        "id": "CBugS708_tTD",
        "outputId": "5ff6a0f8-6fab-4503-f24d-669bafbeeac9"
      },
      "execution_count": null,
      "outputs": [
        {
          "output_type": "stream",
          "name": "stdout",
          "text": [
            "Drive already mounted at /content/drive; to attempt to forcibly remount, call drive.mount(\"/content/drive\", force_remount=True).\n"
          ]
        }
      ]
    },
    {
      "cell_type": "code",
      "source": [
        "!pip install pyspark --quiet"
      ],
      "metadata": {
        "id": "kM1x4ZiR_v2W"
      },
      "execution_count": null,
      "outputs": []
    },
    {
      "cell_type": "code",
      "source": [
        "import pyspark"
      ],
      "metadata": {
        "id": "fN5EUk1C__OR"
      },
      "execution_count": null,
      "outputs": []
    },
    {
      "cell_type": "code",
      "source": [
        "from pyspark.sql import SparkSession\n",
        "spark:SparkSession = SparkSession.builder \\\n",
        "    .master(\"local[4]\") \\\n",
        "    .appName(\"logistic\") \\\n",
        "    .getOrCreate() "
      ],
      "metadata": {
        "id": "VqcYgWCG__Qn"
      },
      "execution_count": null,
      "outputs": []
    },
    {
      "cell_type": "code",
      "source": [
        "sc = spark.sparkContext"
      ],
      "metadata": {
        "id": "CdUGpGhg__S6"
      },
      "execution_count": null,
      "outputs": []
    },
    {
      "cell_type": "code",
      "source": [
        "path = \"/content/drive/MyDrive/csvFiles/ML_hw_dataset.csv\""
      ],
      "metadata": {
        "id": "XRE4w8KyACdL"
      },
      "execution_count": null,
      "outputs": []
    },
    {
      "cell_type": "code",
      "source": [
        "dff = spark.read.csv(path,inferSchema=True,header=True)\n"
      ],
      "metadata": {
        "id": "RpCwWWS5AJEx"
      },
      "execution_count": null,
      "outputs": []
    },
    {
      "cell_type": "code",
      "source": [
        "import  matplotlib.pyplot as plt"
      ],
      "metadata": {
        "id": "dgrmSfIOkc86"
      },
      "execution_count": null,
      "outputs": []
    },
    {
      "cell_type": "code",
      "source": [
        "dff_bank = dff"
      ],
      "metadata": {
        "id": "hVI3OU4E_7j_"
      },
      "execution_count": null,
      "outputs": []
    },
    {
      "cell_type": "code",
      "source": [
        "dff_bank.show()"
      ],
      "metadata": {
        "colab": {
          "base_uri": "https://localhost:8080/"
        },
        "id": "Bzf62q3BAWWj",
        "outputId": "5346b3e8-1bbd-48da-83c5-dbd9cff9e383"
      },
      "execution_count": null,
      "outputs": [
        {
          "output_type": "stream",
          "name": "stdout",
          "text": [
            "+---+-----------+--------+-----------------+-------+-------+----+---------+-----+-----------+--------+--------+-----+--------+-----------+------------+--------------+-------------+---------+-----------+---+\n",
            "|age|        job| marital|        education|default|housing|loan|  contact|month|day_of_week|duration|campaign|pdays|previous|   poutcome|emp_var_rate|cons_price_idx|cons_conf_idx|euribor3m|nr_employed|  y|\n",
            "+---+-----------+--------+-----------------+-------+-------+----+---------+-----+-----------+--------+--------+-----+--------+-----------+------------+--------------+-------------+---------+-----------+---+\n",
            "| 44|blue-collar| married|         basic.4y|unknown|    yes|  no| cellular|  aug|        thu|     210|       1|  999|       0|nonexistent|         1.4|        93.444|        -36.1|    4.963|     5228.1|  0|\n",
            "| 53| technician| married|          unknown|     no|     no|  no| cellular|  nov|        fri|     138|       1|  999|       0|nonexistent|        -0.1|          93.2|        -42.0|    4.021|     5195.8|  0|\n",
            "| 28| management|  single|university.degree|     no|    yes|  no| cellular|  jun|        thu|     339|       3|    6|       2|    success|        -1.7|        94.055|        -39.8|    0.729|     4991.6|  1|\n",
            "| 39|   services| married|      high.school|     no|     no|  no| cellular|  apr|        fri|     185|       2|  999|       0|nonexistent|        -1.8|        93.075|        -47.1|    1.405|     5099.1|  0|\n",
            "| 55|    retired| married|         basic.4y|     no|    yes|  no| cellular|  aug|        fri|     137|       1|    3|       1|    success|        -2.9|        92.201|        -31.4|    0.869|     5076.2|  1|\n",
            "| 30| management|divorced|         basic.4y|     no|    yes|  no| cellular|  jul|        tue|      68|       8|  999|       0|nonexistent|         1.4|        93.918|        -42.7|    4.961|     5228.1|  0|\n",
            "| 37|blue-collar| married|         basic.4y|     no|    yes|  no| cellular|  may|        thu|     204|       1|  999|       0|nonexistent|        -1.8|        92.893|        -46.2|    1.327|     5099.1|  0|\n",
            "| 39|blue-collar|divorced|         basic.9y|     no|    yes|  no| cellular|  may|        fri|     191|       1|  999|       0|nonexistent|        -1.8|        92.893|        -46.2|    1.313|     5099.1|  0|\n",
            "| 36|     admin.| married|university.degree|     no|     no|  no| cellular|  jun|        mon|     174|       1|    3|       1|    success|        -2.9|        92.963|        -40.8|    1.266|     5076.2|  1|\n",
            "| 27|blue-collar|  single|         basic.4y|     no|    yes|  no| cellular|  apr|        thu|     191|       2|  999|       1|    failure|        -1.8|        93.075|        -47.1|     1.41|     5099.1|  0|\n",
            "| 34|  housemaid|  single|university.degree|     no|     no|  no|telephone|  may|        fri|      62|       2|  999|       0|nonexistent|         1.1|        93.994|        -36.4|    4.864|     5191.0|  0|\n",
            "| 41| management| married|university.degree|     no|    yes|  no| cellular|  aug|        thu|     789|       1|  999|       0|nonexistent|         1.4|        93.444|        -36.1|    4.964|     5228.1|  0|\n",
            "| 55| management| married|university.degree|     no|     no|  no| cellular|  aug|        mon|     372|       3|  999|       0|nonexistent|         1.4|        93.444|        -36.1|    4.965|     5228.1|  1|\n",
            "| 33|   services|divorced|      high.school|     no|    yes|  no| cellular|  may|        tue|      75|       5|  999|       0|nonexistent|        -1.8|        92.893|        -46.2|    1.291|     5099.1|  0|\n",
            "| 26|     admin.| married|      high.school|     no|     no| yes|telephone|  jun|        mon|    1021|       1|  999|       0|nonexistent|         1.4|        94.465|        -41.8|     4.96|     5228.1|  0|\n",
            "| 52|   services| married|      high.school|unknown|    yes|  no| cellular|  jul|        thu|     117|       2|  999|       0|nonexistent|         1.4|        93.918|        -42.7|    4.962|     5228.1|  0|\n",
            "| 35|   services| married|      high.school|     no|     no|  no| cellular|  apr|        thu|    1034|       2|  999|       0|nonexistent|        -1.8|        93.075|        -47.1|    1.365|     5099.1|  1|\n",
            "| 27|     admin.|  single|university.degree|     no|     no|  no|telephone|  oct|        tue|     540|       1|  999|       0|nonexistent|        -0.1|        93.798|        -40.4|     4.86|     5195.8|  1|\n",
            "| 28|blue-collar| married|         basic.9y|unknown|     no|  no|telephone|  may|        thu|     140|       1|  999|       0|nonexistent|         1.1|        93.994|        -36.4|     4.86|     5191.0|  0|\n",
            "| 26| unemployed|  single|         basic.9y|     no|    yes| yes| cellular|  jul|        mon|     104|       4|  999|       0|nonexistent|         1.4|        93.918|        -42.7|     4.96|     5228.1|  0|\n",
            "+---+-----------+--------+-----------------+-------+-------+----+---------+-----+-----------+--------+--------+-----+--------+-----------+------------+--------------+-------------+---------+-----------+---+\n",
            "only showing top 20 rows\n",
            "\n"
          ]
        }
      ]
    },
    {
      "cell_type": "code",
      "source": [
        "dff_bank.describe().show()"
      ],
      "metadata": {
        "colab": {
          "base_uri": "https://localhost:8080/"
        },
        "id": "sXN-k4L3B_CT",
        "outputId": "ba88cf41-8852-4534-a8e3-4ae88da20e3d"
      },
      "execution_count": null,
      "outputs": [
        {
          "output_type": "stream",
          "name": "stdout",
          "text": [
            "+-------+------------------+-------+--------+---------+-------+-------+-----+---------+-----+-----------+------------------+------------------+------------------+-------------------+--------+-------------------+------------------+------------------+------------------+-----------------+-------------------+\n",
            "|summary|               age|    job| marital|education|default|housing| loan|  contact|month|day_of_week|          duration|          campaign|             pdays|           previous|poutcome|       emp_var_rate|    cons_price_idx|     cons_conf_idx|         euribor3m|      nr_employed|                  y|\n",
            "+-------+------------------+-------+--------+---------+-------+-------+-----+---------+-----+-----------+------------------+------------------+------------------+-------------------+--------+-------------------+------------------+------------------+------------------+-----------------+-------------------+\n",
            "|  count|             41188|  41188|   41188|    41188|  41188|  41188|41188|    41188|41188|      41188|             41188|             41188|             41188|              41188|   41188|              41188|             41188|             41188|             41188|            41188|              41188|\n",
            "|   mean| 40.02406040594348|   null|    null|     null|   null|   null| null|     null| null|       null| 258.2850101971448| 2.567592502670681| 962.4754540157328|0.17296299893172767|    null|0.08188550063125773| 93.57566436827047|-40.50260027192026|3.6212908128583696|5167.035910943169|0.11265417111780131|\n",
            "| stddev|10.421249980934075|   null|    null|     null|   null|   null| null|     null| null|       null|259.27924883646574|2.7700135429023436|186.91090734474133|0.49490107983929066|    null| 1.5709597405170235|0.5788400489541238| 4.628197856174545|1.7344474048512692|72.25152766826125|0.31617342694296513|\n",
            "|    min|                17| admin.|divorced| basic.4y|     no|     no|   no| cellular|  apr|        fri|                 0|                 1|                 0|                  0| failure|               -3.4|            92.201|             -50.8|             0.634|           4963.6|                  0|\n",
            "|    max|                98|unknown| unknown|  unknown|    yes|    yes|  yes|telephone|  sep|        wed|              4918|                56|               999|                  7| success|                1.4|            94.767|             -26.9|             5.045|           5228.1|                  1|\n",
            "+-------+------------------+-------+--------+---------+-------+-------+-----+---------+-----+-----------+------------------+------------------+------------------+-------------------+--------+-------------------+------------------+------------------+------------------+-----------------+-------------------+\n",
            "\n"
          ]
        }
      ]
    },
    {
      "cell_type": "code",
      "source": [
        "dff_bank.printSchema()\n"
      ],
      "metadata": {
        "colab": {
          "base_uri": "https://localhost:8080/"
        },
        "id": "UHAsIKXlCK8e",
        "outputId": "b7af60c2-6ba9-429f-a724-d0271f0ae7be"
      },
      "execution_count": null,
      "outputs": [
        {
          "output_type": "stream",
          "name": "stdout",
          "text": [
            "root\n",
            " |-- age: integer (nullable = true)\n",
            " |-- job: string (nullable = true)\n",
            " |-- marital: string (nullable = true)\n",
            " |-- education: string (nullable = true)\n",
            " |-- default: string (nullable = true)\n",
            " |-- housing: string (nullable = true)\n",
            " |-- loan: string (nullable = true)\n",
            " |-- contact: string (nullable = true)\n",
            " |-- month: string (nullable = true)\n",
            " |-- day_of_week: string (nullable = true)\n",
            " |-- duration: integer (nullable = true)\n",
            " |-- campaign: integer (nullable = true)\n",
            " |-- pdays: integer (nullable = true)\n",
            " |-- previous: integer (nullable = true)\n",
            " |-- poutcome: string (nullable = true)\n",
            " |-- emp_var_rate: double (nullable = true)\n",
            " |-- cons_price_idx: double (nullable = true)\n",
            " |-- cons_conf_idx: double (nullable = true)\n",
            " |-- euribor3m: double (nullable = true)\n",
            " |-- nr_employed: double (nullable = true)\n",
            " |-- y: integer (nullable = true)\n",
            "\n"
          ]
        }
      ]
    },
    {
      "cell_type": "code",
      "source": [
        "col_names = dff_bank.columns"
      ],
      "metadata": {
        "id": "x-qYxFFb-7WC"
      },
      "execution_count": null,
      "outputs": []
    },
    {
      "cell_type": "code",
      "source": [
        "for m in col_names:\n",
        "  dff_bank.groupBy(m).count().show()"
      ],
      "metadata": {
        "colab": {
          "base_uri": "https://localhost:8080/"
        },
        "id": "BWsrAQgjBuLz",
        "outputId": "e01a0c00-1de2-462f-9b5b-1c471373cd19"
      },
      "execution_count": null,
      "outputs": [
        {
          "output_type": "stream",
          "name": "stdout",
          "text": [
            "+---+-----+\n",
            "|age|count|\n",
            "+---+-----+\n",
            "| 31| 1947|\n",
            "| 85|   15|\n",
            "| 65|   44|\n",
            "| 53|  733|\n",
            "| 78|   27|\n",
            "| 34| 1745|\n",
            "| 81|   20|\n",
            "| 28| 1001|\n",
            "| 76|   34|\n",
            "| 27|  851|\n",
            "| 26|  698|\n",
            "| 44| 1011|\n",
            "| 91|    2|\n",
            "| 22|  137|\n",
            "| 47|  928|\n",
            "| 52|  779|\n",
            "| 86|    8|\n",
            "| 40| 1161|\n",
            "| 20|   65|\n",
            "| 94|    1|\n",
            "+---+-----+\n",
            "only showing top 20 rows\n",
            "\n",
            "+-------------+-----+\n",
            "|          job|count|\n",
            "+-------------+-----+\n",
            "|   management| 2924|\n",
            "|      retired| 1720|\n",
            "|      unknown|  330|\n",
            "|self-employed| 1421|\n",
            "|      student|  875|\n",
            "|  blue-collar| 9254|\n",
            "| entrepreneur| 1456|\n",
            "|       admin.|10422|\n",
            "|   technician| 6743|\n",
            "|     services| 3969|\n",
            "|    housemaid| 1060|\n",
            "|   unemployed| 1014|\n",
            "+-------------+-----+\n",
            "\n",
            "+--------+-----+\n",
            "| marital|count|\n",
            "+--------+-----+\n",
            "| unknown|   80|\n",
            "|divorced| 4612|\n",
            "| married|24928|\n",
            "|  single|11568|\n",
            "+--------+-----+\n",
            "\n",
            "+-------------------+-----+\n",
            "|          education|count|\n",
            "+-------------------+-----+\n",
            "|        high.school| 9515|\n",
            "|            unknown| 1731|\n",
            "|           basic.6y| 2292|\n",
            "|professional.course| 5243|\n",
            "|  university.degree|12168|\n",
            "|         illiterate|   18|\n",
            "|           basic.4y| 4176|\n",
            "|           basic.9y| 6045|\n",
            "+-------------------+-----+\n",
            "\n",
            "+-------+-----+\n",
            "|default|count|\n",
            "+-------+-----+\n",
            "|unknown| 8597|\n",
            "|     no|32588|\n",
            "|    yes|    3|\n",
            "+-------+-----+\n",
            "\n",
            "+-------+-----+\n",
            "|housing|count|\n",
            "+-------+-----+\n",
            "|unknown|  990|\n",
            "|     no|18622|\n",
            "|    yes|21576|\n",
            "+-------+-----+\n",
            "\n",
            "+-------+-----+\n",
            "|   loan|count|\n",
            "+-------+-----+\n",
            "|unknown|  990|\n",
            "|     no|33950|\n",
            "|    yes| 6248|\n",
            "+-------+-----+\n",
            "\n",
            "+---------+-----+\n",
            "|  contact|count|\n",
            "+---------+-----+\n",
            "| cellular|26144|\n",
            "|telephone|15044|\n",
            "+---------+-----+\n",
            "\n",
            "+-----+-----+\n",
            "|month|count|\n",
            "+-----+-----+\n",
            "|  jun| 5318|\n",
            "|  aug| 6178|\n",
            "|  may|13769|\n",
            "|  sep|  570|\n",
            "|  mar|  546|\n",
            "|  oct|  718|\n",
            "|  jul| 7174|\n",
            "|  nov| 4101|\n",
            "|  apr| 2632|\n",
            "|  dec|  182|\n",
            "+-----+-----+\n",
            "\n",
            "+-----------+-----+\n",
            "|day_of_week|count|\n",
            "+-----------+-----+\n",
            "|        fri| 7827|\n",
            "|        thu| 8623|\n",
            "|        tue| 8090|\n",
            "|        wed| 8134|\n",
            "|        mon| 8514|\n",
            "+-----------+-----+\n",
            "\n",
            "+--------+-----+\n",
            "|duration|count|\n",
            "+--------+-----+\n",
            "|     463|   20|\n",
            "|     148|  123|\n",
            "|     471|   26|\n",
            "|    1088|    3|\n",
            "|     496|   11|\n",
            "|     833|    5|\n",
            "|    1580|    1|\n",
            "|    1238|    2|\n",
            "|    1342|    1|\n",
            "|     540|   10|\n",
            "|     243|   79|\n",
            "|    1025|    4|\n",
            "|     392|   32|\n",
            "|     623|   16|\n",
            "|    1721|    2|\n",
            "|     858|    4|\n",
            "|     737|    3|\n",
            "|    1084|    3|\n",
            "|     897|    5|\n",
            "|    1127|    3|\n",
            "+--------+-----+\n",
            "only showing top 20 rows\n",
            "\n",
            "+--------+-----+\n",
            "|campaign|count|\n",
            "+--------+-----+\n",
            "|      31|    7|\n",
            "|      34|    3|\n",
            "|      28|    8|\n",
            "|      27|   11|\n",
            "|      26|    8|\n",
            "|      12|  125|\n",
            "|      22|   17|\n",
            "|       1|17642|\n",
            "|      13|   92|\n",
            "|       6|  979|\n",
            "|      16|   51|\n",
            "|       3| 5341|\n",
            "|      20|   30|\n",
            "|      40|    2|\n",
            "|       5| 1599|\n",
            "|      19|   26|\n",
            "|      41|    1|\n",
            "|      15|   51|\n",
            "|      43|    2|\n",
            "|      17|   58|\n",
            "+--------+-----+\n",
            "only showing top 20 rows\n",
            "\n",
            "+-----+-----+\n",
            "|pdays|count|\n",
            "+-----+-----+\n",
            "|   26|    1|\n",
            "|   12|   58|\n",
            "|   22|    3|\n",
            "|    1|   26|\n",
            "|   13|   36|\n",
            "|    6|  412|\n",
            "|   16|   11|\n",
            "|    3|  439|\n",
            "|   20|    1|\n",
            "|    5|   46|\n",
            "|   19|    3|\n",
            "|   15|   24|\n",
            "|    9|   64|\n",
            "|   17|    8|\n",
            "|    4|  118|\n",
            "|    8|   18|\n",
            "|    7|   60|\n",
            "|   10|   52|\n",
            "|   25|    1|\n",
            "|   21|    2|\n",
            "+-----+-----+\n",
            "only showing top 20 rows\n",
            "\n",
            "+--------+-----+\n",
            "|previous|count|\n",
            "+--------+-----+\n",
            "|       1| 4561|\n",
            "|       6|    5|\n",
            "|       3|  216|\n",
            "|       5|   18|\n",
            "|       4|   70|\n",
            "|       7|    1|\n",
            "|       2|  754|\n",
            "|       0|35563|\n",
            "+--------+-----+\n",
            "\n",
            "+-----------+-----+\n",
            "|   poutcome|count|\n",
            "+-----------+-----+\n",
            "|    success| 1373|\n",
            "|    failure| 4252|\n",
            "|nonexistent|35563|\n",
            "+-----------+-----+\n",
            "\n",
            "+------------+-----+\n",
            "|emp_var_rate|count|\n",
            "+------------+-----+\n",
            "|        -1.7|  773|\n",
            "|        -0.1| 3683|\n",
            "|         1.4|16234|\n",
            "|        -1.8| 9184|\n",
            "|        -3.0|  172|\n",
            "|        -1.1|  635|\n",
            "|        -2.9| 1663|\n",
            "|         1.1| 7763|\n",
            "|        -0.2|   10|\n",
            "|        -3.4| 1071|\n",
            "+------------+-----+\n",
            "\n",
            "+--------------+-----+\n",
            "|cons_price_idx|count|\n",
            "+--------------+-----+\n",
            "|        92.201|  770|\n",
            "|        93.369|  264|\n",
            "|        92.713|  172|\n",
            "|        94.215|  311|\n",
            "|        92.963|  715|\n",
            "|        93.444| 5175|\n",
            "|        93.749|  174|\n",
            "|        94.601|  204|\n",
            "|        92.469|  178|\n",
            "|          93.2| 3616|\n",
            "|        94.055|  229|\n",
            "|        93.798|   67|\n",
            "|        92.756|   10|\n",
            "|        92.649|  357|\n",
            "|        92.431|  447|\n",
            "|        94.199|  303|\n",
            "|        93.994| 7763|\n",
            "|        93.876|  212|\n",
            "|        92.843|  282|\n",
            "|        94.465| 4374|\n",
            "+--------------+-----+\n",
            "only showing top 20 rows\n",
            "\n",
            "+-------------+-----+\n",
            "|cons_conf_idx|count|\n",
            "+-------------+-----+\n",
            "|        -41.8| 4374|\n",
            "|        -34.6|  174|\n",
            "|        -50.0|  282|\n",
            "|        -40.3|  311|\n",
            "|        -42.0| 3616|\n",
            "|        -42.7| 6685|\n",
            "|        -33.6|  178|\n",
            "|        -40.0|  212|\n",
            "|        -38.3|  233|\n",
            "|        -36.1| 5175|\n",
            "|        -40.8|  715|\n",
            "|        -40.4|   67|\n",
            "|        -49.5|  204|\n",
            "|        -29.8|  267|\n",
            "|        -33.0|  172|\n",
            "|        -45.9|   10|\n",
            "|        -34.8|  264|\n",
            "|        -37.5|  303|\n",
            "|        -36.4| 7763|\n",
            "|        -31.4|  770|\n",
            "+-------------+-----+\n",
            "only showing top 20 rows\n",
            "\n",
            "+---------+-----+\n",
            "|euribor3m|count|\n",
            "+---------+-----+\n",
            "|    1.757|   20|\n",
            "|    4.592|    4|\n",
            "|    4.967|  643|\n",
            "|    4.223|    4|\n",
            "|    1.435|   81|\n",
            "|    0.716|   54|\n",
            "|    0.744|   17|\n",
            "|     0.84|   18|\n",
            "|    0.645|   26|\n",
            "|     1.41|  254|\n",
            "|    1.059|   23|\n",
            "|    0.773|   22|\n",
            "|    0.886|   48|\n",
            "|    1.614|   13|\n",
            "|    1.206|    9|\n",
            "|    0.894|    3|\n",
            "|    3.669|    1|\n",
            "|    4.964| 1175|\n",
            "|    4.245|    9|\n",
            "|    0.878|   33|\n",
            "+---------+-----+\n",
            "only showing top 20 rows\n",
            "\n",
            "+-----------+-----+\n",
            "|nr_employed|count|\n",
            "+-----------+-----+\n",
            "|     5191.0| 7763|\n",
            "|     5228.1|16234|\n",
            "|     5023.5|  172|\n",
            "|     5195.8| 3683|\n",
            "|     5076.2| 1663|\n",
            "|     4991.6|  773|\n",
            "|     5099.1| 8534|\n",
            "|     5008.7|  650|\n",
            "|     5017.5| 1071|\n",
            "|     4963.6|  635|\n",
            "|     5176.3|   10|\n",
            "+-----------+-----+\n",
            "\n",
            "+---+-----+\n",
            "|  y|count|\n",
            "+---+-----+\n",
            "|  1| 4640|\n",
            "|  0|36548|\n",
            "+---+-----+\n",
            "\n"
          ]
        }
      ]
    },
    {
      "cell_type": "code",
      "source": [
        "from pyspark.sql.functions import col,isnan, when, count"
      ],
      "metadata": {
        "id": "xOhF5XvyDz-I"
      },
      "execution_count": null,
      "outputs": []
    },
    {
      "cell_type": "code",
      "source": [
        "dff_bank.select([count(when(isnan(c) | col(c).isNull(), c)).alias(c) for c in dff_bank.columns]\n",
        "   ).show()"
      ],
      "metadata": {
        "colab": {
          "base_uri": "https://localhost:8080/"
        },
        "id": "Ud5Ef7l1Dj0U",
        "outputId": "bde2c140-7db2-428e-cce4-9d08a6016f30"
      },
      "execution_count": null,
      "outputs": [
        {
          "output_type": "stream",
          "name": "stdout",
          "text": [
            "+---+---+-------+---------+-------+-------+----+-------+-----+-----------+--------+--------+-----+--------+--------+------------+--------------+-------------+---------+-----------+---+\n",
            "|age|job|marital|education|default|housing|loan|contact|month|day_of_week|duration|campaign|pdays|previous|poutcome|emp_var_rate|cons_price_idx|cons_conf_idx|euribor3m|nr_employed|  y|\n",
            "+---+---+-------+---------+-------+-------+----+-------+-----+-----------+--------+--------+-----+--------+--------+------------+--------------+-------------+---------+-----------+---+\n",
            "|  0|  0|      0|        0|      0|      0|   0|      0|    0|          0|       0|       0|    0|       0|       0|           0|             0|            0|        0|          0|  0|\n",
            "+---+---+-------+---------+-------+-------+----+-------+-----+-----------+--------+--------+-----+--------+--------+------------+--------------+-------------+---------+-----------+---+\n",
            "\n"
          ]
        }
      ]
    },
    {
      "cell_type": "code",
      "source": [
        "df_duplicates = dff_bank.groupBy(dff_bank.columns).count().filter(col(\"count\")>1)\n",
        "\n",
        "df_duplicates.show()"
      ],
      "metadata": {
        "colab": {
          "base_uri": "https://localhost:8080/"
        },
        "id": "U9F64sEdDpLM",
        "outputId": "79529b51-5d58-4538-beb5-008fa38ff617"
      },
      "execution_count": null,
      "outputs": [
        {
          "output_type": "stream",
          "name": "stdout",
          "text": [
            "+---+-----------+--------+-------------------+-------+-------+----+---------+-----+-----------+--------+--------+-----+--------+-----------+------------+--------------+-------------+---------+-----------+---+-----+\n",
            "|age|        job| marital|          education|default|housing|loan|  contact|month|day_of_week|duration|campaign|pdays|previous|   poutcome|emp_var_rate|cons_price_idx|cons_conf_idx|euribor3m|nr_employed|  y|count|\n",
            "+---+-----------+--------+-------------------+-------+-------+----+---------+-----+-----------+--------+--------+-----+--------+-----------+------------+--------------+-------------+---------+-----------+---+-----+\n",
            "| 41| technician| married|professional.course|     no|    yes|  no| cellular|  aug|        tue|     127|       1|  999|       0|nonexistent|         1.4|        93.444|        -36.1|    4.966|     5228.1|  0|    2|\n",
            "| 55|   services| married|        high.school|unknown|     no|  no| cellular|  aug|        mon|      33|       1|  999|       0|nonexistent|         1.4|        93.444|        -36.1|    4.965|     5228.1|  0|    2|\n",
            "| 71|    retired|  single|  university.degree|     no|     no|  no|telephone|  oct|        tue|     120|       1|  999|       0|nonexistent|        -3.4|        92.431|        -26.9|    0.742|     5017.5|  0|    2|\n",
            "| 47| technician|divorced|        high.school|     no|    yes|  no| cellular|  jul|        thu|      43|       3|  999|       0|nonexistent|         1.4|        93.918|        -42.7|    4.962|     5228.1|  0|    2|\n",
            "| 36|    retired| married|            unknown|     no|     no|  no|telephone|  jul|        thu|      88|       1|  999|       0|nonexistent|         1.4|        93.918|        -42.7|    4.966|     5228.1|  0|    2|\n",
            "| 24|   services|  single|        high.school|     no|    yes|  no| cellular|  apr|        tue|     114|       1|  999|       0|nonexistent|        -1.8|        93.075|        -47.1|    1.423|     5099.1|  0|    2|\n",
            "| 45|     admin.| married|  university.degree|     no|     no|  no| cellular|  jul|        thu|     252|       1|  999|       0|nonexistent|        -2.9|        92.469|        -33.6|    1.072|     5076.2|  1|    2|\n",
            "| 27| technician|  single|professional.course|     no|     no|  no| cellular|  jul|        mon|     331|       2|  999|       0|nonexistent|         1.4|        93.918|        -42.7|    4.962|     5228.1|  0|    2|\n",
            "| 32| technician|  single|professional.course|     no|    yes|  no| cellular|  jul|        thu|     128|       1|  999|       0|nonexistent|         1.4|        93.918|        -42.7|    4.968|     5228.1|  0|    2|\n",
            "| 39|blue-collar| married|           basic.6y|     no|     no|  no|telephone|  may|        thu|     124|       1|  999|       0|nonexistent|         1.1|        93.994|        -36.4|    4.855|     5191.0|  0|    2|\n",
            "| 39|     admin.| married|  university.degree|     no|     no|  no| cellular|  nov|        tue|     123|       2|  999|       0|nonexistent|        -0.1|          93.2|        -42.0|    4.153|     5195.8|  0|    2|\n",
            "| 35|     admin.| married|  university.degree|     no|    yes|  no| cellular|  may|        fri|     348|       4|  999|       0|nonexistent|        -1.8|        92.893|        -46.2|    1.313|     5099.1|  0|    2|\n",
            "+---+-----------+--------+-------------------+-------+-------+----+---------+-----+-----------+--------+--------+-----+--------+-----------+------------+--------------+-------------+---------+-----------+---+-----+\n",
            "\n"
          ]
        }
      ]
    },
    {
      "cell_type": "code",
      "source": [
        "dff_bank = dff_bank.drop_duplicates()"
      ],
      "metadata": {
        "id": "-cXW-4FWFzpt"
      },
      "execution_count": null,
      "outputs": []
    },
    {
      "cell_type": "code",
      "source": [
        "df3_duplicates = dff_bank.groupBy(dff_bank.columns).count().filter(col(\"count\")>1)\n"
      ],
      "metadata": {
        "id": "Ue8efnvZZDnq"
      },
      "execution_count": null,
      "outputs": []
    },
    {
      "cell_type": "code",
      "source": [
        "df3_duplicates.show()"
      ],
      "metadata": {
        "colab": {
          "base_uri": "https://localhost:8080/"
        },
        "id": "VvATl0LEZDp9",
        "outputId": "7b1d351a-e930-44c7-94ba-cb7911f25d9c"
      },
      "execution_count": null,
      "outputs": [
        {
          "output_type": "stream",
          "name": "stdout",
          "text": [
            "+---+---+-------+---------+-------+-------+----+-------+-----+-----------+--------+--------+-----+--------+--------+------------+--------------+-------------+---------+-----------+---+-----+\n",
            "|age|job|marital|education|default|housing|loan|contact|month|day_of_week|duration|campaign|pdays|previous|poutcome|emp_var_rate|cons_price_idx|cons_conf_idx|euribor3m|nr_employed|  y|count|\n",
            "+---+---+-------+---------+-------+-------+----+-------+-----+-----------+--------+--------+-----+--------+--------+------------+--------------+-------------+---------+-----------+---+-----+\n",
            "+---+---+-------+---------+-------+-------+----+-------+-----+-----------+--------+--------+-----+--------+--------+------------+--------------+-------------+---------+-----------+---+-----+\n",
            "\n"
          ]
        }
      ]
    },
    {
      "cell_type": "code",
      "source": [],
      "metadata": {
        "id": "ztITYim7ZDsH"
      },
      "execution_count": null,
      "outputs": []
    },
    {
      "cell_type": "code",
      "source": [
        "import matplotlib.pyplot as plt\n",
        "import pandas as pd\n"
      ],
      "metadata": {
        "id": "WxcFMKysZDuk"
      },
      "execution_count": null,
      "outputs": []
    },
    {
      "cell_type": "code",
      "source": [
        "dff_bank_p = dff_bank.toPandas()\n"
      ],
      "metadata": {
        "id": "fkRDbb9qtY82"
      },
      "execution_count": null,
      "outputs": []
    },
    {
      "cell_type": "code",
      "source": [
        "dff_bank3 = dff_bank"
      ],
      "metadata": {
        "id": "_AAhWDRnPsd_"
      },
      "execution_count": null,
      "outputs": []
    },
    {
      "cell_type": "code",
      "source": [
        "dff_bank_p\n"
      ],
      "metadata": {
        "colab": {
          "base_uri": "https://localhost:8080/",
          "height": 424
        },
        "id": "ECWPUAZvtY_Q",
        "outputId": "54968f35-b7d9-4895-87db-11fd7a3ab762"
      },
      "execution_count": null,
      "outputs": [
        {
          "output_type": "execute_result",
          "data": {
            "text/plain": [
              "       age          job   marital            education  default housing loan  \\\n",
              "0       30   management   married    university.degree       no      no   no   \n",
              "1       34       admin.   married    university.degree  unknown      no   no   \n",
              "2       27   unemployed    single    university.degree       no     yes   no   \n",
              "3       32      student    single    university.degree       no      no   no   \n",
              "4       30     services    single          high.school  unknown      no   no   \n",
              "...    ...          ...       ...                  ...      ...     ...  ...   \n",
              "41171   39  blue-collar    single             basic.4y  unknown      no   no   \n",
              "41172   31   management    single    university.degree       no     yes   no   \n",
              "41173   34   technician    single  professional.course       no      no   no   \n",
              "41174   41   management   married              unknown       no     yes   no   \n",
              "41175   41  blue-collar  divorced             basic.6y       no     yes   no   \n",
              "\n",
              "         contact month day_of_week  ...  campaign  pdays  previous  \\\n",
              "0       cellular   mar         mon  ...         1    999         0   \n",
              "1       cellular   aug         tue  ...         1    999         0   \n",
              "2       cellular   jul         tue  ...         1    999         0   \n",
              "3       cellular   may         fri  ...         1    999         0   \n",
              "4      telephone   jul         thu  ...        18    999         0   \n",
              "...          ...   ...         ...  ...       ...    ...       ...   \n",
              "41171  telephone   jul         thu  ...        21    999         0   \n",
              "41172   cellular   may         mon  ...         1    999         0   \n",
              "41173   cellular   aug         fri  ...         4    999         0   \n",
              "41174  telephone   jun         fri  ...         1    999         0   \n",
              "41175  telephone   may         fri  ...         2    999         0   \n",
              "\n",
              "          poutcome emp_var_rate  cons_price_idx  cons_conf_idx  euribor3m  \\\n",
              "0      nonexistent         -1.8          92.843          -50.0      1.811   \n",
              "1      nonexistent          1.4          93.444          -36.1      4.968   \n",
              "2      nonexistent          1.4          93.918          -42.7      4.961   \n",
              "3      nonexistent         -1.8          92.893          -46.2      1.313   \n",
              "4      nonexistent          1.4          93.918          -42.7      4.968   \n",
              "...            ...          ...             ...            ...        ...   \n",
              "41171  nonexistent          1.4          93.918          -42.7      4.968   \n",
              "41172  nonexistent         -1.8          92.893          -46.2      1.299   \n",
              "41173  nonexistent          1.4          93.444          -36.1      4.966   \n",
              "41174  nonexistent          1.4          94.465          -41.8      4.967   \n",
              "41175  nonexistent          1.1          93.994          -36.4      4.857   \n",
              "\n",
              "       nr_employed  y  \n",
              "0           5099.1  1  \n",
              "1           5228.1  0  \n",
              "2           5228.1  0  \n",
              "3           5099.1  0  \n",
              "4           5228.1  0  \n",
              "...            ... ..  \n",
              "41171       5228.1  0  \n",
              "41172       5099.1  0  \n",
              "41173       5228.1  0  \n",
              "41174       5228.1  0  \n",
              "41175       5191.0  0  \n",
              "\n",
              "[41176 rows x 21 columns]"
            ],
            "text/html": [
              "\n",
              "  <div id=\"df-4fef6d4b-828e-4572-a7c4-e2cdae182e9f\">\n",
              "    <div class=\"colab-df-container\">\n",
              "      <div>\n",
              "<style scoped>\n",
              "    .dataframe tbody tr th:only-of-type {\n",
              "        vertical-align: middle;\n",
              "    }\n",
              "\n",
              "    .dataframe tbody tr th {\n",
              "        vertical-align: top;\n",
              "    }\n",
              "\n",
              "    .dataframe thead th {\n",
              "        text-align: right;\n",
              "    }\n",
              "</style>\n",
              "<table border=\"1\" class=\"dataframe\">\n",
              "  <thead>\n",
              "    <tr style=\"text-align: right;\">\n",
              "      <th></th>\n",
              "      <th>age</th>\n",
              "      <th>job</th>\n",
              "      <th>marital</th>\n",
              "      <th>education</th>\n",
              "      <th>default</th>\n",
              "      <th>housing</th>\n",
              "      <th>loan</th>\n",
              "      <th>contact</th>\n",
              "      <th>month</th>\n",
              "      <th>day_of_week</th>\n",
              "      <th>...</th>\n",
              "      <th>campaign</th>\n",
              "      <th>pdays</th>\n",
              "      <th>previous</th>\n",
              "      <th>poutcome</th>\n",
              "      <th>emp_var_rate</th>\n",
              "      <th>cons_price_idx</th>\n",
              "      <th>cons_conf_idx</th>\n",
              "      <th>euribor3m</th>\n",
              "      <th>nr_employed</th>\n",
              "      <th>y</th>\n",
              "    </tr>\n",
              "  </thead>\n",
              "  <tbody>\n",
              "    <tr>\n",
              "      <th>0</th>\n",
              "      <td>30</td>\n",
              "      <td>management</td>\n",
              "      <td>married</td>\n",
              "      <td>university.degree</td>\n",
              "      <td>no</td>\n",
              "      <td>no</td>\n",
              "      <td>no</td>\n",
              "      <td>cellular</td>\n",
              "      <td>mar</td>\n",
              "      <td>mon</td>\n",
              "      <td>...</td>\n",
              "      <td>1</td>\n",
              "      <td>999</td>\n",
              "      <td>0</td>\n",
              "      <td>nonexistent</td>\n",
              "      <td>-1.8</td>\n",
              "      <td>92.843</td>\n",
              "      <td>-50.0</td>\n",
              "      <td>1.811</td>\n",
              "      <td>5099.1</td>\n",
              "      <td>1</td>\n",
              "    </tr>\n",
              "    <tr>\n",
              "      <th>1</th>\n",
              "      <td>34</td>\n",
              "      <td>admin.</td>\n",
              "      <td>married</td>\n",
              "      <td>university.degree</td>\n",
              "      <td>unknown</td>\n",
              "      <td>no</td>\n",
              "      <td>no</td>\n",
              "      <td>cellular</td>\n",
              "      <td>aug</td>\n",
              "      <td>tue</td>\n",
              "      <td>...</td>\n",
              "      <td>1</td>\n",
              "      <td>999</td>\n",
              "      <td>0</td>\n",
              "      <td>nonexistent</td>\n",
              "      <td>1.4</td>\n",
              "      <td>93.444</td>\n",
              "      <td>-36.1</td>\n",
              "      <td>4.968</td>\n",
              "      <td>5228.1</td>\n",
              "      <td>0</td>\n",
              "    </tr>\n",
              "    <tr>\n",
              "      <th>2</th>\n",
              "      <td>27</td>\n",
              "      <td>unemployed</td>\n",
              "      <td>single</td>\n",
              "      <td>university.degree</td>\n",
              "      <td>no</td>\n",
              "      <td>yes</td>\n",
              "      <td>no</td>\n",
              "      <td>cellular</td>\n",
              "      <td>jul</td>\n",
              "      <td>tue</td>\n",
              "      <td>...</td>\n",
              "      <td>1</td>\n",
              "      <td>999</td>\n",
              "      <td>0</td>\n",
              "      <td>nonexistent</td>\n",
              "      <td>1.4</td>\n",
              "      <td>93.918</td>\n",
              "      <td>-42.7</td>\n",
              "      <td>4.961</td>\n",
              "      <td>5228.1</td>\n",
              "      <td>0</td>\n",
              "    </tr>\n",
              "    <tr>\n",
              "      <th>3</th>\n",
              "      <td>32</td>\n",
              "      <td>student</td>\n",
              "      <td>single</td>\n",
              "      <td>university.degree</td>\n",
              "      <td>no</td>\n",
              "      <td>no</td>\n",
              "      <td>no</td>\n",
              "      <td>cellular</td>\n",
              "      <td>may</td>\n",
              "      <td>fri</td>\n",
              "      <td>...</td>\n",
              "      <td>1</td>\n",
              "      <td>999</td>\n",
              "      <td>0</td>\n",
              "      <td>nonexistent</td>\n",
              "      <td>-1.8</td>\n",
              "      <td>92.893</td>\n",
              "      <td>-46.2</td>\n",
              "      <td>1.313</td>\n",
              "      <td>5099.1</td>\n",
              "      <td>0</td>\n",
              "    </tr>\n",
              "    <tr>\n",
              "      <th>4</th>\n",
              "      <td>30</td>\n",
              "      <td>services</td>\n",
              "      <td>single</td>\n",
              "      <td>high.school</td>\n",
              "      <td>unknown</td>\n",
              "      <td>no</td>\n",
              "      <td>no</td>\n",
              "      <td>telephone</td>\n",
              "      <td>jul</td>\n",
              "      <td>thu</td>\n",
              "      <td>...</td>\n",
              "      <td>18</td>\n",
              "      <td>999</td>\n",
              "      <td>0</td>\n",
              "      <td>nonexistent</td>\n",
              "      <td>1.4</td>\n",
              "      <td>93.918</td>\n",
              "      <td>-42.7</td>\n",
              "      <td>4.968</td>\n",
              "      <td>5228.1</td>\n",
              "      <td>0</td>\n",
              "    </tr>\n",
              "    <tr>\n",
              "      <th>...</th>\n",
              "      <td>...</td>\n",
              "      <td>...</td>\n",
              "      <td>...</td>\n",
              "      <td>...</td>\n",
              "      <td>...</td>\n",
              "      <td>...</td>\n",
              "      <td>...</td>\n",
              "      <td>...</td>\n",
              "      <td>...</td>\n",
              "      <td>...</td>\n",
              "      <td>...</td>\n",
              "      <td>...</td>\n",
              "      <td>...</td>\n",
              "      <td>...</td>\n",
              "      <td>...</td>\n",
              "      <td>...</td>\n",
              "      <td>...</td>\n",
              "      <td>...</td>\n",
              "      <td>...</td>\n",
              "      <td>...</td>\n",
              "      <td>...</td>\n",
              "    </tr>\n",
              "    <tr>\n",
              "      <th>41171</th>\n",
              "      <td>39</td>\n",
              "      <td>blue-collar</td>\n",
              "      <td>single</td>\n",
              "      <td>basic.4y</td>\n",
              "      <td>unknown</td>\n",
              "      <td>no</td>\n",
              "      <td>no</td>\n",
              "      <td>telephone</td>\n",
              "      <td>jul</td>\n",
              "      <td>thu</td>\n",
              "      <td>...</td>\n",
              "      <td>21</td>\n",
              "      <td>999</td>\n",
              "      <td>0</td>\n",
              "      <td>nonexistent</td>\n",
              "      <td>1.4</td>\n",
              "      <td>93.918</td>\n",
              "      <td>-42.7</td>\n",
              "      <td>4.968</td>\n",
              "      <td>5228.1</td>\n",
              "      <td>0</td>\n",
              "    </tr>\n",
              "    <tr>\n",
              "      <th>41172</th>\n",
              "      <td>31</td>\n",
              "      <td>management</td>\n",
              "      <td>single</td>\n",
              "      <td>university.degree</td>\n",
              "      <td>no</td>\n",
              "      <td>yes</td>\n",
              "      <td>no</td>\n",
              "      <td>cellular</td>\n",
              "      <td>may</td>\n",
              "      <td>mon</td>\n",
              "      <td>...</td>\n",
              "      <td>1</td>\n",
              "      <td>999</td>\n",
              "      <td>0</td>\n",
              "      <td>nonexistent</td>\n",
              "      <td>-1.8</td>\n",
              "      <td>92.893</td>\n",
              "      <td>-46.2</td>\n",
              "      <td>1.299</td>\n",
              "      <td>5099.1</td>\n",
              "      <td>0</td>\n",
              "    </tr>\n",
              "    <tr>\n",
              "      <th>41173</th>\n",
              "      <td>34</td>\n",
              "      <td>technician</td>\n",
              "      <td>single</td>\n",
              "      <td>professional.course</td>\n",
              "      <td>no</td>\n",
              "      <td>no</td>\n",
              "      <td>no</td>\n",
              "      <td>cellular</td>\n",
              "      <td>aug</td>\n",
              "      <td>fri</td>\n",
              "      <td>...</td>\n",
              "      <td>4</td>\n",
              "      <td>999</td>\n",
              "      <td>0</td>\n",
              "      <td>nonexistent</td>\n",
              "      <td>1.4</td>\n",
              "      <td>93.444</td>\n",
              "      <td>-36.1</td>\n",
              "      <td>4.966</td>\n",
              "      <td>5228.1</td>\n",
              "      <td>0</td>\n",
              "    </tr>\n",
              "    <tr>\n",
              "      <th>41174</th>\n",
              "      <td>41</td>\n",
              "      <td>management</td>\n",
              "      <td>married</td>\n",
              "      <td>unknown</td>\n",
              "      <td>no</td>\n",
              "      <td>yes</td>\n",
              "      <td>no</td>\n",
              "      <td>telephone</td>\n",
              "      <td>jun</td>\n",
              "      <td>fri</td>\n",
              "      <td>...</td>\n",
              "      <td>1</td>\n",
              "      <td>999</td>\n",
              "      <td>0</td>\n",
              "      <td>nonexistent</td>\n",
              "      <td>1.4</td>\n",
              "      <td>94.465</td>\n",
              "      <td>-41.8</td>\n",
              "      <td>4.967</td>\n",
              "      <td>5228.1</td>\n",
              "      <td>0</td>\n",
              "    </tr>\n",
              "    <tr>\n",
              "      <th>41175</th>\n",
              "      <td>41</td>\n",
              "      <td>blue-collar</td>\n",
              "      <td>divorced</td>\n",
              "      <td>basic.6y</td>\n",
              "      <td>no</td>\n",
              "      <td>yes</td>\n",
              "      <td>no</td>\n",
              "      <td>telephone</td>\n",
              "      <td>may</td>\n",
              "      <td>fri</td>\n",
              "      <td>...</td>\n",
              "      <td>2</td>\n",
              "      <td>999</td>\n",
              "      <td>0</td>\n",
              "      <td>nonexistent</td>\n",
              "      <td>1.1</td>\n",
              "      <td>93.994</td>\n",
              "      <td>-36.4</td>\n",
              "      <td>4.857</td>\n",
              "      <td>5191.0</td>\n",
              "      <td>0</td>\n",
              "    </tr>\n",
              "  </tbody>\n",
              "</table>\n",
              "<p>41176 rows × 21 columns</p>\n",
              "</div>\n",
              "      <button class=\"colab-df-convert\" onclick=\"convertToInteractive('df-4fef6d4b-828e-4572-a7c4-e2cdae182e9f')\"\n",
              "              title=\"Convert this dataframe to an interactive table.\"\n",
              "              style=\"display:none;\">\n",
              "        \n",
              "  <svg xmlns=\"http://www.w3.org/2000/svg\" height=\"24px\"viewBox=\"0 0 24 24\"\n",
              "       width=\"24px\">\n",
              "    <path d=\"M0 0h24v24H0V0z\" fill=\"none\"/>\n",
              "    <path d=\"M18.56 5.44l.94 2.06.94-2.06 2.06-.94-2.06-.94-.94-2.06-.94 2.06-2.06.94zm-11 1L8.5 8.5l.94-2.06 2.06-.94-2.06-.94L8.5 2.5l-.94 2.06-2.06.94zm10 10l.94 2.06.94-2.06 2.06-.94-2.06-.94-.94-2.06-.94 2.06-2.06.94z\"/><path d=\"M17.41 7.96l-1.37-1.37c-.4-.4-.92-.59-1.43-.59-.52 0-1.04.2-1.43.59L10.3 9.45l-7.72 7.72c-.78.78-.78 2.05 0 2.83L4 21.41c.39.39.9.59 1.41.59.51 0 1.02-.2 1.41-.59l7.78-7.78 2.81-2.81c.8-.78.8-2.07 0-2.86zM5.41 20L4 18.59l7.72-7.72 1.47 1.35L5.41 20z\"/>\n",
              "  </svg>\n",
              "      </button>\n",
              "      \n",
              "  <style>\n",
              "    .colab-df-container {\n",
              "      display:flex;\n",
              "      flex-wrap:wrap;\n",
              "      gap: 12px;\n",
              "    }\n",
              "\n",
              "    .colab-df-convert {\n",
              "      background-color: #E8F0FE;\n",
              "      border: none;\n",
              "      border-radius: 50%;\n",
              "      cursor: pointer;\n",
              "      display: none;\n",
              "      fill: #1967D2;\n",
              "      height: 32px;\n",
              "      padding: 0 0 0 0;\n",
              "      width: 32px;\n",
              "    }\n",
              "\n",
              "    .colab-df-convert:hover {\n",
              "      background-color: #E2EBFA;\n",
              "      box-shadow: 0px 1px 2px rgba(60, 64, 67, 0.3), 0px 1px 3px 1px rgba(60, 64, 67, 0.15);\n",
              "      fill: #174EA6;\n",
              "    }\n",
              "\n",
              "    [theme=dark] .colab-df-convert {\n",
              "      background-color: #3B4455;\n",
              "      fill: #D2E3FC;\n",
              "    }\n",
              "\n",
              "    [theme=dark] .colab-df-convert:hover {\n",
              "      background-color: #434B5C;\n",
              "      box-shadow: 0px 1px 3px 1px rgba(0, 0, 0, 0.15);\n",
              "      filter: drop-shadow(0px 1px 2px rgba(0, 0, 0, 0.3));\n",
              "      fill: #FFFFFF;\n",
              "    }\n",
              "  </style>\n",
              "\n",
              "      <script>\n",
              "        const buttonEl =\n",
              "          document.querySelector('#df-4fef6d4b-828e-4572-a7c4-e2cdae182e9f button.colab-df-convert');\n",
              "        buttonEl.style.display =\n",
              "          google.colab.kernel.accessAllowed ? 'block' : 'none';\n",
              "\n",
              "        async function convertToInteractive(key) {\n",
              "          const element = document.querySelector('#df-4fef6d4b-828e-4572-a7c4-e2cdae182e9f');\n",
              "          const dataTable =\n",
              "            await google.colab.kernel.invokeFunction('convertToInteractive',\n",
              "                                                     [key], {});\n",
              "          if (!dataTable) return;\n",
              "\n",
              "          const docLinkHtml = 'Like what you see? Visit the ' +\n",
              "            '<a target=\"_blank\" href=https://colab.research.google.com/notebooks/data_table.ipynb>data table notebook</a>'\n",
              "            + ' to learn more about interactive tables.';\n",
              "          element.innerHTML = '';\n",
              "          dataTable['output_type'] = 'display_data';\n",
              "          await google.colab.output.renderOutput(dataTable, element);\n",
              "          const docLink = document.createElement('div');\n",
              "          docLink.innerHTML = docLinkHtml;\n",
              "          element.appendChild(docLink);\n",
              "        }\n",
              "      </script>\n",
              "    </div>\n",
              "  </div>\n",
              "  "
            ]
          },
          "metadata": {},
          "execution_count": 110
        }
      ]
    },
    {
      "cell_type": "code",
      "source": [
        "dff_bank_p.plot.box(figsize=(20,15))"
      ],
      "metadata": {
        "colab": {
          "base_uri": "https://localhost:8080/",
          "height": 1000
        },
        "id": "KcTrTBAYtZBq",
        "outputId": "57601201-e633-48a1-ebf2-41874eb559ae"
      },
      "execution_count": null,
      "outputs": [
        {
          "output_type": "execute_result",
          "data": {
            "text/plain": [
              "<Axes: >"
            ]
          },
          "metadata": {},
          "execution_count": 111
        },
        {
          "output_type": "display_data",
          "data": {
            "text/plain": [
              "<Figure size 2000x1500 with 1 Axes>"
            ],
            "image/png": "[encoded data removed]"
          },
          "metadata": {}
        }
      ]
    },
    {
      "cell_type": "code",
      "source": [
        "bp_age = plt.boxplot(dff_bank_p['age'], showmeans=True,showcaps=True)\n"
      ],
      "metadata": {
        "colab": {
          "base_uri": "https://localhost:8080/",
          "height": 430
        },
        "id": "goxS7gLztZEH",
        "outputId": "3890b294-1d6b-4a90-fe00-483ce839d511"
      },
      "execution_count": null,
      "outputs": [
        {
          "output_type": "display_data",
          "data": {
            "text/plain": [
              "<Figure size 640x480 with 1 Axes>"
            ],
            "image/png": "[encoded data removed]"
          },
          "metadata": {}
        }
      ]
    },
    {
      "cell_type": "code",
      "source": [
        "[item.get_ydata() for item in bp_age['caps']]\n"
      ],
      "metadata": {
        "colab": {
          "base_uri": "https://localhost:8080/"
        },
        "id": "DsHc498VSDFg",
        "outputId": "117f86b9-8a88-4c45-f6b4-799b85f8185c"
      },
      "execution_count": null,
      "outputs": [
        {
          "output_type": "execute_result",
          "data": {
            "text/plain": [
              "[array([17, 17], dtype=int32), array([69, 69], dtype=int32)]"
            ]
          },
          "metadata": {},
          "execution_count": 113
        }
      ]
    },
    {
      "cell_type": "code",
      "source": [
        "dff_bank3.filter('age>69').show()"
      ],
      "metadata": {
        "colab": {
          "base_uri": "https://localhost:8080/"
        },
        "id": "KNdtGfHwJxZh",
        "outputId": "6e045e97-b360-426b-d5fb-f5e9145d85e7"
      },
      "execution_count": null,
      "outputs": [
        {
          "output_type": "stream",
          "name": "stdout",
          "text": [
            "+---+-------+--------+-------------------+-------+-------+----+---------+-----+-----------+--------+--------+-----+--------+-----------+------------+--------------+-------------+---------+-----------+---+\n",
            "|age|    job| marital|          education|default|housing|loan|  contact|month|day_of_week|duration|campaign|pdays|previous|   poutcome|emp_var_rate|cons_price_idx|cons_conf_idx|euribor3m|nr_employed|  y|\n",
            "+---+-------+--------+-------------------+-------+-------+----+---------+-----+-----------+--------+--------+-----+--------+-----------+------------+--------------+-------------+---------+-----------+---+\n",
            "| 73|retired|divorced|           basic.4y|     no|    yes|  no| cellular|  oct|        mon|     127|       2|  999|       3|    failure|        -3.4|        92.431|        -26.9|    0.731|     5017.5|  0|\n",
            "| 78|retired|divorced|           basic.4y|     no|    yes|  no| cellular|  nov|        thu|     463|       1|    3|       1|    success|        -3.4|        92.649|        -30.1|    0.714|     5017.5|  0|\n",
            "| 70|retired| married|professional.course|     no|    yes|  no| cellular|  aug|        fri|      94|       4|  999|       0|nonexistent|        -2.9|        92.201|        -31.4|    0.869|     5076.2|  1|\n",
            "| 83|retired| married|           basic.9y|     no|    yes| yes| cellular|  may|        fri|      74|       1|    3|       3|    failure|        -1.8|        92.893|        -46.2|    1.259|     5099.1|  0|\n",
            "| 73|retired| married|           basic.4y|     no|    yes| yes| cellular|  aug|        fri|     135|       1|  999|       0|nonexistent|        -2.9|        92.201|        -31.4|    0.881|     5076.2|  0|\n",
            "| 71|retired| married|  university.degree|     no|    yes| yes|telephone|  apr|        mon|      89|      12|  999|       0|nonexistent|        -1.8|        93.075|        -47.1|    1.392|     5099.1|  0|\n",
            "| 74|retired| married|           basic.4y|     no|     no|  no|telephone|  apr|        mon|    1143|       5|  999|       0|nonexistent|        -1.8|        93.749|        -34.6|    0.643|     5008.7|  1|\n",
            "| 70| admin.|divorced|  university.degree|     no|     no|  no| cellular|  mar|        mon|      83|       4|  999|       0|nonexistent|        -1.8|        92.843|        -50.0|     1.56|     5099.1|  0|\n",
            "| 73|retired| married|           basic.4y|unknown|     no|  no| cellular|  aug|        wed|      76|       1|  999|       0|nonexistent|        -2.9|        92.201|        -31.4|    0.854|     5076.2|  0|\n",
            "| 76|retired| married|           basic.4y|     no|    yes|  no| cellular|  sep|        wed|     259|       2|    3|       1|    success|        -3.4|        92.379|        -29.8|    0.781|     5017.5|  1|\n",
            "| 75|retired|divorced|           basic.4y|unknown|    yes|  no| cellular|  oct|        thu|     502|       1|  999|       0|nonexistent|        -3.4|        92.431|        -26.9|    0.754|     5017.5|  1|\n",
            "| 71|retired| married|professional.course|     no|    yes|  no| cellular|  nov|        tue|     102|       1|  999|       0|nonexistent|        -3.4|        92.649|        -30.1|     0.72|     5017.5|  1|\n",
            "| 75|retired| married|           basic.9y|     no|     no|  no|telephone|  sep|        fri|     543|       9|  999|       1|    failure|        -1.1|        94.199|        -37.5|    0.883|     4963.6|  0|\n",
            "| 78|retired| married|           basic.4y|     no|    yes|  no| cellular|  jul|        mon|     173|       2|  999|       1|    failure|        -1.7|        94.215|        -40.3|     0.87|     4991.6|  1|\n",
            "| 71|retired| married|  university.degree|     no|     no|  no| cellular|  aug|        thu|     148|       1|  999|       0|nonexistent|        -2.9|        92.201|        -31.4|    0.829|     5076.2|  0|\n",
            "| 76|retired| married|  university.degree|     no|    yes|  no| cellular|  aug|        thu|     504|       2|    6|       3|    success|        -1.7|        94.027|        -38.3|    0.899|     4991.6|  1|\n",
            "| 73|retired| married|  university.degree|     no|     no|  no| cellular|  nov|        fri|     160|       1|  999|       0|nonexistent|        -3.4|        92.649|        -30.1|    0.718|     5017.5|  1|\n",
            "| 77|retired|divorced|           basic.4y|     no|     no|  no| cellular|  may|        tue|     393|       1|  999|       0|nonexistent|        -1.8|        93.876|        -40.0|    0.697|     5008.7|  1|\n",
            "| 74|retired|divorced|        high.school|     no|    yes| yes|telephone|  dec|        mon|      88|       6|  999|       0|nonexistent|        -3.0|        92.713|        -33.0|    0.715|     5023.5|  0|\n",
            "| 70|retired| married|           basic.4y|     no|    yes|  no| cellular|  dec|        wed|     325|       1|  999|       2|    failure|        -3.0|        92.713|        -33.0|    0.715|     5023.5|  0|\n",
            "+---+-------+--------+-------------------+-------+-------+----+---------+-----+-----------+--------+--------+-----+--------+-----------+------------+--------------+-------------+---------+-----------+---+\n",
            "only showing top 20 rows\n",
            "\n"
          ]
        }
      ]
    },
    {
      "cell_type": "code",
      "source": [
        "dff_bank3 = dff_bank3.filter(dff_bank3['age']<=69)\n"
      ],
      "metadata": {
        "id": "zOEslhqyQcil"
      },
      "execution_count": null,
      "outputs": []
    },
    {
      "cell_type": "code",
      "source": [
        "dff_bank3.filter('age>69').show()"
      ],
      "metadata": {
        "colab": {
          "base_uri": "https://localhost:8080/"
        },
        "id": "yCerO3pcR8lc",
        "outputId": "5c323232-3c45-49ef-e554-8ca5ac293706"
      },
      "execution_count": null,
      "outputs": [
        {
          "output_type": "stream",
          "name": "stdout",
          "text": [
            "+---+---+-------+---------+-------+-------+----+-------+-----+-----------+--------+--------+-----+--------+--------+------------+--------------+-------------+---------+-----------+---+\n",
            "|age|job|marital|education|default|housing|loan|contact|month|day_of_week|duration|campaign|pdays|previous|poutcome|emp_var_rate|cons_price_idx|cons_conf_idx|euribor3m|nr_employed|  y|\n",
            "+---+---+-------+---------+-------+-------+----+-------+-----+-----------+--------+--------+-----+--------+--------+------------+--------------+-------------+---------+-----------+---+\n",
            "+---+---+-------+---------+-------+-------+----+-------+-----+-----------+--------+--------+-----+--------+--------+------------+--------------+-------------+---------+-----------+---+\n",
            "\n"
          ]
        }
      ]
    },
    {
      "cell_type": "code",
      "source": [
        "bp_duration = plt.boxplot(dff_bank_p['duration'], showmeans=True,showcaps=True)\n"
      ],
      "metadata": {
        "colab": {
          "base_uri": "https://localhost:8080/",
          "height": 430
        },
        "id": "QljHTvq1Jxbq",
        "outputId": "76d41dc9-5e5c-49d6-9c92-f39c8e3c055b"
      },
      "execution_count": null,
      "outputs": [
        {
          "output_type": "display_data",
          "data": {
            "text/plain": [
              "<Figure size 640x480 with 1 Axes>"
            ],
            "image/png": "[encoded data removed]"
          },
          "metadata": {}
        }
      ]
    },
    {
      "cell_type": "code",
      "source": [
        "[item.get_ydata() for item in bp_duration['caps']]\n"
      ],
      "metadata": {
        "colab": {
          "base_uri": "https://localhost:8080/"
        },
        "id": "6968CN3SLsFx",
        "outputId": "39256d47-951f-46da-de3e-7f22a2e10fd0"
      },
      "execution_count": null,
      "outputs": [
        {
          "output_type": "execute_result",
          "data": {
            "text/plain": [
              "[array([0, 0], dtype=int32), array([644, 644], dtype=int32)]"
            ]
          },
          "metadata": {},
          "execution_count": 118
        }
      ]
    },
    {
      "cell_type": "code",
      "source": [
        "dff_bank3 = dff_bank3.filter(dff_bank3['duration']<=644)\n",
        "dff_bank3.filter('duration>644').show()"
      ],
      "metadata": {
        "colab": {
          "base_uri": "https://localhost:8080/"
        },
        "id": "7OJgtvl2SKmP",
        "outputId": "9bdfaac7-7955-43b0-92e5-24a384dbddb5"
      },
      "execution_count": null,
      "outputs": [
        {
          "output_type": "stream",
          "name": "stdout",
          "text": [
            "+---+---+-------+---------+-------+-------+----+-------+-----+-----------+--------+--------+-----+--------+--------+------------+--------------+-------------+---------+-----------+---+\n",
            "|age|job|marital|education|default|housing|loan|contact|month|day_of_week|duration|campaign|pdays|previous|poutcome|emp_var_rate|cons_price_idx|cons_conf_idx|euribor3m|nr_employed|  y|\n",
            "+---+---+-------+---------+-------+-------+----+-------+-----+-----------+--------+--------+-----+--------+--------+------------+--------------+-------------+---------+-----------+---+\n",
            "+---+---+-------+---------+-------+-------+----+-------+-----+-----------+--------+--------+-----+--------+--------+------------+--------------+-------------+---------+-----------+---+\n",
            "\n"
          ]
        }
      ]
    },
    {
      "cell_type": "code",
      "source": [],
      "metadata": {
        "id": "n8uV2A4GSVZO"
      },
      "execution_count": null,
      "outputs": []
    },
    {
      "cell_type": "code",
      "source": [
        "bp_campaign = plt.boxplot(dff_bank_p['campaign'], showmeans=True,showcaps=True)\n"
      ],
      "metadata": {
        "colab": {
          "base_uri": "https://localhost:8080/",
          "height": 430
        },
        "id": "iyBC_3aFJxeO",
        "outputId": "d139732a-edda-4233-952e-da919ffec6a0"
      },
      "execution_count": null,
      "outputs": [
        {
          "output_type": "display_data",
          "data": {
            "text/plain": [
              "<Figure size 640x480 with 1 Axes>"
            ],
            "image/png": "[encoded data removed]"
          },
          "metadata": {}
        }
      ]
    },
    {
      "cell_type": "code",
      "source": [
        "[item.get_ydata() for item in bp_campaign['caps']]\n"
      ],
      "metadata": {
        "colab": {
          "base_uri": "https://localhost:8080/"
        },
        "id": "ot8XO7KOLqMn",
        "outputId": "af3f0abf-d93b-4ba1-ae34-c397ab2a5cba"
      },
      "execution_count": null,
      "outputs": [
        {
          "output_type": "execute_result",
          "data": {
            "text/plain": [
              "[array([1, 1], dtype=int32), array([6, 6], dtype=int32)]"
            ]
          },
          "metadata": {},
          "execution_count": 121
        }
      ]
    },
    {
      "cell_type": "code",
      "source": [
        "dff_bank3 = dff_bank3.filter(dff_bank3['campaign']<=6)\n",
        "dff_bank3.filter('campaign>6').show()"
      ],
      "metadata": {
        "colab": {
          "base_uri": "https://localhost:8080/"
        },
        "id": "MKH9-hJJLcWz",
        "outputId": "20dc7e9f-db1b-4e9d-fbfe-fa2975585e30"
      },
      "execution_count": null,
      "outputs": [
        {
          "output_type": "stream",
          "name": "stdout",
          "text": [
            "+---+---+-------+---------+-------+-------+----+-------+-----+-----------+--------+--------+-----+--------+--------+------------+--------------+-------------+---------+-----------+---+\n",
            "|age|job|marital|education|default|housing|loan|contact|month|day_of_week|duration|campaign|pdays|previous|poutcome|emp_var_rate|cons_price_idx|cons_conf_idx|euribor3m|nr_employed|  y|\n",
            "+---+---+-------+---------+-------+-------+----+-------+-----+-----------+--------+--------+-----+--------+--------+------------+--------------+-------------+---------+-----------+---+\n",
            "+---+---+-------+---------+-------+-------+----+-------+-----+-----------+--------+--------+-----+--------+--------+------------+--------------+-------------+---------+-----------+---+\n",
            "\n"
          ]
        }
      ]
    },
    {
      "cell_type": "code",
      "source": [
        "bp_pdays = plt.boxplot(dff_bank_p['pdays'], showmeans=True,showcaps=True)\n",
        "\n",
        "\n",
        "\n"
      ],
      "metadata": {
        "colab": {
          "base_uri": "https://localhost:8080/",
          "height": 430
        },
        "id": "N3dT0zijJxg4",
        "outputId": "1c316b46-8121-4228-e4b1-ba35048bc983"
      },
      "execution_count": null,
      "outputs": [
        {
          "output_type": "display_data",
          "data": {
            "text/plain": [
              "<Figure size 640x480 with 1 Axes>"
            ],
            "image/png": "[encoded data removed]"
          },
          "metadata": {}
        }
      ]
    },
    {
      "cell_type": "code",
      "source": [
        "[item.get_ydata() for item in bp_pdays['caps']]\n"
      ],
      "metadata": {
        "colab": {
          "base_uri": "https://localhost:8080/"
        },
        "id": "0e3bVMAzLdhf",
        "outputId": "bed0a95a-bbe3-499b-f00a-b27a8a7f1fa0"
      },
      "execution_count": null,
      "outputs": [
        {
          "output_type": "execute_result",
          "data": {
            "text/plain": [
              "[array([999, 999], dtype=int32), array([999, 999], dtype=int32)]"
            ]
          },
          "metadata": {},
          "execution_count": 124
        }
      ]
    },
    {
      "cell_type": "code",
      "source": [
        "\n",
        "dff_bank3 = dff_bank3.filter(dff_bank3['pdays']==999)\n",
        "dff_bank3.filter('pdays>999').show()\n",
        "dff_bank3.filter('pdays<999').show()"
      ],
      "metadata": {
        "colab": {
          "base_uri": "https://localhost:8080/"
        },
        "id": "faumNxzQSsnm",
        "outputId": "2dd996db-00bf-4672-f119-6d9e31501891"
      },
      "execution_count": null,
      "outputs": [
        {
          "output_type": "stream",
          "name": "stdout",
          "text": [
            "+---+---+-------+---------+-------+-------+----+-------+-----+-----------+--------+--------+-----+--------+--------+------------+--------------+-------------+---------+-----------+---+\n",
            "|age|job|marital|education|default|housing|loan|contact|month|day_of_week|duration|campaign|pdays|previous|poutcome|emp_var_rate|cons_price_idx|cons_conf_idx|euribor3m|nr_employed|  y|\n",
            "+---+---+-------+---------+-------+-------+----+-------+-----+-----------+--------+--------+-----+--------+--------+------------+--------------+-------------+---------+-----------+---+\n",
            "+---+---+-------+---------+-------+-------+----+-------+-----+-----------+--------+--------+-----+--------+--------+------------+--------------+-------------+---------+-----------+---+\n",
            "\n",
            "+---+---+-------+---------+-------+-------+----+-------+-----+-----------+--------+--------+-----+--------+--------+------------+--------------+-------------+---------+-----------+---+\n",
            "|age|job|marital|education|default|housing|loan|contact|month|day_of_week|duration|campaign|pdays|previous|poutcome|emp_var_rate|cons_price_idx|cons_conf_idx|euribor3m|nr_employed|  y|\n",
            "+---+---+-------+---------+-------+-------+----+-------+-----+-----------+--------+--------+-----+--------+--------+------------+--------------+-------------+---------+-----------+---+\n",
            "+---+---+-------+---------+-------+-------+----+-------+-----+-----------+--------+--------+-----+--------+--------+------------+--------------+-------------+---------+-----------+---+\n",
            "\n"
          ]
        }
      ]
    },
    {
      "cell_type": "code",
      "source": [
        "bp_pervious = plt.boxplot(dff_bank_p['previous'], showmeans=True,showcaps=True)\n"
      ],
      "metadata": {
        "colab": {
          "base_uri": "https://localhost:8080/",
          "height": 430
        },
        "id": "AQq7eJv3KvkV",
        "outputId": "a87b7f75-f524-454d-8b1b-af585dcc37f4"
      },
      "execution_count": null,
      "outputs": [
        {
          "output_type": "display_data",
          "data": {
            "text/plain": [
              "<Figure size 640x480 with 1 Axes>"
            ],
            "image/png": "[encoded data removed]"
          },
          "metadata": {}
        }
      ]
    },
    {
      "cell_type": "code",
      "source": [
        "[item.get_ydata() for item in bp_pervious['caps']]\n"
      ],
      "metadata": {
        "colab": {
          "base_uri": "https://localhost:8080/"
        },
        "id": "IsRNi09MLeYj",
        "outputId": "b88a45b2-48f5-450e-d56c-38fdaaea9c15"
      },
      "execution_count": null,
      "outputs": [
        {
          "output_type": "execute_result",
          "data": {
            "text/plain": [
              "[array([0, 0], dtype=int32), array([0, 0], dtype=int32)]"
            ]
          },
          "metadata": {},
          "execution_count": 127
        }
      ]
    },
    {
      "cell_type": "code",
      "source": [
        "dff_bank3.filter('previous>0').show()\n",
        "\n",
        "\n"
      ],
      "metadata": {
        "colab": {
          "base_uri": "https://localhost:8080/"
        },
        "id": "iVfkOhQSTwmv",
        "outputId": "f0766024-48f0-4a7a-98b2-c52b187376a1"
      },
      "execution_count": null,
      "outputs": [
        {
          "output_type": "stream",
          "name": "stdout",
          "text": [
            "+---+-------------+--------+-------------------+-------+-------+-------+---------+-----+-----------+--------+--------+-----+--------+--------+------------+--------------+-------------+---------+-----------+---+\n",
            "|age|          job| marital|          education|default|housing|   loan|  contact|month|day_of_week|duration|campaign|pdays|previous|poutcome|emp_var_rate|cons_price_idx|cons_conf_idx|euribor3m|nr_employed|  y|\n",
            "+---+-------------+--------+-------------------+-------+-------+-------+---------+-----+-----------+--------+--------+-----+--------+--------+------------+--------------+-------------+---------+-----------+---+\n",
            "| 33|       admin.| married|  university.degree|     no|     no|     no| cellular|  may|        thu|     245|       5|  999|       1| failure|        -1.8|        92.893|        -46.2|    1.327|     5099.1|  0|\n",
            "| 38|   technician|divorced|  university.degree|     no|     no|     no| cellular|  apr|        wed|     141|       2|  999|       2| failure|        -1.8|        93.075|        -47.1|    1.415|     5099.1|  0|\n",
            "| 49|  blue-collar| married|           basic.4y|     no|    yes|     no| cellular|  may|        fri|      86|       1|  999|       1| failure|        -1.8|        92.893|        -46.2|    1.313|     5099.1|  0|\n",
            "| 37| entrepreneur| married|  university.degree|     no|    yes|     no| cellular|  nov|        mon|      84|       1|  999|       1| failure|        -3.4|        92.649|        -30.1|    0.714|     5017.5|  0|\n",
            "| 25|       admin.|  single|  university.degree|     no|     no|     no| cellular|  may|        tue|      80|       1|  999|       1| failure|        -1.8|        92.893|        -46.2|    1.266|     5099.1|  0|\n",
            "| 54|self-employed| married|           basic.9y|     no|    yes|     no| cellular|  nov|        tue|     139|       4|  999|       1| failure|        -0.1|          93.2|        -42.0|    4.153|     5195.8|  0|\n",
            "| 43|       admin.|divorced|        high.school|     no|unknown|unknown| cellular|  apr|        thu|     105|       1|  999|       1| failure|        -1.8|        93.075|        -47.1|    1.435|     5099.1|  0|\n",
            "| 50|   management|divorced|  university.degree|     no|    yes|     no| cellular|  nov|        fri|     183|       1|  999|       1| failure|        -0.1|          93.2|        -42.0|    4.021|     5195.8|  0|\n",
            "| 27|       admin.|  single|  university.degree|     no|    yes|     no| cellular|  jun|        fri|     266|       2|  999|       1| failure|        -1.7|        94.055|        -39.8|    0.748|     4991.6|  1|\n",
            "| 58|     services| married|        high.school|     no|    yes|     no| cellular|  mar|        mon|      88|       3|  999|       2| failure|        -1.8|        93.369|        -34.8|    0.635|     5008.7|  0|\n",
            "| 48|   management| married|  university.degree|     no|    yes|     no| cellular|  oct|        wed|     294|       1|  999|       1| failure|        -3.4|        92.431|        -26.9|     0.74|     5017.5|  1|\n",
            "| 47|   management| married|  university.degree|     no|     no|     no| cellular|  may|        tue|     242|       1|  999|       1| failure|        -1.8|        92.893|        -46.2|    1.344|     5099.1|  0|\n",
            "| 47|     services|divorced|            unknown|     no|    yes|     no| cellular|  aug|        tue|     113|       2|  999|       1| failure|        -1.7|        94.027|        -38.3|    0.899|     4991.6|  1|\n",
            "| 41|  blue-collar| married|           basic.4y|     no|    yes|     no| cellular|  may|        tue|     234|       1|  999|       2| failure|        -1.8|        92.893|        -46.2|    1.344|     5099.1|  0|\n",
            "| 41|       admin.|divorced|  university.degree|     no|     no|     no|telephone|  nov|        thu|     233|       4|  999|       1| failure|        -0.1|          93.2|        -42.0|    4.076|     5195.8|  0|\n",
            "| 49|       admin.|divorced|        high.school|     no|     no|     no| cellular|  may|        mon|     128|       3|  999|       1| failure|        -1.8|        92.893|        -46.2|    1.299|     5099.1|  0|\n",
            "| 66|      retired| married|           basic.4y|     no|    yes|    yes|telephone|  aug|        wed|      82|       3|  999|       3| failure|        -2.9|        92.201|        -31.4|    0.854|     5076.2|  0|\n",
            "| 52|   management|divorced|  university.degree|     no|    yes|     no| cellular|  nov|        mon|     161|       1|  999|       1| failure|        -0.1|          93.2|        -42.0|    4.191|     5195.8|  0|\n",
            "| 54|   management| married|  university.degree|     no|     no|     no| cellular|  nov|        tue|      53|       1|  999|       1| failure|        -0.1|          93.2|        -42.0|    4.153|     5195.8|  0|\n",
            "| 42|   technician|  single|professional.course|     no|    yes|     no| cellular|  nov|        fri|     173|       1|  999|       1| failure|        -0.1|          93.2|        -42.0|    4.021|     5195.8|  0|\n",
            "+---+-------------+--------+-------------------+-------+-------+-------+---------+-----+-----------+--------+--------+-----+--------+--------+------------+--------------+-------------+---------+-----------+---+\n",
            "only showing top 20 rows\n",
            "\n"
          ]
        }
      ]
    },
    {
      "cell_type": "code",
      "source": [
        "dff_bank3 = dff_bank3.filter(dff_bank3['previous']==0)"
      ],
      "metadata": {
        "id": "WmaQxPT0UTdM"
      },
      "execution_count": null,
      "outputs": []
    },
    {
      "cell_type": "code",
      "source": [
        "dff_bank3.filter('previous>0').show()\n"
      ],
      "metadata": {
        "colab": {
          "base_uri": "https://localhost:8080/"
        },
        "id": "o1uEF0NcTwyq",
        "outputId": "8d19654c-62eb-4061-c127-8d17303c9e48"
      },
      "execution_count": null,
      "outputs": [
        {
          "output_type": "stream",
          "name": "stdout",
          "text": [
            "+---+---+-------+---------+-------+-------+----+-------+-----+-----------+--------+--------+-----+--------+--------+------------+--------------+-------------+---------+-----------+---+\n",
            "|age|job|marital|education|default|housing|loan|contact|month|day_of_week|duration|campaign|pdays|previous|poutcome|emp_var_rate|cons_price_idx|cons_conf_idx|euribor3m|nr_employed|  y|\n",
            "+---+---+-------+---------+-------+-------+----+-------+-----+-----------+--------+--------+-----+--------+--------+------------+--------------+-------------+---------+-----------+---+\n",
            "+---+---+-------+---------+-------+-------+----+-------+-----+-----------+--------+--------+-----+--------+--------+------------+--------------+-------------+---------+-----------+---+\n",
            "\n"
          ]
        }
      ]
    },
    {
      "cell_type": "code",
      "source": [
        "\n",
        "bp_cons_conf_idx = plt.boxplot(dff_bank_p['cons_conf_idx'], showmeans=True,showcaps=True)\n"
      ],
      "metadata": {
        "colab": {
          "base_uri": "https://localhost:8080/",
          "height": 430
        },
        "id": "zJdx1EfOKvov",
        "outputId": "7010ad3b-c3ba-4d69-b26d-24e47050fb0f"
      },
      "execution_count": null,
      "outputs": [
        {
          "output_type": "display_data",
          "data": {
            "text/plain": [
              "<Figure size 640x480 with 1 Axes>"
            ],
            "image/png": "[encoded data removed]"
          },
          "metadata": {}
        }
      ]
    },
    {
      "cell_type": "code",
      "source": [
        "[item.get_ydata() for item in bp_cons_conf_idx['caps']]\n"
      ],
      "metadata": {
        "colab": {
          "base_uri": "https://localhost:8080/"
        },
        "id": "ieUVdGwuLe6y",
        "outputId": "1341901b-512a-4fed-b3e5-0cea7527a0fe"
      },
      "execution_count": null,
      "outputs": [
        {
          "output_type": "execute_result",
          "data": {
            "text/plain": [
              "[array([-50.8, -50.8]), array([-29.8, -29.8])]"
            ]
          },
          "metadata": {},
          "execution_count": 132
        }
      ]
    },
    {
      "cell_type": "code",
      "source": [
        "dff_bank3 = dff_bank3.filter(dff_bank3['cons_conf_idx']<=-29.8)\n",
        "dff_bank3.filter('cons_conf_idx>29.8').show()"
      ],
      "metadata": {
        "colab": {
          "base_uri": "https://localhost:8080/"
        },
        "id": "ZxL-yWUsUitM",
        "outputId": "2a007bd2-4f0e-43cc-fa7e-3615dc777645"
      },
      "execution_count": null,
      "outputs": [
        {
          "output_type": "stream",
          "name": "stdout",
          "text": [
            "+---+---+-------+---------+-------+-------+----+-------+-----+-----------+--------+--------+-----+--------+--------+------------+--------------+-------------+---------+-----------+---+\n",
            "|age|job|marital|education|default|housing|loan|contact|month|day_of_week|duration|campaign|pdays|previous|poutcome|emp_var_rate|cons_price_idx|cons_conf_idx|euribor3m|nr_employed|  y|\n",
            "+---+---+-------+---------+-------+-------+----+-------+-----+-----------+--------+--------+-----+--------+--------+------------+--------------+-------------+---------+-----------+---+\n",
            "+---+---+-------+---------+-------+-------+----+-------+-----+-----------+--------+--------+-----+--------+--------+------------+--------------+-------------+---------+-----------+---+\n",
            "\n"
          ]
        }
      ]
    },
    {
      "cell_type": "code",
      "source": [
        "bp_y = plt.boxplot(dff_bank_p['y'], showmeans=True,showcaps=True)\n"
      ],
      "metadata": {
        "colab": {
          "base_uri": "https://localhost:8080/",
          "height": 430
        },
        "id": "PymvrtddK92X",
        "outputId": "384ab800-3e92-4eae-fc73-d7d362fd1283"
      },
      "execution_count": null,
      "outputs": [
        {
          "output_type": "display_data",
          "data": {
            "text/plain": [
              "<Figure size 640x480 with 1 Axes>"
            ],
            "image/png": "[encoded data removed]"
          },
          "metadata": {}
        }
      ]
    },
    {
      "cell_type": "code",
      "source": [
        "[item.get_ydata() for item in bp_y['caps']]\n"
      ],
      "metadata": {
        "colab": {
          "base_uri": "https://localhost:8080/"
        },
        "id": "_JTe0s92Lh7R",
        "outputId": "05869624-cd5f-4eef-fc84-a7da89b426e9"
      },
      "execution_count": null,
      "outputs": [
        {
          "output_type": "execute_result",
          "data": {
            "text/plain": [
              "[array([0, 0], dtype=int32), array([0, 0], dtype=int32)]"
            ]
          },
          "metadata": {},
          "execution_count": 135
        }
      ]
    },
    {
      "cell_type": "code",
      "source": [
        "dff_bank3 = dff_bank3.filter((dff_bank3['y']==0)|(dff_bank3['y']==1))\n",
        "dff_bank3.filter('y>1').show()\n",
        "dff_bank3.filter('1<0').show()"
      ],
      "metadata": {
        "colab": {
          "base_uri": "https://localhost:8080/"
        },
        "id": "4pXBO__VJxlR",
        "outputId": "a232514e-bd44-40dc-ff49-4c9136501ad4"
      },
      "execution_count": null,
      "outputs": [
        {
          "output_type": "stream",
          "name": "stdout",
          "text": [
            "+---+---+-------+---------+-------+-------+----+-------+-----+-----------+--------+--------+-----+--------+--------+------------+--------------+-------------+---------+-----------+---+\n",
            "|age|job|marital|education|default|housing|loan|contact|month|day_of_week|duration|campaign|pdays|previous|poutcome|emp_var_rate|cons_price_idx|cons_conf_idx|euribor3m|nr_employed|  y|\n",
            "+---+---+-------+---------+-------+-------+----+-------+-----+-----------+--------+--------+-----+--------+--------+------------+--------------+-------------+---------+-----------+---+\n",
            "+---+---+-------+---------+-------+-------+----+-------+-----+-----------+--------+--------+-----+--------+--------+------------+--------------+-------------+---------+-----------+---+\n",
            "\n",
            "+---+---+-------+---------+-------+-------+----+-------+-----+-----------+--------+--------+-----+--------+--------+------------+--------------+-------------+---------+-----------+---+\n",
            "|age|job|marital|education|default|housing|loan|contact|month|day_of_week|duration|campaign|pdays|previous|poutcome|emp_var_rate|cons_price_idx|cons_conf_idx|euribor3m|nr_employed|  y|\n",
            "+---+---+-------+---------+-------+-------+----+-------+-----+-----------+--------+--------+-----+--------+--------+------------+--------------+-------------+---------+-----------+---+\n",
            "+---+---+-------+---------+-------+-------+----+-------+-----+-----------+--------+--------+-----+--------+--------+------------+--------------+-------------+---------+-----------+---+\n",
            "\n"
          ]
        }
      ]
    },
    {
      "cell_type": "code",
      "source": [
        "dff_bank4 = dff_bank3"
      ],
      "metadata": {
        "id": "yExRwCy8JxqV"
      },
      "execution_count": null,
      "outputs": []
    },
    {
      "cell_type": "code",
      "source": [
        "numeric_col  = [x[0] for x in dff_bank4.dtypes if x[1]!= 'string']\n",
        "numeric_col_dff = dff_bank4.select(numeric_col)\n"
      ],
      "metadata": {
        "id": "3ve2iV7HJxsu"
      },
      "execution_count": null,
      "outputs": []
    },
    {
      "cell_type": "code",
      "source": [
        "from pyspark.ml.linalg import Vectors\n",
        "from pyspark.ml.stat import Correlation\n",
        "from pyspark.sql.functions import corr"
      ],
      "metadata": {
        "id": "P2W4MQiNJxvZ"
      },
      "execution_count": null,
      "outputs": []
    },
    {
      "cell_type": "code",
      "source": [
        "col_names = numeric_col_dff.columns\n",
        "feature = numeric_col_dff.rdd.map(lambda row:row[0:])\n",
        "#corr_m = .corr(features,method=\"pearson\")"
      ],
      "metadata": {
        "id": "jtDb1Y0JJxxz"
      },
      "execution_count": null,
      "outputs": []
    },
    {
      "cell_type": "code",
      "source": [
        "col_names"
      ],
      "metadata": {
        "colab": {
          "base_uri": "https://localhost:8080/"
        },
        "id": "Ckxz5CMObayr",
        "outputId": "5a99c457-726c-49e1-a33d-076f330b5321"
      },
      "execution_count": null,
      "outputs": [
        {
          "output_type": "execute_result",
          "data": {
            "text/plain": [
              "['age',\n",
              " 'duration',\n",
              " 'campaign',\n",
              " 'pdays',\n",
              " 'previous',\n",
              " 'emp_var_rate',\n",
              " 'cons_price_idx',\n",
              " 'cons_conf_idx',\n",
              " 'euribor3m',\n",
              " 'nr_employed',\n",
              " 'y']"
            ]
          },
          "metadata": {},
          "execution_count": 141
        }
      ]
    },
    {
      "cell_type": "code",
      "source": [
        "#Correlation.corr(dff_bank4,col_names).head()\n",
        "dff_bank4.stat.corr('age','duration')"
      ],
      "metadata": {
        "colab": {
          "base_uri": "https://localhost:8080/"
        },
        "id": "35QemSxFJx1Z",
        "outputId": "afc174ed-0481-46d4-fc98-28f41b43ed09"
      },
      "execution_count": null,
      "outputs": [
        {
          "output_type": "execute_result",
          "data": {
            "text/plain": [
              "0.000903078828147521"
            ]
          },
          "metadata": {},
          "execution_count": 142
        }
      ]
    },
    {
      "cell_type": "code",
      "source": [
        "dff_bank4.corr"
      ],
      "metadata": {
        "id": "zUTfPpqgeS3Y",
        "colab": {
          "base_uri": "https://localhost:8080/"
        },
        "outputId": "e4e88166-20d4-4f9a-b6fe-b1ac6fae01a3"
      },
      "execution_count": null,
      "outputs": [
        {
          "output_type": "execute_result",
          "data": {
            "text/plain": [
              "<bound method DataFrame.corr of DataFrame[age: int, job: string, marital: string, education: string, default: string, housing: string, loan: string, contact: string, month: string, day_of_week: string, duration: int, campaign: int, pdays: int, previous: int, poutcome: string, emp_var_rate: double, cons_price_idx: double, cons_conf_idx: double, euribor3m: double, nr_employed: double, y: int]>"
            ]
          },
          "metadata": {},
          "execution_count": 143
        }
      ]
    },
    {
      "cell_type": "code",
      "source": [
        "dff_bank4[col_names].show()"
      ],
      "metadata": {
        "colab": {
          "base_uri": "https://localhost:8080/"
        },
        "id": "_z3HBT3xJx31",
        "outputId": "4c17e6eb-189a-4b93-f497-12b08c3f20e0"
      },
      "execution_count": null,
      "outputs": [
        {
          "output_type": "stream",
          "name": "stdout",
          "text": [
            "+---+--------+--------+-----+--------+------------+--------------+-------------+---------+-----------+---+\n",
            "|age|duration|campaign|pdays|previous|emp_var_rate|cons_price_idx|cons_conf_idx|euribor3m|nr_employed|  y|\n",
            "+---+--------+--------+-----+--------+------------+--------------+-------------+---------+-----------+---+\n",
            "| 30|     116|       1|  999|       0|        -1.8|        92.843|        -50.0|    1.811|     5099.1|  1|\n",
            "| 34|     146|       1|  999|       0|         1.4|        93.444|        -36.1|    4.968|     5228.1|  0|\n",
            "| 27|     120|       1|  999|       0|         1.4|        93.918|        -42.7|    4.961|     5228.1|  0|\n",
            "| 32|     209|       1|  999|       0|        -1.8|        92.893|        -46.2|    1.313|     5099.1|  0|\n",
            "| 48|     348|       2|  999|       0|         1.4|        93.444|        -36.1|    4.965|     5228.1|  0|\n",
            "| 33|     145|       2|  999|       0|         1.4|        93.918|        -42.7|     4.96|     5228.1|  0|\n",
            "| 53|     351|       1|  999|       0|        -1.8|        93.075|        -47.1|    1.405|     5099.1|  0|\n",
            "| 34|     207|       1|  999|       0|         1.1|        93.994|        -36.4|    4.857|     5191.0|  0|\n",
            "| 55|      94|       1|  999|       0|         1.4|        93.444|        -36.1|    4.963|     5228.1|  0|\n",
            "| 55|     415|       1|  999|       0|         1.1|        93.994|        -36.4|    4.858|     5191.0|  0|\n",
            "| 54|     202|       2|  999|       0|        -1.8|        92.893|        -46.2|    1.327|     5099.1|  0|\n",
            "| 48|     115|       2|  999|       0|         1.4|        93.444|        -36.1|    4.963|     5228.1|  0|\n",
            "| 34|     401|       1|  999|       0|        -1.7|        94.055|        -39.8|    0.761|     4991.6|  1|\n",
            "| 40|     265|       2|  999|       0|         1.1|        93.994|        -36.4|    4.857|     5191.0|  0|\n",
            "| 63|      49|       3|  999|       0|        -2.9|        92.201|        -31.4|    0.883|     5076.2|  0|\n",
            "| 41|      15|       1|  999|       0|         1.4|        94.465|        -41.8|    4.962|     5228.1|  0|\n",
            "| 49|     129|       1|  999|       0|         1.4|        93.918|        -42.7|    4.961|     5228.1|  0|\n",
            "| 34|     152|       2|  999|       0|        -1.1|        94.199|        -37.5|    0.879|     4963.6|  0|\n",
            "| 36|      56|       1|  999|       0|         1.4|        94.465|        -41.8|    4.864|     5228.1|  0|\n",
            "| 29|     133|       5|  999|       0|         1.4|        93.444|        -36.1|    4.965|     5228.1|  0|\n",
            "+---+--------+--------+-----+--------+------------+--------------+-------------+---------+-----------+---+\n",
            "only showing top 20 rows\n",
            "\n"
          ]
        }
      ]
    },
    {
      "cell_type": "code",
      "source": [
        "dff_bank4_p= dff_bank4[col_names].toPandas()"
      ],
      "metadata": {
        "id": "8h2kHIG_Jx6X"
      },
      "execution_count": null,
      "outputs": []
    },
    {
      "cell_type": "code",
      "source": [
        "dff_bank4_p.head()"
      ],
      "metadata": {
        "colab": {
          "base_uri": "https://localhost:8080/",
          "height": 206
        },
        "id": "Zn3Q__zhJx9K",
        "outputId": "6c9bd55f-f01b-45e3-f3a6-4d1d19d0a2f1"
      },
      "execution_count": null,
      "outputs": [
        {
          "output_type": "execute_result",
          "data": {
            "text/plain": [
              "   age  duration  campaign  pdays  previous  emp_var_rate  cons_price_idx  \\\n",
              "0   30       116         1    999         0          -1.8          92.843   \n",
              "1   34       146         1    999         0           1.4          93.444   \n",
              "2   27       120         1    999         0           1.4          93.918   \n",
              "3   32       209         1    999         0          -1.8          92.893   \n",
              "4   48       348         2    999         0           1.4          93.444   \n",
              "\n",
              "   cons_conf_idx  euribor3m  nr_employed  y  \n",
              "0          -50.0      1.811       5099.1  1  \n",
              "1          -36.1      4.968       5228.1  0  \n",
              "2          -42.7      4.961       5228.1  0  \n",
              "3          -46.2      1.313       5099.1  0  \n",
              "4          -36.1      4.965       5228.1  0  "
            ],
            "text/html": [
              "\n",
              "  <div id=\"df-942cc64d-c383-44a9-b09e-f59848cf6487\">\n",
              "    <div class=\"colab-df-container\">\n",
              "      <div>\n",
              "<style scoped>\n",
              "    .dataframe tbody tr th:only-of-type {\n",
              "        vertical-align: middle;\n",
              "    }\n",
              "\n",
              "    .dataframe tbody tr th {\n",
              "        vertical-align: top;\n",
              "    }\n",
              "\n",
              "    .dataframe thead th {\n",
              "        text-align: right;\n",
              "    }\n",
              "</style>\n",
              "<table border=\"1\" class=\"dataframe\">\n",
              "  <thead>\n",
              "    <tr style=\"text-align: right;\">\n",
              "      <th></th>\n",
              "      <th>age</th>\n",
              "      <th>duration</th>\n",
              "      <th>campaign</th>\n",
              "      <th>pdays</th>\n",
              "      <th>previous</th>\n",
              "      <th>emp_var_rate</th>\n",
              "      <th>cons_price_idx</th>\n",
              "      <th>cons_conf_idx</th>\n",
              "      <th>euribor3m</th>\n",
              "      <th>nr_employed</th>\n",
              "      <th>y</th>\n",
              "    </tr>\n",
              "  </thead>\n",
              "  <tbody>\n",
              "    <tr>\n",
              "      <th>0</th>\n",
              "      <td>30</td>\n",
              "      <td>116</td>\n",
              "      <td>1</td>\n",
              "      <td>999</td>\n",
              "      <td>0</td>\n",
              "      <td>-1.8</td>\n",
              "      <td>92.843</td>\n",
              "      <td>-50.0</td>\n",
              "      <td>1.811</td>\n",
              "      <td>5099.1</td>\n",
              "      <td>1</td>\n",
              "    </tr>\n",
              "    <tr>\n",
              "      <th>1</th>\n",
              "      <td>34</td>\n",
              "      <td>146</td>\n",
              "      <td>1</td>\n",
              "      <td>999</td>\n",
              "      <td>0</td>\n",
              "      <td>1.4</td>\n",
              "      <td>93.444</td>\n",
              "      <td>-36.1</td>\n",
              "      <td>4.968</td>\n",
              "      <td>5228.1</td>\n",
              "      <td>0</td>\n",
              "    </tr>\n",
              "    <tr>\n",
              "      <th>2</th>\n",
              "      <td>27</td>\n",
              "      <td>120</td>\n",
              "      <td>1</td>\n",
              "      <td>999</td>\n",
              "      <td>0</td>\n",
              "      <td>1.4</td>\n",
              "      <td>93.918</td>\n",
              "      <td>-42.7</td>\n",
              "      <td>4.961</td>\n",
              "      <td>5228.1</td>\n",
              "      <td>0</td>\n",
              "    </tr>\n",
              "    <tr>\n",
              "      <th>3</th>\n",
              "      <td>32</td>\n",
              "      <td>209</td>\n",
              "      <td>1</td>\n",
              "      <td>999</td>\n",
              "      <td>0</td>\n",
              "      <td>-1.8</td>\n",
              "      <td>92.893</td>\n",
              "      <td>-46.2</td>\n",
              "      <td>1.313</td>\n",
              "      <td>5099.1</td>\n",
              "      <td>0</td>\n",
              "    </tr>\n",
              "    <tr>\n",
              "      <th>4</th>\n",
              "      <td>48</td>\n",
              "      <td>348</td>\n",
              "      <td>2</td>\n",
              "      <td>999</td>\n",
              "      <td>0</td>\n",
              "      <td>1.4</td>\n",
              "      <td>93.444</td>\n",
              "      <td>-36.1</td>\n",
              "      <td>4.965</td>\n",
              "      <td>5228.1</td>\n",
              "      <td>0</td>\n",
              "    </tr>\n",
              "  </tbody>\n",
              "</table>\n",
              "</div>\n",
              "      <button class=\"colab-df-convert\" onclick=\"convertToInteractive('df-942cc64d-c383-44a9-b09e-f59848cf6487')\"\n",
              "              title=\"Convert this dataframe to an interactive table.\"\n",
              "              style=\"display:none;\">\n",
              "        \n",
              "  <svg xmlns=\"http://www.w3.org/2000/svg\" height=\"24px\"viewBox=\"0 0 24 24\"\n",
              "       width=\"24px\">\n",
              "    <path d=\"M0 0h24v24H0V0z\" fill=\"none\"/>\n",
              "    <path d=\"M18.56 5.44l.94 2.06.94-2.06 2.06-.94-2.06-.94-.94-2.06-.94 2.06-2.06.94zm-11 1L8.5 8.5l.94-2.06 2.06-.94-2.06-.94L8.5 2.5l-.94 2.06-2.06.94zm10 10l.94 2.06.94-2.06 2.06-.94-2.06-.94-.94-2.06-.94 2.06-2.06.94z\"/><path d=\"M17.41 7.96l-1.37-1.37c-.4-.4-.92-.59-1.43-.59-.52 0-1.04.2-1.43.59L10.3 9.45l-7.72 7.72c-.78.78-.78 2.05 0 2.83L4 21.41c.39.39.9.59 1.41.59.51 0 1.02-.2 1.41-.59l7.78-7.78 2.81-2.81c.8-.78.8-2.07 0-2.86zM5.41 20L4 18.59l7.72-7.72 1.47 1.35L5.41 20z\"/>\n",
              "  </svg>\n",
              "      </button>\n",
              "      \n",
              "  <style>\n",
              "    .colab-df-container {\n",
              "      display:flex;\n",
              "      flex-wrap:wrap;\n",
              "      gap: 12px;\n",
              "    }\n",
              "\n",
              "    .colab-df-convert {\n",
              "      background-color: #E8F0FE;\n",
              "      border: none;\n",
              "      border-radius: 50%;\n",
              "      cursor: pointer;\n",
              "      display: none;\n",
              "      fill: #1967D2;\n",
              "      height: 32px;\n",
              "      padding: 0 0 0 0;\n",
              "      width: 32px;\n",
              "    }\n",
              "\n",
              "    .colab-df-convert:hover {\n",
              "      background-color: #E2EBFA;\n",
              "      box-shadow: 0px 1px 2px rgba(60, 64, 67, 0.3), 0px 1px 3px 1px rgba(60, 64, 67, 0.15);\n",
              "      fill: #174EA6;\n",
              "    }\n",
              "\n",
              "    [theme=dark] .colab-df-convert {\n",
              "      background-color: #3B4455;\n",
              "      fill: #D2E3FC;\n",
              "    }\n",
              "\n",
              "    [theme=dark] .colab-df-convert:hover {\n",
              "      background-color: #434B5C;\n",
              "      box-shadow: 0px 1px 3px 1px rgba(0, 0, 0, 0.15);\n",
              "      filter: drop-shadow(0px 1px 2px rgba(0, 0, 0, 0.3));\n",
              "      fill: #FFFFFF;\n",
              "    }\n",
              "  </style>\n",
              "\n",
              "      <script>\n",
              "        const buttonEl =\n",
              "          document.querySelector('#df-942cc64d-c383-44a9-b09e-f59848cf6487 button.colab-df-convert');\n",
              "        buttonEl.style.display =\n",
              "          google.colab.kernel.accessAllowed ? 'block' : 'none';\n",
              "\n",
              "        async function convertToInteractive(key) {\n",
              "          const element = document.querySelector('#df-942cc64d-c383-44a9-b09e-f59848cf6487');\n",
              "          const dataTable =\n",
              "            await google.colab.kernel.invokeFunction('convertToInteractive',\n",
              "                                                     [key], {});\n",
              "          if (!dataTable) return;\n",
              "\n",
              "          const docLinkHtml = 'Like what you see? Visit the ' +\n",
              "            '<a target=\"_blank\" href=https://colab.research.google.com/notebooks/data_table.ipynb>data table notebook</a>'\n",
              "            + ' to learn more about interactive tables.';\n",
              "          element.innerHTML = '';\n",
              "          dataTable['output_type'] = 'display_data';\n",
              "          await google.colab.output.renderOutput(dataTable, element);\n",
              "          const docLink = document.createElement('div');\n",
              "          docLink.innerHTML = docLinkHtml;\n",
              "          element.appendChild(docLink);\n",
              "        }\n",
              "      </script>\n",
              "    </div>\n",
              "  </div>\n",
              "  "
            ]
          },
          "metadata": {},
          "execution_count": 146
        }
      ]
    },
    {
      "cell_type": "code",
      "source": [
        "dff_bank4_corr = dff_bank4_p.corr()\n"
      ],
      "metadata": {
        "id": "T9i9k5PQJx_d"
      },
      "execution_count": null,
      "outputs": []
    },
    {
      "cell_type": "code",
      "source": [
        "dff_bank4_corr\n",
        "\n",
        "\n",
        "\n",
        "\n"
      ],
      "metadata": {
        "colab": {
          "base_uri": "https://localhost:8080/",
          "height": 394
        },
        "id": "__9-7tPjZDwf",
        "outputId": "680f9982-51b0-463b-be2f-2f56aa88b2da"
      },
      "execution_count": null,
      "outputs": [
        {
          "output_type": "execute_result",
          "data": {
            "text/plain": [
              "                     age  duration  campaign  pdays  previous  emp_var_rate  \\\n",
              "age             1.000000  0.000903  0.011035    NaN       NaN      0.081601   \n",
              "duration        0.000903  1.000000 -0.056114    NaN       NaN     -0.041285   \n",
              "campaign        0.011035 -0.056114  1.000000    NaN       NaN      0.073818   \n",
              "pdays                NaN       NaN       NaN    NaN       NaN           NaN   \n",
              "previous             NaN       NaN       NaN    NaN       NaN           NaN   \n",
              "emp_var_rate    0.081601 -0.041285  0.073818    NaN       NaN      1.000000   \n",
              "cons_price_idx  0.044938 -0.009544  0.060048    NaN       NaN      0.783043   \n",
              "cons_conf_idx   0.107444 -0.001549 -0.009751    NaN       NaN      0.378297   \n",
              "euribor3m       0.092345 -0.042370  0.057312    NaN       NaN      0.975943   \n",
              "nr_employed     0.080161 -0.054691  0.069804    NaN       NaN      0.922534   \n",
              "y              -0.029425  0.260089 -0.041689    NaN       NaN     -0.306550   \n",
              "\n",
              "                cons_price_idx  cons_conf_idx  euribor3m  nr_employed  \\\n",
              "age                   0.044938       0.107444   0.092345     0.080161   \n",
              "duration             -0.009544      -0.001549  -0.042370    -0.054691   \n",
              "campaign              0.060048      -0.009751   0.057312     0.069804   \n",
              "pdays                      NaN            NaN        NaN          NaN   \n",
              "previous                   NaN            NaN        NaN          NaN   \n",
              "emp_var_rate          0.783043       0.378297   0.975943     0.922534   \n",
              "cons_price_idx        1.000000       0.182768   0.723606     0.588922   \n",
              "cons_conf_idx         0.182768       1.000000   0.439164     0.257667   \n",
              "euribor3m             0.723606       0.439164   1.000000     0.946765   \n",
              "nr_employed           0.588922       0.257667   0.946765     1.000000   \n",
              "y                    -0.182667      -0.032101  -0.301908    -0.329603   \n",
              "\n",
              "                       y  \n",
              "age            -0.029425  \n",
              "duration        0.260089  \n",
              "campaign       -0.041689  \n",
              "pdays                NaN  \n",
              "previous             NaN  \n",
              "emp_var_rate   -0.306550  \n",
              "cons_price_idx -0.182667  \n",
              "cons_conf_idx  -0.032101  \n",
              "euribor3m      -0.301908  \n",
              "nr_employed    -0.329603  \n",
              "y               1.000000  "
            ],
            "text/html": [
              "\n",
              "  <div id=\"df-bd961f39-774b-4902-b3f4-8285fc210db1\">\n",
              "    <div class=\"colab-df-container\">\n",
              "      <div>\n",
              "<style scoped>\n",
              "    .dataframe tbody tr th:only-of-type {\n",
              "        vertical-align: middle;\n",
              "    }\n",
              "\n",
              "    .dataframe tbody tr th {\n",
              "        vertical-align: top;\n",
              "    }\n",
              "\n",
              "    .dataframe thead th {\n",
              "        text-align: right;\n",
              "    }\n",
              "</style>\n",
              "<table border=\"1\" class=\"dataframe\">\n",
              "  <thead>\n",
              "    <tr style=\"text-align: right;\">\n",
              "      <th></th>\n",
              "      <th>age</th>\n",
              "      <th>duration</th>\n",
              "      <th>campaign</th>\n",
              "      <th>pdays</th>\n",
              "      <th>previous</th>\n",
              "      <th>emp_var_rate</th>\n",
              "      <th>cons_price_idx</th>\n",
              "      <th>cons_conf_idx</th>\n",
              "      <th>euribor3m</th>\n",
              "      <th>nr_employed</th>\n",
              "      <th>y</th>\n",
              "    </tr>\n",
              "  </thead>\n",
              "  <tbody>\n",
              "    <tr>\n",
              "      <th>age</th>\n",
              "      <td>1.000000</td>\n",
              "      <td>0.000903</td>\n",
              "      <td>0.011035</td>\n",
              "      <td>NaN</td>\n",
              "      <td>NaN</td>\n",
              "      <td>0.081601</td>\n",
              "      <td>0.044938</td>\n",
              "      <td>0.107444</td>\n",
              "      <td>0.092345</td>\n",
              "      <td>0.080161</td>\n",
              "      <td>-0.029425</td>\n",
              "    </tr>\n",
              "    <tr>\n",
              "      <th>duration</th>\n",
              "      <td>0.000903</td>\n",
              "      <td>1.000000</td>\n",
              "      <td>-0.056114</td>\n",
              "      <td>NaN</td>\n",
              "      <td>NaN</td>\n",
              "      <td>-0.041285</td>\n",
              "      <td>-0.009544</td>\n",
              "      <td>-0.001549</td>\n",
              "      <td>-0.042370</td>\n",
              "      <td>-0.054691</td>\n",
              "      <td>0.260089</td>\n",
              "    </tr>\n",
              "    <tr>\n",
              "      <th>campaign</th>\n",
              "      <td>0.011035</td>\n",
              "      <td>-0.056114</td>\n",
              "      <td>1.000000</td>\n",
              "      <td>NaN</td>\n",
              "      <td>NaN</td>\n",
              "      <td>0.073818</td>\n",
              "      <td>0.060048</td>\n",
              "      <td>-0.009751</td>\n",
              "      <td>0.057312</td>\n",
              "      <td>0.069804</td>\n",
              "      <td>-0.041689</td>\n",
              "    </tr>\n",
              "    <tr>\n",
              "      <th>pdays</th>\n",
              "      <td>NaN</td>\n",
              "      <td>NaN</td>\n",
              "      <td>NaN</td>\n",
              "      <td>NaN</td>\n",
              "      <td>NaN</td>\n",
              "      <td>NaN</td>\n",
              "      <td>NaN</td>\n",
              "      <td>NaN</td>\n",
              "      <td>NaN</td>\n",
              "      <td>NaN</td>\n",
              "      <td>NaN</td>\n",
              "    </tr>\n",
              "    <tr>\n",
              "      <th>previous</th>\n",
              "      <td>NaN</td>\n",
              "      <td>NaN</td>\n",
              "      <td>NaN</td>\n",
              "      <td>NaN</td>\n",
              "      <td>NaN</td>\n",
              "      <td>NaN</td>\n",
              "      <td>NaN</td>\n",
              "      <td>NaN</td>\n",
              "      <td>NaN</td>\n",
              "      <td>NaN</td>\n",
              "      <td>NaN</td>\n",
              "    </tr>\n",
              "    <tr>\n",
              "      <th>emp_var_rate</th>\n",
              "      <td>0.081601</td>\n",
              "      <td>-0.041285</td>\n",
              "      <td>0.073818</td>\n",
              "      <td>NaN</td>\n",
              "      <td>NaN</td>\n",
              "      <td>1.000000</td>\n",
              "      <td>0.783043</td>\n",
              "      <td>0.378297</td>\n",
              "      <td>0.975943</td>\n",
              "      <td>0.922534</td>\n",
              "      <td>-0.306550</td>\n",
              "    </tr>\n",
              "    <tr>\n",
              "      <th>cons_price_idx</th>\n",
              "      <td>0.044938</td>\n",
              "      <td>-0.009544</td>\n",
              "      <td>0.060048</td>\n",
              "      <td>NaN</td>\n",
              "      <td>NaN</td>\n",
              "      <td>0.783043</td>\n",
              "      <td>1.000000</td>\n",
              "      <td>0.182768</td>\n",
              "      <td>0.723606</td>\n",
              "      <td>0.588922</td>\n",
              "      <td>-0.182667</td>\n",
              "    </tr>\n",
              "    <tr>\n",
              "      <th>cons_conf_idx</th>\n",
              "      <td>0.107444</td>\n",
              "      <td>-0.001549</td>\n",
              "      <td>-0.009751</td>\n",
              "      <td>NaN</td>\n",
              "      <td>NaN</td>\n",
              "      <td>0.378297</td>\n",
              "      <td>0.182768</td>\n",
              "      <td>1.000000</td>\n",
              "      <td>0.439164</td>\n",
              "      <td>0.257667</td>\n",
              "      <td>-0.032101</td>\n",
              "    </tr>\n",
              "    <tr>\n",
              "      <th>euribor3m</th>\n",
              "      <td>0.092345</td>\n",
              "      <td>-0.042370</td>\n",
              "      <td>0.057312</td>\n",
              "      <td>NaN</td>\n",
              "      <td>NaN</td>\n",
              "      <td>0.975943</td>\n",
              "      <td>0.723606</td>\n",
              "      <td>0.439164</td>\n",
              "      <td>1.000000</td>\n",
              "      <td>0.946765</td>\n",
              "      <td>-0.301908</td>\n",
              "    </tr>\n",
              "    <tr>\n",
              "      <th>nr_employed</th>\n",
              "      <td>0.080161</td>\n",
              "      <td>-0.054691</td>\n",
              "      <td>0.069804</td>\n",
              "      <td>NaN</td>\n",
              "      <td>NaN</td>\n",
              "      <td>0.922534</td>\n",
              "      <td>0.588922</td>\n",
              "      <td>0.257667</td>\n",
              "      <td>0.946765</td>\n",
              "      <td>1.000000</td>\n",
              "      <td>-0.329603</td>\n",
              "    </tr>\n",
              "    <tr>\n",
              "      <th>y</th>\n",
              "      <td>-0.029425</td>\n",
              "      <td>0.260089</td>\n",
              "      <td>-0.041689</td>\n",
              "      <td>NaN</td>\n",
              "      <td>NaN</td>\n",
              "      <td>-0.306550</td>\n",
              "      <td>-0.182667</td>\n",
              "      <td>-0.032101</td>\n",
              "      <td>-0.301908</td>\n",
              "      <td>-0.329603</td>\n",
              "      <td>1.000000</td>\n",
              "    </tr>\n",
              "  </tbody>\n",
              "</table>\n",
              "</div>\n",
              "      <button class=\"colab-df-convert\" onclick=\"convertToInteractive('df-bd961f39-774b-4902-b3f4-8285fc210db1')\"\n",
              "              title=\"Convert this dataframe to an interactive table.\"\n",
              "              style=\"display:none;\">\n",
              "        \n",
              "  <svg xmlns=\"http://www.w3.org/2000/svg\" height=\"24px\"viewBox=\"0 0 24 24\"\n",
              "       width=\"24px\">\n",
              "    <path d=\"M0 0h24v24H0V0z\" fill=\"none\"/>\n",
              "    <path d=\"M18.56 5.44l.94 2.06.94-2.06 2.06-.94-2.06-.94-.94-2.06-.94 2.06-2.06.94zm-11 1L8.5 8.5l.94-2.06 2.06-.94-2.06-.94L8.5 2.5l-.94 2.06-2.06.94zm10 10l.94 2.06.94-2.06 2.06-.94-2.06-.94-.94-2.06-.94 2.06-2.06.94z\"/><path d=\"M17.41 7.96l-1.37-1.37c-.4-.4-.92-.59-1.43-.59-.52 0-1.04.2-1.43.59L10.3 9.45l-7.72 7.72c-.78.78-.78 2.05 0 2.83L4 21.41c.39.39.9.59 1.41.59.51 0 1.02-.2 1.41-.59l7.78-7.78 2.81-2.81c.8-.78.8-2.07 0-2.86zM5.41 20L4 18.59l7.72-7.72 1.47 1.35L5.41 20z\"/>\n",
              "  </svg>\n",
              "      </button>\n",
              "      \n",
              "  <style>\n",
              "    .colab-df-container {\n",
              "      display:flex;\n",
              "      flex-wrap:wrap;\n",
              "      gap: 12px;\n",
              "    }\n",
              "\n",
              "    .colab-df-convert {\n",
              "      background-color: #E8F0FE;\n",
              "      border: none;\n",
              "      border-radius: 50%;\n",
              "      cursor: pointer;\n",
              "      display: none;\n",
              "      fill: #1967D2;\n",
              "      height: 32px;\n",
              "      padding: 0 0 0 0;\n",
              "      width: 32px;\n",
              "    }\n",
              "\n",
              "    .colab-df-convert:hover {\n",
              "      background-color: #E2EBFA;\n",
              "      box-shadow: 0px 1px 2px rgba(60, 64, 67, 0.3), 0px 1px 3px 1px rgba(60, 64, 67, 0.15);\n",
              "      fill: #174EA6;\n",
              "    }\n",
              "\n",
              "    [theme=dark] .colab-df-convert {\n",
              "      background-color: #3B4455;\n",
              "      fill: #D2E3FC;\n",
              "    }\n",
              "\n",
              "    [theme=dark] .colab-df-convert:hover {\n",
              "      background-color: #434B5C;\n",
              "      box-shadow: 0px 1px 3px 1px rgba(0, 0, 0, 0.15);\n",
              "      filter: drop-shadow(0px 1px 2px rgba(0, 0, 0, 0.3));\n",
              "      fill: #FFFFFF;\n",
              "    }\n",
              "  </style>\n",
              "\n",
              "      <script>\n",
              "        const buttonEl =\n",
              "          document.querySelector('#df-bd961f39-774b-4902-b3f4-8285fc210db1 button.colab-df-convert');\n",
              "        buttonEl.style.display =\n",
              "          google.colab.kernel.accessAllowed ? 'block' : 'none';\n",
              "\n",
              "        async function convertToInteractive(key) {\n",
              "          const element = document.querySelector('#df-bd961f39-774b-4902-b3f4-8285fc210db1');\n",
              "          const dataTable =\n",
              "            await google.colab.kernel.invokeFunction('convertToInteractive',\n",
              "                                                     [key], {});\n",
              "          if (!dataTable) return;\n",
              "\n",
              "          const docLinkHtml = 'Like what you see? Visit the ' +\n",
              "            '<a target=\"_blank\" href=https://colab.research.google.com/notebooks/data_table.ipynb>data table notebook</a>'\n",
              "            + ' to learn more about interactive tables.';\n",
              "          element.innerHTML = '';\n",
              "          dataTable['output_type'] = 'display_data';\n",
              "          await google.colab.output.renderOutput(dataTable, element);\n",
              "          const docLink = document.createElement('div');\n",
              "          docLink.innerHTML = docLinkHtml;\n",
              "          element.appendChild(docLink);\n",
              "        }\n",
              "      </script>\n",
              "    </div>\n",
              "  </div>\n",
              "  "
            ]
          },
          "metadata": {},
          "execution_count": 148
        }
      ]
    },
    {
      "cell_type": "code",
      "source": [
        "\n",
        "from seaborn import heatmap\n",
        "heatmap(dff_bank4_corr.corr())"
      ],
      "metadata": {
        "colab": {
          "base_uri": "https://localhost:8080/",
          "height": 540
        },
        "id": "s5Jvz6r5gGqv",
        "outputId": "fbe93cc6-95af-4410-ad57-a25c398f8aa2"
      },
      "execution_count": null,
      "outputs": [
        {
          "output_type": "execute_result",
          "data": {
            "text/plain": [
              "<Axes: >"
            ]
          },
          "metadata": {},
          "execution_count": 218
        },
        {
          "output_type": "display_data",
          "data": {
            "text/plain": [
              "<Figure size 640x480 with 2 Axes>"
            ],
            "image/png": "[encoded data removed]"
          },
          "metadata": {}
        }
      ]
    },
    {
      "cell_type": "code",
      "source": [
        "dff_bank4.show()"
      ],
      "metadata": {
        "colab": {
          "base_uri": "https://localhost:8080/"
        },
        "id": "6KbnZ30aZDzS",
        "outputId": "d24e24f7-3549-4f67-b37f-43de592b004b"
      },
      "execution_count": null,
      "outputs": [
        {
          "output_type": "stream",
          "name": "stdout",
          "text": [
            "+---+------------+--------+-----------------+-------+-------+----+---------+-----+-----------+--------+--------+-----+--------+-----------+------------+--------------+-------------+---------+-----------+---+\n",
            "|age|         job| marital|        education|default|housing|loan|  contact|month|day_of_week|duration|campaign|pdays|previous|   poutcome|emp_var_rate|cons_price_idx|cons_conf_idx|euribor3m|nr_employed|  y|\n",
            "+---+------------+--------+-----------------+-------+-------+----+---------+-----+-----------+--------+--------+-----+--------+-----------+------------+--------------+-------------+---------+-----------+---+\n",
            "| 30|  management| married|university.degree|     no|     no|  no| cellular|  mar|        mon|     116|       1|  999|       0|nonexistent|        -1.8|        92.843|        -50.0|    1.811|     5099.1|  1|\n",
            "| 34|      admin.| married|university.degree|unknown|     no|  no| cellular|  aug|        tue|     146|       1|  999|       0|nonexistent|         1.4|        93.444|        -36.1|    4.968|     5228.1|  0|\n",
            "| 27|  unemployed|  single|university.degree|     no|    yes|  no| cellular|  jul|        tue|     120|       1|  999|       0|nonexistent|         1.4|        93.918|        -42.7|    4.961|     5228.1|  0|\n",
            "| 32|     student|  single|university.degree|     no|     no|  no| cellular|  may|        fri|     209|       1|  999|       0|nonexistent|        -1.8|        92.893|        -46.2|    1.313|     5099.1|  0|\n",
            "| 48| blue-collar| married|         basic.9y|     no|     no|  no| cellular|  aug|        mon|     348|       2|  999|       0|nonexistent|         1.4|        93.444|        -36.1|    4.965|     5228.1|  0|\n",
            "| 33|      admin.| married|university.degree|     no|     no|  no| cellular|  jul|        mon|     145|       2|  999|       0|nonexistent|         1.4|        93.918|        -42.7|     4.96|     5228.1|  0|\n",
            "| 53|      admin.|  single|         basic.6y|unknown|     no| yes| cellular|  apr|        fri|     351|       1|  999|       0|nonexistent|        -1.8|        93.075|        -47.1|    1.405|     5099.1|  0|\n",
            "| 34|      admin.| married|      high.school|     no|    yes|  no|telephone|  may|        tue|     207|       1|  999|       0|nonexistent|         1.1|        93.994|        -36.4|    4.857|     5191.0|  0|\n",
            "| 55| blue-collar| married|         basic.4y|     no|     no|  no| cellular|  aug|        fri|      94|       1|  999|       0|nonexistent|         1.4|        93.444|        -36.1|    4.963|     5228.1|  0|\n",
            "| 55|      admin.|  single|university.degree|unknown|    yes| yes|telephone|  may|        wed|     415|       1|  999|       0|nonexistent|         1.1|        93.994|        -36.4|    4.858|     5191.0|  0|\n",
            "| 54|      admin.| married|      high.school|     no|     no|  no| cellular|  may|        thu|     202|       2|  999|       0|nonexistent|        -1.8|        92.893|        -46.2|    1.327|     5099.1|  0|\n",
            "| 48|  management| married|university.degree|     no|     no|  no| cellular|  aug|        tue|     115|       2|  999|       0|nonexistent|         1.4|        93.444|        -36.1|    4.963|     5228.1|  0|\n",
            "| 34|  unemployed|  single|university.degree|     no|     no|  no| cellular|  jun|        tue|     401|       1|  999|       0|nonexistent|        -1.7|        94.055|        -39.8|    0.761|     4991.6|  1|\n",
            "| 40|  management| married|      high.school|     no|    yes| yes|telephone|  may|        tue|     265|       2|  999|       0|nonexistent|         1.1|        93.994|        -36.4|    4.857|     5191.0|  0|\n",
            "| 63|     retired| married|         basic.4y|     no|     no|  no|telephone|  aug|        thu|      49|       3|  999|       0|nonexistent|        -2.9|        92.201|        -31.4|    0.883|     5076.2|  0|\n",
            "| 41| blue-collar| married|         basic.6y|     no|     no|  no|telephone|  jun|        wed|      15|       1|  999|       0|nonexistent|         1.4|        94.465|        -41.8|    4.962|     5228.1|  0|\n",
            "| 49|   housemaid|divorced|         basic.4y|unknown|    yes|  no| cellular|  jul|        tue|     129|       1|  999|       0|nonexistent|         1.4|        93.918|        -42.7|    4.961|     5228.1|  0|\n",
            "| 34|  technician|  single|university.degree|     no|     no|  no| cellular|  sep|        fri|     152|       2|  999|       0|nonexistent|        -1.1|        94.199|        -37.5|    0.879|     4963.6|  0|\n",
            "| 36|entrepreneur| married|university.degree|     no|    yes|  no|telephone|  jun|        tue|      56|       1|  999|       0|nonexistent|         1.4|        94.465|        -41.8|    4.864|     5228.1|  0|\n",
            "| 29|  technician| married|      high.school|     no|     no|  no|telephone|  aug|        mon|     133|       5|  999|       0|nonexistent|         1.4|        93.444|        -36.1|    4.965|     5228.1|  0|\n",
            "+---+------------+--------+-----------------+-------+-------+----+---------+-----+-----------+--------+--------+-----+--------+-----------+------------+--------------+-------------+---------+-----------+---+\n",
            "only showing top 20 rows\n",
            "\n"
          ]
        }
      ]
    },
    {
      "cell_type": "markdown",
      "source": [],
      "metadata": {
        "id": "5pBa35uGjGaN"
      }
    },
    {
      "cell_type": "code",
      "source": [
        "\n",
        "dff_bank5 = dff_bank4"
      ],
      "metadata": {
        "id": "MiBDzOGeq5o1"
      },
      "execution_count": null,
      "outputs": []
    },
    {
      "cell_type": "code",
      "source": [
        "from pyspark.ml.feature import StringIndexer "
      ],
      "metadata": {
        "id": "mitl2oStq5rK"
      },
      "execution_count": null,
      "outputs": []
    },
    {
      "cell_type": "code",
      "source": [
        "cat_col = ['job','marital','education','default','housing','loan','contact','month','day_of_week','poutcome']"
      ],
      "metadata": {
        "id": "FOrRz4tkiI0A"
      },
      "execution_count": null,
      "outputs": []
    },
    {
      "cell_type": "code",
      "source": [
        "cat_col_in = ['job_in','marital_in','education_in','default_in','housing_in','loan_in','contact_in','month_in','day_of_week_in','poutcome_in']"
      ],
      "metadata": {
        "id": "j2fRjsmcjD0o"
      },
      "execution_count": null,
      "outputs": []
    },
    {
      "cell_type": "code",
      "source": [
        "\n",
        "dff_bank5_pp = dff_bank5.toPandas()\n",
        "dff_bank5_pp[numeric_col].hist(bins=50,figsize=(20,15))\n",
        "plt.show()"
      ],
      "metadata": {
        "colab": {
          "base_uri": "https://localhost:8080/",
          "height": 1000
        },
        "id": "7VIlbDPKleqd",
        "outputId": "d7e803e5-486c-45b4-857a-4b1347cfdbb6"
      },
      "execution_count": null,
      "outputs": [
        {
          "output_type": "display_data",
          "data": {
            "text/plain": [
              "<Figure size 2000x1500 with 12 Axes>"
            ],
            "image/png": "[encoded data removed]"
          },
          "metadata": {}
        }
      ]
    },
    {
      "cell_type": "code",
      "source": [
        "indexr_q = StringIndexer(inputCols=cat_col,outputCols=cat_col_in)"
      ],
      "metadata": {
        "id": "hrNAXZpdq5tj"
      },
      "execution_count": null,
      "outputs": []
    },
    {
      "cell_type": "code",
      "source": [
        "dff_bank5_in = indexr_q.fit(dff_bank5).transform(dff_bank5)\n"
      ],
      "metadata": {
        "id": "y8kQmlG2ZD1d"
      },
      "execution_count": null,
      "outputs": []
    },
    {
      "cell_type": "code",
      "source": [
        "dff_bank5_in.show()"
      ],
      "metadata": {
        "colab": {
          "base_uri": "https://localhost:8080/"
        },
        "id": "xybtZdIBpHvR",
        "outputId": "a6ae845f-e2f8-433b-f92b-8735e0649d1e"
      },
      "execution_count": null,
      "outputs": [
        {
          "output_type": "stream",
          "name": "stdout",
          "text": [
            "+---+------------+--------+-----------------+-------+-------+----+---------+-----+-----------+--------+--------+-----+--------+-----------+------------+--------------+-------------+---------+-----------+---+------+----------+------------+----------+----------+-------+----------+--------+--------------+-----------+\n",
            "|age|         job| marital|        education|default|housing|loan|  contact|month|day_of_week|duration|campaign|pdays|previous|   poutcome|emp_var_rate|cons_price_idx|cons_conf_idx|euribor3m|nr_employed|  y|job_in|marital_in|education_in|default_in|housing_in|loan_in|contact_in|month_in|day_of_week_in|poutcome_in|\n",
            "+---+------------+--------+-----------------+-------+-------+----+---------+-----+-----------+--------+--------+-----+--------+-----------+------------+--------------+-------------+---------+-----------+---+------+----------+------------+----------+----------+-------+----------+--------+--------------+-----------+\n",
            "| 30|  management| married|university.degree|     no|     no|  no| cellular|  mar|        mon|     116|       1|  999|       0|nonexistent|        -1.8|        92.843|        -50.0|    1.811|     5099.1|  1|   4.0|       0.0|         0.0|       0.0|       1.0|    0.0|       0.0|     6.0|           0.0|        0.0|\n",
            "| 34|      admin.| married|university.degree|unknown|     no|  no| cellular|  aug|        tue|     146|       1|  999|       0|nonexistent|         1.4|        93.444|        -36.1|    4.968|     5228.1|  0|   0.0|       0.0|         0.0|       1.0|       1.0|    0.0|       0.0|     2.0|           2.0|        0.0|\n",
            "| 27|  unemployed|  single|university.degree|     no|    yes|  no| cellular|  jul|        tue|     120|       1|  999|       0|nonexistent|         1.4|        93.918|        -42.7|    4.961|     5228.1|  0|   9.0|       1.0|         0.0|       0.0|       0.0|    0.0|       0.0|     1.0|           2.0|        0.0|\n",
            "| 32|     student|  single|university.degree|     no|     no|  no| cellular|  may|        fri|     209|       1|  999|       0|nonexistent|        -1.8|        92.893|        -46.2|    1.313|     5099.1|  0|  10.0|       1.0|         0.0|       0.0|       1.0|    0.0|       0.0|     0.0|           4.0|        0.0|\n",
            "| 48| blue-collar| married|         basic.9y|     no|     no|  no| cellular|  aug|        mon|     348|       2|  999|       0|nonexistent|         1.4|        93.444|        -36.1|    4.965|     5228.1|  0|   1.0|       0.0|         2.0|       0.0|       1.0|    0.0|       0.0|     2.0|           0.0|        0.0|\n",
            "| 33|      admin.| married|university.degree|     no|     no|  no| cellular|  jul|        mon|     145|       2|  999|       0|nonexistent|         1.4|        93.918|        -42.7|     4.96|     5228.1|  0|   0.0|       0.0|         0.0|       0.0|       1.0|    0.0|       0.0|     1.0|           0.0|        0.0|\n",
            "| 53|      admin.|  single|         basic.6y|unknown|     no| yes| cellular|  apr|        fri|     351|       1|  999|       0|nonexistent|        -1.8|        93.075|        -47.1|    1.405|     5099.1|  0|   0.0|       1.0|         5.0|       1.0|       1.0|    1.0|       0.0|     5.0|           4.0|        0.0|\n",
            "| 34|      admin.| married|      high.school|     no|    yes|  no|telephone|  may|        tue|     207|       1|  999|       0|nonexistent|         1.1|        93.994|        -36.4|    4.857|     5191.0|  0|   0.0|       0.0|         1.0|       0.0|       0.0|    0.0|       1.0|     0.0|           2.0|        0.0|\n",
            "| 55| blue-collar| married|         basic.4y|     no|     no|  no| cellular|  aug|        fri|      94|       1|  999|       0|nonexistent|         1.4|        93.444|        -36.1|    4.963|     5228.1|  0|   1.0|       0.0|         4.0|       0.0|       1.0|    0.0|       0.0|     2.0|           4.0|        0.0|\n",
            "| 55|      admin.|  single|university.degree|unknown|    yes| yes|telephone|  may|        wed|     415|       1|  999|       0|nonexistent|         1.1|        93.994|        -36.4|    4.858|     5191.0|  0|   0.0|       1.0|         0.0|       1.0|       0.0|    1.0|       1.0|     0.0|           3.0|        0.0|\n",
            "| 54|      admin.| married|      high.school|     no|     no|  no| cellular|  may|        thu|     202|       2|  999|       0|nonexistent|        -1.8|        92.893|        -46.2|    1.327|     5099.1|  0|   0.0|       0.0|         1.0|       0.0|       1.0|    0.0|       0.0|     0.0|           1.0|        0.0|\n",
            "| 48|  management| married|university.degree|     no|     no|  no| cellular|  aug|        tue|     115|       2|  999|       0|nonexistent|         1.4|        93.444|        -36.1|    4.963|     5228.1|  0|   4.0|       0.0|         0.0|       0.0|       1.0|    0.0|       0.0|     2.0|           2.0|        0.0|\n",
            "| 34|  unemployed|  single|university.degree|     no|     no|  no| cellular|  jun|        tue|     401|       1|  999|       0|nonexistent|        -1.7|        94.055|        -39.8|    0.761|     4991.6|  1|   9.0|       1.0|         0.0|       0.0|       1.0|    0.0|       0.0|     3.0|           2.0|        0.0|\n",
            "| 40|  management| married|      high.school|     no|    yes| yes|telephone|  may|        tue|     265|       2|  999|       0|nonexistent|         1.1|        93.994|        -36.4|    4.857|     5191.0|  0|   4.0|       0.0|         1.0|       0.0|       0.0|    1.0|       1.0|     0.0|           2.0|        0.0|\n",
            "| 63|     retired| married|         basic.4y|     no|     no|  no|telephone|  aug|        thu|      49|       3|  999|       0|nonexistent|        -2.9|        92.201|        -31.4|    0.883|     5076.2|  0|   7.0|       0.0|         4.0|       0.0|       1.0|    0.0|       1.0|     2.0|           1.0|        0.0|\n",
            "| 41| blue-collar| married|         basic.6y|     no|     no|  no|telephone|  jun|        wed|      15|       1|  999|       0|nonexistent|         1.4|        94.465|        -41.8|    4.962|     5228.1|  0|   1.0|       0.0|         5.0|       0.0|       1.0|    0.0|       1.0|     3.0|           3.0|        0.0|\n",
            "| 49|   housemaid|divorced|         basic.4y|unknown|    yes|  no| cellular|  jul|        tue|     129|       1|  999|       0|nonexistent|         1.4|        93.918|        -42.7|    4.961|     5228.1|  0|   8.0|       2.0|         4.0|       1.0|       0.0|    0.0|       0.0|     1.0|           2.0|        0.0|\n",
            "| 34|  technician|  single|university.degree|     no|     no|  no| cellular|  sep|        fri|     152|       2|  999|       0|nonexistent|        -1.1|        94.199|        -37.5|    0.879|     4963.6|  0|   2.0|       1.0|         0.0|       0.0|       1.0|    0.0|       0.0|     7.0|           4.0|        0.0|\n",
            "| 36|entrepreneur| married|university.degree|     no|    yes|  no|telephone|  jun|        tue|      56|       1|  999|       0|nonexistent|         1.4|        94.465|        -41.8|    4.864|     5228.1|  0|   5.0|       0.0|         0.0|       0.0|       0.0|    0.0|       1.0|     3.0|           2.0|        0.0|\n",
            "| 29|  technician| married|      high.school|     no|     no|  no|telephone|  aug|        mon|     133|       5|  999|       0|nonexistent|         1.4|        93.444|        -36.1|    4.965|     5228.1|  0|   2.0|       0.0|         1.0|       0.0|       1.0|    0.0|       1.0|     2.0|           0.0|        0.0|\n",
            "+---+------------+--------+-----------------+-------+-------+----+---------+-----+-----------+--------+--------+-----+--------+-----------+------------+--------------+-------------+---------+-----------+---+------+----------+------------+----------+----------+-------+----------+--------+--------------+-----------+\n",
            "only showing top 20 rows\n",
            "\n"
          ]
        }
      ]
    },
    {
      "cell_type": "code",
      "source": [
        "from pyspark.ml.feature import VectorAssembler"
      ],
      "metadata": {
        "id": "-7fQgQOhj6vj"
      },
      "execution_count": null,
      "outputs": []
    },
    {
      "cell_type": "code",
      "source": [
        "all_indexed_col = numeric_col+cat_col_in\n",
        "all_indexed_col"
      ],
      "metadata": {
        "colab": {
          "base_uri": "https://localhost:8080/"
        },
        "id": "IZoc_SfZll1m",
        "outputId": "237fefc9-e6b8-426d-a20d-01068477f3eb"
      },
      "execution_count": null,
      "outputs": [
        {
          "output_type": "execute_result",
          "data": {
            "text/plain": [
              "['age',\n",
              " 'duration',\n",
              " 'campaign',\n",
              " 'pdays',\n",
              " 'previous',\n",
              " 'emp_var_rate',\n",
              " 'cons_price_idx',\n",
              " 'cons_conf_idx',\n",
              " 'euribor3m',\n",
              " 'nr_employed',\n",
              " 'y',\n",
              " 'job_in',\n",
              " 'marital_in',\n",
              " 'education_in',\n",
              " 'default_in',\n",
              " 'housing_in',\n",
              " 'loan_in',\n",
              " 'contact_in',\n",
              " 'month_in',\n",
              " 'day_of_week_in',\n",
              " 'poutcome_in']"
            ]
          },
          "metadata": {},
          "execution_count": 158
        }
      ]
    },
    {
      "cell_type": "code",
      "source": [
        "dff_indexed  = dff_bank5_in[all_indexed_col]"
      ],
      "metadata": {
        "id": "svtPgb_el6U6"
      },
      "execution_count": null,
      "outputs": []
    },
    {
      "cell_type": "code",
      "source": [
        "dff_indexed.show(5)"
      ],
      "metadata": {
        "colab": {
          "base_uri": "https://localhost:8080/"
        },
        "id": "FO_qocuymVn0",
        "outputId": "4b3b2a7e-14dd-4810-83d9-25f695e2afc2"
      },
      "execution_count": null,
      "outputs": [
        {
          "output_type": "stream",
          "name": "stdout",
          "text": [
            "+---+--------+--------+-----+--------+------------+--------------+-------------+---------+-----------+---+------+----------+------------+----------+----------+-------+----------+--------+--------------+-----------+\n",
            "|age|duration|campaign|pdays|previous|emp_var_rate|cons_price_idx|cons_conf_idx|euribor3m|nr_employed|  y|job_in|marital_in|education_in|default_in|housing_in|loan_in|contact_in|month_in|day_of_week_in|poutcome_in|\n",
            "+---+--------+--------+-----+--------+------------+--------------+-------------+---------+-----------+---+------+----------+------------+----------+----------+-------+----------+--------+--------------+-----------+\n",
            "| 30|     116|       1|  999|       0|        -1.8|        92.843|        -50.0|    1.811|     5099.1|  1|   4.0|       0.0|         0.0|       0.0|       1.0|    0.0|       0.0|     6.0|           0.0|        0.0|\n",
            "| 34|     146|       1|  999|       0|         1.4|        93.444|        -36.1|    4.968|     5228.1|  0|   0.0|       0.0|         0.0|       1.0|       1.0|    0.0|       0.0|     2.0|           2.0|        0.0|\n",
            "| 27|     120|       1|  999|       0|         1.4|        93.918|        -42.7|    4.961|     5228.1|  0|   9.0|       1.0|         0.0|       0.0|       0.0|    0.0|       0.0|     1.0|           2.0|        0.0|\n",
            "| 32|     209|       1|  999|       0|        -1.8|        92.893|        -46.2|    1.313|     5099.1|  0|  10.0|       1.0|         0.0|       0.0|       1.0|    0.0|       0.0|     0.0|           4.0|        0.0|\n",
            "| 48|     348|       2|  999|       0|         1.4|        93.444|        -36.1|    4.965|     5228.1|  0|   1.0|       0.0|         2.0|       0.0|       1.0|    0.0|       0.0|     2.0|           0.0|        0.0|\n",
            "+---+--------+--------+-----+--------+------------+--------------+-------------+---------+-----------+---+------+----------+------------+----------+----------+-------+----------+--------+--------------+-----------+\n",
            "only showing top 5 rows\n",
            "\n"
          ]
        }
      ]
    },
    {
      "cell_type": "code",
      "source": [
        "dff_indexed_y = dff_indexed.select('y')"
      ],
      "metadata": {
        "id": "faSq6ybamYSR"
      },
      "execution_count": null,
      "outputs": []
    },
    {
      "cell_type": "code",
      "source": [
        "dff_indexed.show(5)"
      ],
      "metadata": {
        "colab": {
          "base_uri": "https://localhost:8080/"
        },
        "id": "uI1p2ZdEngkJ",
        "outputId": "a37222fb-a555-40e3-95d3-2615e1c9b54b"
      },
      "execution_count": null,
      "outputs": [
        {
          "output_type": "stream",
          "name": "stdout",
          "text": [
            "+---+--------+--------+-----+--------+------------+--------------+-------------+---------+-----------+---+------+----------+------------+----------+----------+-------+----------+--------+--------------+-----------+\n",
            "|age|duration|campaign|pdays|previous|emp_var_rate|cons_price_idx|cons_conf_idx|euribor3m|nr_employed|  y|job_in|marital_in|education_in|default_in|housing_in|loan_in|contact_in|month_in|day_of_week_in|poutcome_in|\n",
            "+---+--------+--------+-----+--------+------------+--------------+-------------+---------+-----------+---+------+----------+------------+----------+----------+-------+----------+--------+--------------+-----------+\n",
            "| 30|     116|       1|  999|       0|        -1.8|        92.843|        -50.0|    1.811|     5099.1|  1|   4.0|       0.0|         0.0|       0.0|       1.0|    0.0|       0.0|     6.0|           0.0|        0.0|\n",
            "| 34|     146|       1|  999|       0|         1.4|        93.444|        -36.1|    4.968|     5228.1|  0|   0.0|       0.0|         0.0|       1.0|       1.0|    0.0|       0.0|     2.0|           2.0|        0.0|\n",
            "| 27|     120|       1|  999|       0|         1.4|        93.918|        -42.7|    4.961|     5228.1|  0|   9.0|       1.0|         0.0|       0.0|       0.0|    0.0|       0.0|     1.0|           2.0|        0.0|\n",
            "| 32|     209|       1|  999|       0|        -1.8|        92.893|        -46.2|    1.313|     5099.1|  0|  10.0|       1.0|         0.0|       0.0|       1.0|    0.0|       0.0|     0.0|           4.0|        0.0|\n",
            "| 48|     348|       2|  999|       0|         1.4|        93.444|        -36.1|    4.965|     5228.1|  0|   1.0|       0.0|         2.0|       0.0|       1.0|    0.0|       0.0|     2.0|           0.0|        0.0|\n",
            "+---+--------+--------+-----+--------+------------+--------------+-------------+---------+-----------+---+------+----------+------------+----------+----------+-------+----------+--------+--------------+-----------+\n",
            "only showing top 5 rows\n",
            "\n"
          ]
        }
      ]
    },
    {
      "cell_type": "code",
      "source": [
        "dff_indexed_p = dff_indexed.toPandas()"
      ],
      "metadata": {
        "id": "ZjTNex2L8Rna"
      },
      "execution_count": null,
      "outputs": []
    },
    {
      "cell_type": "code",
      "source": [
        "dff_indexed2_corr = dff_indexed_p.corr()\n"
      ],
      "metadata": {
        "id": "pM0QuEgi7KTe"
      },
      "execution_count": null,
      "outputs": []
    },
    {
      "cell_type": "code",
      "source": [
        "dff_indexed2_corr"
      ],
      "metadata": {
        "colab": {
          "base_uri": "https://localhost:8080/",
          "height": 737
        },
        "id": "IPMmuQ_X7KlD",
        "outputId": "1a8d4fd4-b108-448a-ad12-3c1c4f0db0f7"
      },
      "execution_count": null,
      "outputs": [
        {
          "output_type": "execute_result",
          "data": {
            "text/plain": [
              "                     age  duration  campaign  pdays  previous  emp_var_rate  \\\n",
              "age             1.000000  0.000903  0.011035    NaN       NaN      0.081601   \n",
              "duration        0.000903  1.000000 -0.056114    NaN       NaN     -0.041285   \n",
              "campaign        0.011035 -0.056114  1.000000    NaN       NaN      0.073818   \n",
              "pdays                NaN       NaN       NaN    NaN       NaN           NaN   \n",
              "previous             NaN       NaN       NaN    NaN       NaN           NaN   \n",
              "emp_var_rate    0.081601 -0.041285  0.073818    NaN       NaN      1.000000   \n",
              "cons_price_idx  0.044938 -0.009544  0.060048    NaN       NaN      0.783043   \n",
              "cons_conf_idx   0.107444 -0.001549 -0.009751    NaN       NaN      0.378297   \n",
              "euribor3m       0.092345 -0.042370  0.057312    NaN       NaN      0.975943   \n",
              "nr_employed     0.080161 -0.054691  0.069804    NaN       NaN      0.922534   \n",
              "y              -0.029425  0.260089 -0.041689    NaN       NaN     -0.306550   \n",
              "job_in          0.122787  0.003498 -0.013215    NaN       NaN     -0.050294   \n",
              "marital_in     -0.123418  0.003788  0.007225    NaN       NaN     -0.044526   \n",
              "education_in    0.171871  0.015271  0.004736    NaN       NaN      0.064639   \n",
              "default_in      0.204537 -0.005733  0.017575    NaN       NaN      0.180833   \n",
              "housing_in      0.005516  0.003357  0.004239    NaN       NaN      0.059486   \n",
              "loan_in        -0.002802 -0.012275  0.007427    NaN       NaN      0.006355   \n",
              "contact_in      0.035426 -0.024868  0.026276    NaN       NaN      0.347496   \n",
              "month_in        0.031183 -0.026482 -0.061258    NaN       NaN     -0.264911   \n",
              "day_of_week_in -0.006344 -0.002404 -0.014720    NaN       NaN      0.020184   \n",
              "poutcome_in          NaN       NaN       NaN    NaN       NaN           NaN   \n",
              "\n",
              "                cons_price_idx  cons_conf_idx  euribor3m  nr_employed  ...  \\\n",
              "age                   0.044938       0.107444   0.092345     0.080161  ...   \n",
              "duration             -0.009544      -0.001549  -0.042370    -0.054691  ...   \n",
              "campaign              0.060048      -0.009751   0.057312     0.069804  ...   \n",
              "pdays                      NaN            NaN        NaN          NaN  ...   \n",
              "previous                   NaN            NaN        NaN          NaN  ...   \n",
              "emp_var_rate          0.783043       0.378297   0.975943     0.922534  ...   \n",
              "cons_price_idx        1.000000       0.182768   0.723606     0.588922  ...   \n",
              "cons_conf_idx         0.182768       1.000000   0.439164     0.257667  ...   \n",
              "euribor3m             0.723606       0.439164   1.000000     0.946765  ...   \n",
              "nr_employed           0.588922       0.257667   0.946765     1.000000  ...   \n",
              "y                    -0.182667      -0.032101  -0.301908    -0.329603  ...   \n",
              "job_in               -0.014738       0.015469  -0.042167    -0.056160  ...   \n",
              "marital_in           -0.024995      -0.057490  -0.048132    -0.041642  ...   \n",
              "education_in          0.106843      -0.010203   0.057170     0.046022  ...   \n",
              "default_in            0.165940       0.063258   0.170722     0.159365  ...   \n",
              "housing_in            0.089575       0.038894   0.058960     0.044244  ...   \n",
              "loan_in               0.009412      -0.000871   0.005017     0.005799  ...   \n",
              "contact_in            0.626938       0.310258   0.355709     0.195952  ...   \n",
              "month_in             -0.170845      -0.199116  -0.220551    -0.173853  ...   \n",
              "day_of_week_in        0.017671       0.052043   0.025947     0.013038  ...   \n",
              "poutcome_in                NaN            NaN        NaN          NaN  ...   \n",
              "\n",
              "                  job_in  marital_in  education_in  default_in  housing_in  \\\n",
              "age             0.122787   -0.123418      0.171871    0.204537    0.005516   \n",
              "duration        0.003498    0.003788      0.015271   -0.005733    0.003357   \n",
              "campaign       -0.013215    0.007225      0.004736    0.017575    0.004239   \n",
              "pdays                NaN         NaN           NaN         NaN         NaN   \n",
              "previous             NaN         NaN           NaN         NaN         NaN   \n",
              "emp_var_rate   -0.050294   -0.044526      0.064639    0.180833    0.059486   \n",
              "cons_price_idx -0.014738   -0.024995      0.106843    0.165940    0.089575   \n",
              "cons_conf_idx   0.015469   -0.057490     -0.010203    0.063258    0.038894   \n",
              "euribor3m      -0.042167   -0.048132      0.057170    0.170722    0.058960   \n",
              "nr_employed    -0.056160   -0.041642      0.046022    0.159365    0.044244   \n",
              "y               0.040547    0.026944     -0.046463   -0.089903   -0.020804   \n",
              "job_in          1.000000   -0.015024      0.086374    0.040180    0.001532   \n",
              "marital_in     -0.015024    1.000000     -0.117541   -0.106249   -0.001714   \n",
              "education_in    0.086374   -0.117541      1.000000    0.204972    0.016449   \n",
              "default_in      0.040180   -0.106249      0.204972    1.000000    0.013742   \n",
              "housing_in      0.001532   -0.001714      0.016449    0.013742    1.000000   \n",
              "loan_in        -0.004701   -0.000729     -0.002933    0.006687    0.233774   \n",
              "contact_in      0.012676   -0.041347      0.102240    0.117552    0.093073   \n",
              "month_in        0.053952    0.008222     -0.084307   -0.117643   -0.032438   \n",
              "day_of_week_in -0.015922   -0.004638      0.008481   -0.008068    0.023873   \n",
              "poutcome_in          NaN         NaN           NaN         NaN         NaN   \n",
              "\n",
              "                 loan_in  contact_in  month_in  day_of_week_in  poutcome_in  \n",
              "age            -0.002802    0.035426  0.031183       -0.006344          NaN  \n",
              "duration       -0.012275   -0.024868 -0.026482       -0.002404          NaN  \n",
              "campaign        0.007427    0.026276 -0.061258       -0.014720          NaN  \n",
              "pdays                NaN         NaN       NaN             NaN          NaN  \n",
              "previous             NaN         NaN       NaN             NaN          NaN  \n",
              "emp_var_rate    0.006355    0.347496 -0.264911        0.020184          NaN  \n",
              "cons_price_idx  0.009412    0.626938 -0.170845        0.017671          NaN  \n",
              "cons_conf_idx  -0.000871    0.310258 -0.199116        0.052043          NaN  \n",
              "euribor3m       0.005017    0.355709 -0.220551        0.025947          NaN  \n",
              "nr_employed     0.005799    0.195952 -0.173853        0.013038          NaN  \n",
              "y              -0.012323   -0.122416  0.214829       -0.001676          NaN  \n",
              "job_in         -0.004701    0.012676  0.053952       -0.015922          NaN  \n",
              "marital_in     -0.000729   -0.041347  0.008222       -0.004638          NaN  \n",
              "education_in   -0.002933    0.102240 -0.084307        0.008481          NaN  \n",
              "default_in      0.006687    0.117552 -0.117643       -0.008068          NaN  \n",
              "housing_in      0.233774    0.093073 -0.032438        0.023873          NaN  \n",
              "loan_in         1.000000    0.009664 -0.008890        0.008291          NaN  \n",
              "contact_in      0.009664    1.000000 -0.232021        0.054680          NaN  \n",
              "month_in       -0.008890   -0.232021  1.000000       -0.035709          NaN  \n",
              "day_of_week_in  0.008291    0.054680 -0.035709        1.000000          NaN  \n",
              "poutcome_in          NaN         NaN       NaN             NaN          NaN  \n",
              "\n",
              "[21 rows x 21 columns]"
            ],
            "text/html": [
              "\n",
              "  <div id=\"df-85d8727f-76f0-4883-98e6-33be2f944277\">\n",
              "    <div class=\"colab-df-container\">\n",
              "      <div>\n",
              "<style scoped>\n",
              "    .dataframe tbody tr th:only-of-type {\n",
              "        vertical-align: middle;\n",
              "    }\n",
              "\n",
              "    .dataframe tbody tr th {\n",
              "        vertical-align: top;\n",
              "    }\n",
              "\n",
              "    .dataframe thead th {\n",
              "        text-align: right;\n",
              "    }\n",
              "</style>\n",
              "<table border=\"1\" class=\"dataframe\">\n",
              "  <thead>\n",
              "    <tr style=\"text-align: right;\">\n",
              "      <th></th>\n",
              "      <th>age</th>\n",
              "      <th>duration</th>\n",
              "      <th>campaign</th>\n",
              "      <th>pdays</th>\n",
              "      <th>previous</th>\n",
              "      <th>emp_var_rate</th>\n",
              "      <th>cons_price_idx</th>\n",
              "      <th>cons_conf_idx</th>\n",
              "      <th>euribor3m</th>\n",
              "      <th>nr_employed</th>\n",
              "      <th>...</th>\n",
              "      <th>job_in</th>\n",
              "      <th>marital_in</th>\n",
              "      <th>education_in</th>\n",
              "      <th>default_in</th>\n",
              "      <th>housing_in</th>\n",
              "      <th>loan_in</th>\n",
              "      <th>contact_in</th>\n",
              "      <th>month_in</th>\n",
              "      <th>day_of_week_in</th>\n",
              "      <th>poutcome_in</th>\n",
              "    </tr>\n",
              "  </thead>\n",
              "  <tbody>\n",
              "    <tr>\n",
              "      <th>age</th>\n",
              "      <td>1.000000</td>\n",
              "      <td>0.000903</td>\n",
              "      <td>0.011035</td>\n",
              "      <td>NaN</td>\n",
              "      <td>NaN</td>\n",
              "      <td>0.081601</td>\n",
              "      <td>0.044938</td>\n",
              "      <td>0.107444</td>\n",
              "      <td>0.092345</td>\n",
              "      <td>0.080161</td>\n",
              "      <td>...</td>\n",
              "      <td>0.122787</td>\n",
              "      <td>-0.123418</td>\n",
              "      <td>0.171871</td>\n",
              "      <td>0.204537</td>\n",
              "      <td>0.005516</td>\n",
              "      <td>-0.002802</td>\n",
              "      <td>0.035426</td>\n",
              "      <td>0.031183</td>\n",
              "      <td>-0.006344</td>\n",
              "      <td>NaN</td>\n",
              "    </tr>\n",
              "    <tr>\n",
              "      <th>duration</th>\n",
              "      <td>0.000903</td>\n",
              "      <td>1.000000</td>\n",
              "      <td>-0.056114</td>\n",
              "      <td>NaN</td>\n",
              "      <td>NaN</td>\n",
              "      <td>-0.041285</td>\n",
              "      <td>-0.009544</td>\n",
              "      <td>-0.001549</td>\n",
              "      <td>-0.042370</td>\n",
              "      <td>-0.054691</td>\n",
              "      <td>...</td>\n",
              "      <td>0.003498</td>\n",
              "      <td>0.003788</td>\n",
              "      <td>0.015271</td>\n",
              "      <td>-0.005733</td>\n",
              "      <td>0.003357</td>\n",
              "      <td>-0.012275</td>\n",
              "      <td>-0.024868</td>\n",
              "      <td>-0.026482</td>\n",
              "      <td>-0.002404</td>\n",
              "      <td>NaN</td>\n",
              "    </tr>\n",
              "    <tr>\n",
              "      <th>campaign</th>\n",
              "      <td>0.011035</td>\n",
              "      <td>-0.056114</td>\n",
              "      <td>1.000000</td>\n",
              "      <td>NaN</td>\n",
              "      <td>NaN</td>\n",
              "      <td>0.073818</td>\n",
              "      <td>0.060048</td>\n",
              "      <td>-0.009751</td>\n",
              "      <td>0.057312</td>\n",
              "      <td>0.069804</td>\n",
              "      <td>...</td>\n",
              "      <td>-0.013215</td>\n",
              "      <td>0.007225</td>\n",
              "      <td>0.004736</td>\n",
              "      <td>0.017575</td>\n",
              "      <td>0.004239</td>\n",
              "      <td>0.007427</td>\n",
              "      <td>0.026276</td>\n",
              "      <td>-0.061258</td>\n",
              "      <td>-0.014720</td>\n",
              "      <td>NaN</td>\n",
              "    </tr>\n",
              "    <tr>\n",
              "      <th>pdays</th>\n",
              "      <td>NaN</td>\n",
              "      <td>NaN</td>\n",
              "      <td>NaN</td>\n",
              "      <td>NaN</td>\n",
              "      <td>NaN</td>\n",
              "      <td>NaN</td>\n",
              "      <td>NaN</td>\n",
              "      <td>NaN</td>\n",
              "      <td>NaN</td>\n",
              "      <td>NaN</td>\n",
              "      <td>...</td>\n",
              "      <td>NaN</td>\n",
              "      <td>NaN</td>\n",
              "      <td>NaN</td>\n",
              "      <td>NaN</td>\n",
              "      <td>NaN</td>\n",
              "      <td>NaN</td>\n",
              "      <td>NaN</td>\n",
              "      <td>NaN</td>\n",
              "      <td>NaN</td>\n",
              "      <td>NaN</td>\n",
              "    </tr>\n",
              "    <tr>\n",
              "      <th>previous</th>\n",
              "      <td>NaN</td>\n",
              "      <td>NaN</td>\n",
              "      <td>NaN</td>\n",
              "      <td>NaN</td>\n",
              "      <td>NaN</td>\n",
              "      <td>NaN</td>\n",
              "      <td>NaN</td>\n",
              "      <td>NaN</td>\n",
              "      <td>NaN</td>\n",
              "      <td>NaN</td>\n",
              "      <td>...</td>\n",
              "      <td>NaN</td>\n",
              "      <td>NaN</td>\n",
              "      <td>NaN</td>\n",
              "      <td>NaN</td>\n",
              "      <td>NaN</td>\n",
              "      <td>NaN</td>\n",
              "      <td>NaN</td>\n",
              "      <td>NaN</td>\n",
              "      <td>NaN</td>\n",
              "      <td>NaN</td>\n",
              "    </tr>\n",
              "    <tr>\n",
              "      <th>emp_var_rate</th>\n",
              "      <td>0.081601</td>\n",
              "      <td>-0.041285</td>\n",
              "      <td>0.073818</td>\n",
              "      <td>NaN</td>\n",
              "      <td>NaN</td>\n",
              "      <td>1.000000</td>\n",
              "      <td>0.783043</td>\n",
              "      <td>0.378297</td>\n",
              "      <td>0.975943</td>\n",
              "      <td>0.922534</td>\n",
              "      <td>...</td>\n",
              "      <td>-0.050294</td>\n",
              "      <td>-0.044526</td>\n",
              "      <td>0.064639</td>\n",
              "      <td>0.180833</td>\n",
              "      <td>0.059486</td>\n",
              "      <td>0.006355</td>\n",
              "      <td>0.347496</td>\n",
              "      <td>-0.264911</td>\n",
              "      <td>0.020184</td>\n",
              "      <td>NaN</td>\n",
              "    </tr>\n",
              "    <tr>\n",
              "      <th>cons_price_idx</th>\n",
              "      <td>0.044938</td>\n",
              "      <td>-0.009544</td>\n",
              "      <td>0.060048</td>\n",
              "      <td>NaN</td>\n",
              "      <td>NaN</td>\n",
              "      <td>0.783043</td>\n",
              "      <td>1.000000</td>\n",
              "      <td>0.182768</td>\n",
              "      <td>0.723606</td>\n",
              "      <td>0.588922</td>\n",
              "      <td>...</td>\n",
              "      <td>-0.014738</td>\n",
              "      <td>-0.024995</td>\n",
              "      <td>0.106843</td>\n",
              "      <td>0.165940</td>\n",
              "      <td>0.089575</td>\n",
              "      <td>0.009412</td>\n",
              "      <td>0.626938</td>\n",
              "      <td>-0.170845</td>\n",
              "      <td>0.017671</td>\n",
              "      <td>NaN</td>\n",
              "    </tr>\n",
              "    <tr>\n",
              "      <th>cons_conf_idx</th>\n",
              "      <td>0.107444</td>\n",
              "      <td>-0.001549</td>\n",
              "      <td>-0.009751</td>\n",
              "      <td>NaN</td>\n",
              "      <td>NaN</td>\n",
              "      <td>0.378297</td>\n",
              "      <td>0.182768</td>\n",
              "      <td>1.000000</td>\n",
              "      <td>0.439164</td>\n",
              "      <td>0.257667</td>\n",
              "      <td>...</td>\n",
              "      <td>0.015469</td>\n",
              "      <td>-0.057490</td>\n",
              "      <td>-0.010203</td>\n",
              "      <td>0.063258</td>\n",
              "      <td>0.038894</td>\n",
              "      <td>-0.000871</td>\n",
              "      <td>0.310258</td>\n",
              "      <td>-0.199116</td>\n",
              "      <td>0.052043</td>\n",
              "      <td>NaN</td>\n",
              "    </tr>\n",
              "    <tr>\n",
              "      <th>euribor3m</th>\n",
              "      <td>0.092345</td>\n",
              "      <td>-0.042370</td>\n",
              "      <td>0.057312</td>\n",
              "      <td>NaN</td>\n",
              "      <td>NaN</td>\n",
              "      <td>0.975943</td>\n",
              "      <td>0.723606</td>\n",
              "      <td>0.439164</td>\n",
              "      <td>1.000000</td>\n",
              "      <td>0.946765</td>\n",
              "      <td>...</td>\n",
              "      <td>-0.042167</td>\n",
              "      <td>-0.048132</td>\n",
              "      <td>0.057170</td>\n",
              "      <td>0.170722</td>\n",
              "      <td>0.058960</td>\n",
              "      <td>0.005017</td>\n",
              "      <td>0.355709</td>\n",
              "      <td>-0.220551</td>\n",
              "      <td>0.025947</td>\n",
              "      <td>NaN</td>\n",
              "    </tr>\n",
              "    <tr>\n",
              "      <th>nr_employed</th>\n",
              "      <td>0.080161</td>\n",
              "      <td>-0.054691</td>\n",
              "      <td>0.069804</td>\n",
              "      <td>NaN</td>\n",
              "      <td>NaN</td>\n",
              "      <td>0.922534</td>\n",
              "      <td>0.588922</td>\n",
              "      <td>0.257667</td>\n",
              "      <td>0.946765</td>\n",
              "      <td>1.000000</td>\n",
              "      <td>...</td>\n",
              "      <td>-0.056160</td>\n",
              "      <td>-0.041642</td>\n",
              "      <td>0.046022</td>\n",
              "      <td>0.159365</td>\n",
              "      <td>0.044244</td>\n",
              "      <td>0.005799</td>\n",
              "      <td>0.195952</td>\n",
              "      <td>-0.173853</td>\n",
              "      <td>0.013038</td>\n",
              "      <td>NaN</td>\n",
              "    </tr>\n",
              "    <tr>\n",
              "      <th>y</th>\n",
              "      <td>-0.029425</td>\n",
              "      <td>0.260089</td>\n",
              "      <td>-0.041689</td>\n",
              "      <td>NaN</td>\n",
              "      <td>NaN</td>\n",
              "      <td>-0.306550</td>\n",
              "      <td>-0.182667</td>\n",
              "      <td>-0.032101</td>\n",
              "      <td>-0.301908</td>\n",
              "      <td>-0.329603</td>\n",
              "      <td>...</td>\n",
              "      <td>0.040547</td>\n",
              "      <td>0.026944</td>\n",
              "      <td>-0.046463</td>\n",
              "      <td>-0.089903</td>\n",
              "      <td>-0.020804</td>\n",
              "      <td>-0.012323</td>\n",
              "      <td>-0.122416</td>\n",
              "      <td>0.214829</td>\n",
              "      <td>-0.001676</td>\n",
              "      <td>NaN</td>\n",
              "    </tr>\n",
              "    <tr>\n",
              "      <th>job_in</th>\n",
              "      <td>0.122787</td>\n",
              "      <td>0.003498</td>\n",
              "      <td>-0.013215</td>\n",
              "      <td>NaN</td>\n",
              "      <td>NaN</td>\n",
              "      <td>-0.050294</td>\n",
              "      <td>-0.014738</td>\n",
              "      <td>0.015469</td>\n",
              "      <td>-0.042167</td>\n",
              "      <td>-0.056160</td>\n",
              "      <td>...</td>\n",
              "      <td>1.000000</td>\n",
              "      <td>-0.015024</td>\n",
              "      <td>0.086374</td>\n",
              "      <td>0.040180</td>\n",
              "      <td>0.001532</td>\n",
              "      <td>-0.004701</td>\n",
              "      <td>0.012676</td>\n",
              "      <td>0.053952</td>\n",
              "      <td>-0.015922</td>\n",
              "      <td>NaN</td>\n",
              "    </tr>\n",
              "    <tr>\n",
              "      <th>marital_in</th>\n",
              "      <td>-0.123418</td>\n",
              "      <td>0.003788</td>\n",
              "      <td>0.007225</td>\n",
              "      <td>NaN</td>\n",
              "      <td>NaN</td>\n",
              "      <td>-0.044526</td>\n",
              "      <td>-0.024995</td>\n",
              "      <td>-0.057490</td>\n",
              "      <td>-0.048132</td>\n",
              "      <td>-0.041642</td>\n",
              "      <td>...</td>\n",
              "      <td>-0.015024</td>\n",
              "      <td>1.000000</td>\n",
              "      <td>-0.117541</td>\n",
              "      <td>-0.106249</td>\n",
              "      <td>-0.001714</td>\n",
              "      <td>-0.000729</td>\n",
              "      <td>-0.041347</td>\n",
              "      <td>0.008222</td>\n",
              "      <td>-0.004638</td>\n",
              "      <td>NaN</td>\n",
              "    </tr>\n",
              "    <tr>\n",
              "      <th>education_in</th>\n",
              "      <td>0.171871</td>\n",
              "      <td>0.015271</td>\n",
              "      <td>0.004736</td>\n",
              "      <td>NaN</td>\n",
              "      <td>NaN</td>\n",
              "      <td>0.064639</td>\n",
              "      <td>0.106843</td>\n",
              "      <td>-0.010203</td>\n",
              "      <td>0.057170</td>\n",
              "      <td>0.046022</td>\n",
              "      <td>...</td>\n",
              "      <td>0.086374</td>\n",
              "      <td>-0.117541</td>\n",
              "      <td>1.000000</td>\n",
              "      <td>0.204972</td>\n",
              "      <td>0.016449</td>\n",
              "      <td>-0.002933</td>\n",
              "      <td>0.102240</td>\n",
              "      <td>-0.084307</td>\n",
              "      <td>0.008481</td>\n",
              "      <td>NaN</td>\n",
              "    </tr>\n",
              "    <tr>\n",
              "      <th>default_in</th>\n",
              "      <td>0.204537</td>\n",
              "      <td>-0.005733</td>\n",
              "      <td>0.017575</td>\n",
              "      <td>NaN</td>\n",
              "      <td>NaN</td>\n",
              "      <td>0.180833</td>\n",
              "      <td>0.165940</td>\n",
              "      <td>0.063258</td>\n",
              "      <td>0.170722</td>\n",
              "      <td>0.159365</td>\n",
              "      <td>...</td>\n",
              "      <td>0.040180</td>\n",
              "      <td>-0.106249</td>\n",
              "      <td>0.204972</td>\n",
              "      <td>1.000000</td>\n",
              "      <td>0.013742</td>\n",
              "      <td>0.006687</td>\n",
              "      <td>0.117552</td>\n",
              "      <td>-0.117643</td>\n",
              "      <td>-0.008068</td>\n",
              "      <td>NaN</td>\n",
              "    </tr>\n",
              "    <tr>\n",
              "      <th>housing_in</th>\n",
              "      <td>0.005516</td>\n",
              "      <td>0.003357</td>\n",
              "      <td>0.004239</td>\n",
              "      <td>NaN</td>\n",
              "      <td>NaN</td>\n",
              "      <td>0.059486</td>\n",
              "      <td>0.089575</td>\n",
              "      <td>0.038894</td>\n",
              "      <td>0.058960</td>\n",
              "      <td>0.044244</td>\n",
              "      <td>...</td>\n",
              "      <td>0.001532</td>\n",
              "      <td>-0.001714</td>\n",
              "      <td>0.016449</td>\n",
              "      <td>0.013742</td>\n",
              "      <td>1.000000</td>\n",
              "      <td>0.233774</td>\n",
              "      <td>0.093073</td>\n",
              "      <td>-0.032438</td>\n",
              "      <td>0.023873</td>\n",
              "      <td>NaN</td>\n",
              "    </tr>\n",
              "    <tr>\n",
              "      <th>loan_in</th>\n",
              "      <td>-0.002802</td>\n",
              "      <td>-0.012275</td>\n",
              "      <td>0.007427</td>\n",
              "      <td>NaN</td>\n",
              "      <td>NaN</td>\n",
              "      <td>0.006355</td>\n",
              "      <td>0.009412</td>\n",
              "      <td>-0.000871</td>\n",
              "      <td>0.005017</td>\n",
              "      <td>0.005799</td>\n",
              "      <td>...</td>\n",
              "      <td>-0.004701</td>\n",
              "      <td>-0.000729</td>\n",
              "      <td>-0.002933</td>\n",
              "      <td>0.006687</td>\n",
              "      <td>0.233774</td>\n",
              "      <td>1.000000</td>\n",
              "      <td>0.009664</td>\n",
              "      <td>-0.008890</td>\n",
              "      <td>0.008291</td>\n",
              "      <td>NaN</td>\n",
              "    </tr>\n",
              "    <tr>\n",
              "      <th>contact_in</th>\n",
              "      <td>0.035426</td>\n",
              "      <td>-0.024868</td>\n",
              "      <td>0.026276</td>\n",
              "      <td>NaN</td>\n",
              "      <td>NaN</td>\n",
              "      <td>0.347496</td>\n",
              "      <td>0.626938</td>\n",
              "      <td>0.310258</td>\n",
              "      <td>0.355709</td>\n",
              "      <td>0.195952</td>\n",
              "      <td>...</td>\n",
              "      <td>0.012676</td>\n",
              "      <td>-0.041347</td>\n",
              "      <td>0.102240</td>\n",
              "      <td>0.117552</td>\n",
              "      <td>0.093073</td>\n",
              "      <td>0.009664</td>\n",
              "      <td>1.000000</td>\n",
              "      <td>-0.232021</td>\n",
              "      <td>0.054680</td>\n",
              "      <td>NaN</td>\n",
              "    </tr>\n",
              "    <tr>\n",
              "      <th>month_in</th>\n",
              "      <td>0.031183</td>\n",
              "      <td>-0.026482</td>\n",
              "      <td>-0.061258</td>\n",
              "      <td>NaN</td>\n",
              "      <td>NaN</td>\n",
              "      <td>-0.264911</td>\n",
              "      <td>-0.170845</td>\n",
              "      <td>-0.199116</td>\n",
              "      <td>-0.220551</td>\n",
              "      <td>-0.173853</td>\n",
              "      <td>...</td>\n",
              "      <td>0.053952</td>\n",
              "      <td>0.008222</td>\n",
              "      <td>-0.084307</td>\n",
              "      <td>-0.117643</td>\n",
              "      <td>-0.032438</td>\n",
              "      <td>-0.008890</td>\n",
              "      <td>-0.232021</td>\n",
              "      <td>1.000000</td>\n",
              "      <td>-0.035709</td>\n",
              "      <td>NaN</td>\n",
              "    </tr>\n",
              "    <tr>\n",
              "      <th>day_of_week_in</th>\n",
              "      <td>-0.006344</td>\n",
              "      <td>-0.002404</td>\n",
              "      <td>-0.014720</td>\n",
              "      <td>NaN</td>\n",
              "      <td>NaN</td>\n",
              "      <td>0.020184</td>\n",
              "      <td>0.017671</td>\n",
              "      <td>0.052043</td>\n",
              "      <td>0.025947</td>\n",
              "      <td>0.013038</td>\n",
              "      <td>...</td>\n",
              "      <td>-0.015922</td>\n",
              "      <td>-0.004638</td>\n",
              "      <td>0.008481</td>\n",
              "      <td>-0.008068</td>\n",
              "      <td>0.023873</td>\n",
              "      <td>0.008291</td>\n",
              "      <td>0.054680</td>\n",
              "      <td>-0.035709</td>\n",
              "      <td>1.000000</td>\n",
              "      <td>NaN</td>\n",
              "    </tr>\n",
              "    <tr>\n",
              "      <th>poutcome_in</th>\n",
              "      <td>NaN</td>\n",
              "      <td>NaN</td>\n",
              "      <td>NaN</td>\n",
              "      <td>NaN</td>\n",
              "      <td>NaN</td>\n",
              "      <td>NaN</td>\n",
              "      <td>NaN</td>\n",
              "      <td>NaN</td>\n",
              "      <td>NaN</td>\n",
              "      <td>NaN</td>\n",
              "      <td>...</td>\n",
              "      <td>NaN</td>\n",
              "      <td>NaN</td>\n",
              "      <td>NaN</td>\n",
              "      <td>NaN</td>\n",
              "      <td>NaN</td>\n",
              "      <td>NaN</td>\n",
              "      <td>NaN</td>\n",
              "      <td>NaN</td>\n",
              "      <td>NaN</td>\n",
              "      <td>NaN</td>\n",
              "    </tr>\n",
              "  </tbody>\n",
              "</table>\n",
              "<p>21 rows × 21 columns</p>\n",
              "</div>\n",
              "      <button class=\"colab-df-convert\" onclick=\"convertToInteractive('df-85d8727f-76f0-4883-98e6-33be2f944277')\"\n",
              "              title=\"Convert this dataframe to an interactive table.\"\n",
              "              style=\"display:none;\">\n",
              "        \n",
              "  <svg xmlns=\"http://www.w3.org/2000/svg\" height=\"24px\"viewBox=\"0 0 24 24\"\n",
              "       width=\"24px\">\n",
              "    <path d=\"M0 0h24v24H0V0z\" fill=\"none\"/>\n",
              "    <path d=\"M18.56 5.44l.94 2.06.94-2.06 2.06-.94-2.06-.94-.94-2.06-.94 2.06-2.06.94zm-11 1L8.5 8.5l.94-2.06 2.06-.94-2.06-.94L8.5 2.5l-.94 2.06-2.06.94zm10 10l.94 2.06.94-2.06 2.06-.94-2.06-.94-.94-2.06-.94 2.06-2.06.94z\"/><path d=\"M17.41 7.96l-1.37-1.37c-.4-.4-.92-.59-1.43-.59-.52 0-1.04.2-1.43.59L10.3 9.45l-7.72 7.72c-.78.78-.78 2.05 0 2.83L4 21.41c.39.39.9.59 1.41.59.51 0 1.02-.2 1.41-.59l7.78-7.78 2.81-2.81c.8-.78.8-2.07 0-2.86zM5.41 20L4 18.59l7.72-7.72 1.47 1.35L5.41 20z\"/>\n",
              "  </svg>\n",
              "      </button>\n",
              "      \n",
              "  <style>\n",
              "    .colab-df-container {\n",
              "      display:flex;\n",
              "      flex-wrap:wrap;\n",
              "      gap: 12px;\n",
              "    }\n",
              "\n",
              "    .colab-df-convert {\n",
              "      background-color: #E8F0FE;\n",
              "      border: none;\n",
              "      border-radius: 50%;\n",
              "      cursor: pointer;\n",
              "      display: none;\n",
              "      fill: #1967D2;\n",
              "      height: 32px;\n",
              "      padding: 0 0 0 0;\n",
              "      width: 32px;\n",
              "    }\n",
              "\n",
              "    .colab-df-convert:hover {\n",
              "      background-color: #E2EBFA;\n",
              "      box-shadow: 0px 1px 2px rgba(60, 64, 67, 0.3), 0px 1px 3px 1px rgba(60, 64, 67, 0.15);\n",
              "      fill: #174EA6;\n",
              "    }\n",
              "\n",
              "    [theme=dark] .colab-df-convert {\n",
              "      background-color: #3B4455;\n",
              "      fill: #D2E3FC;\n",
              "    }\n",
              "\n",
              "    [theme=dark] .colab-df-convert:hover {\n",
              "      background-color: #434B5C;\n",
              "      box-shadow: 0px 1px 3px 1px rgba(0, 0, 0, 0.15);\n",
              "      filter: drop-shadow(0px 1px 2px rgba(0, 0, 0, 0.3));\n",
              "      fill: #FFFFFF;\n",
              "    }\n",
              "  </style>\n",
              "\n",
              "      <script>\n",
              "        const buttonEl =\n",
              "          document.querySelector('#df-85d8727f-76f0-4883-98e6-33be2f944277 button.colab-df-convert');\n",
              "        buttonEl.style.display =\n",
              "          google.colab.kernel.accessAllowed ? 'block' : 'none';\n",
              "\n",
              "        async function convertToInteractive(key) {\n",
              "          const element = document.querySelector('#df-85d8727f-76f0-4883-98e6-33be2f944277');\n",
              "          const dataTable =\n",
              "            await google.colab.kernel.invokeFunction('convertToInteractive',\n",
              "                                                     [key], {});\n",
              "          if (!dataTable) return;\n",
              "\n",
              "          const docLinkHtml = 'Like what you see? Visit the ' +\n",
              "            '<a target=\"_blank\" href=https://colab.research.google.com/notebooks/data_table.ipynb>data table notebook</a>'\n",
              "            + ' to learn more about interactive tables.';\n",
              "          element.innerHTML = '';\n",
              "          dataTable['output_type'] = 'display_data';\n",
              "          await google.colab.output.renderOutput(dataTable, element);\n",
              "          const docLink = document.createElement('div');\n",
              "          docLink.innerHTML = docLinkHtml;\n",
              "          element.appendChild(docLink);\n",
              "        }\n",
              "      </script>\n",
              "    </div>\n",
              "  </div>\n",
              "  "
            ]
          },
          "metadata": {},
          "execution_count": 170
        }
      ]
    },
    {
      "cell_type": "code",
      "source": [
        "dff_indexed=dff_indexed.withColumn(\"y1\", dff_indexed['y'])"
      ],
      "metadata": {
        "id": "nSSYG8K68sRo"
      },
      "execution_count": null,
      "outputs": []
    },
    {
      "cell_type": "code",
      "source": [
        "dff_indexed.show()"
      ],
      "metadata": {
        "id": "9EP05rMpnyN7",
        "colab": {
          "base_uri": "https://localhost:8080/"
        },
        "outputId": "839a611c-2a55-4d0c-de24-a19419fa526e"
      },
      "execution_count": null,
      "outputs": [
        {
          "output_type": "stream",
          "name": "stdout",
          "text": [
            "+---+--------+--------+-----+--------+------------+--------------+-------------+---------+-----------+---+------+----------+------------+----------+----------+-------+----------+--------+--------------+-----------+---+\n",
            "|age|duration|campaign|pdays|previous|emp_var_rate|cons_price_idx|cons_conf_idx|euribor3m|nr_employed|  y|job_in|marital_in|education_in|default_in|housing_in|loan_in|contact_in|month_in|day_of_week_in|poutcome_in| y1|\n",
            "+---+--------+--------+-----+--------+------------+--------------+-------------+---------+-----------+---+------+----------+------------+----------+----------+-------+----------+--------+--------------+-----------+---+\n",
            "| 30|     116|       1|  999|       0|        -1.8|        92.843|        -50.0|    1.811|     5099.1|  1|   4.0|       0.0|         0.0|       0.0|       1.0|    0.0|       0.0|     6.0|           0.0|        0.0|  1|\n",
            "| 34|     146|       1|  999|       0|         1.4|        93.444|        -36.1|    4.968|     5228.1|  0|   0.0|       0.0|         0.0|       1.0|       1.0|    0.0|       0.0|     2.0|           2.0|        0.0|  0|\n",
            "| 27|     120|       1|  999|       0|         1.4|        93.918|        -42.7|    4.961|     5228.1|  0|   9.0|       1.0|         0.0|       0.0|       0.0|    0.0|       0.0|     1.0|           2.0|        0.0|  0|\n",
            "| 32|     209|       1|  999|       0|        -1.8|        92.893|        -46.2|    1.313|     5099.1|  0|  10.0|       1.0|         0.0|       0.0|       1.0|    0.0|       0.0|     0.0|           4.0|        0.0|  0|\n",
            "| 48|     348|       2|  999|       0|         1.4|        93.444|        -36.1|    4.965|     5228.1|  0|   1.0|       0.0|         2.0|       0.0|       1.0|    0.0|       0.0|     2.0|           0.0|        0.0|  0|\n",
            "| 33|     145|       2|  999|       0|         1.4|        93.918|        -42.7|     4.96|     5228.1|  0|   0.0|       0.0|         0.0|       0.0|       1.0|    0.0|       0.0|     1.0|           0.0|        0.0|  0|\n",
            "| 53|     351|       1|  999|       0|        -1.8|        93.075|        -47.1|    1.405|     5099.1|  0|   0.0|       1.0|         5.0|       1.0|       1.0|    1.0|       0.0|     5.0|           4.0|        0.0|  0|\n",
            "| 34|     207|       1|  999|       0|         1.1|        93.994|        -36.4|    4.857|     5191.0|  0|   0.0|       0.0|         1.0|       0.0|       0.0|    0.0|       1.0|     0.0|           2.0|        0.0|  0|\n",
            "| 55|      94|       1|  999|       0|         1.4|        93.444|        -36.1|    4.963|     5228.1|  0|   1.0|       0.0|         4.0|       0.0|       1.0|    0.0|       0.0|     2.0|           4.0|        0.0|  0|\n",
            "| 55|     415|       1|  999|       0|         1.1|        93.994|        -36.4|    4.858|     5191.0|  0|   0.0|       1.0|         0.0|       1.0|       0.0|    1.0|       1.0|     0.0|           3.0|        0.0|  0|\n",
            "| 54|     202|       2|  999|       0|        -1.8|        92.893|        -46.2|    1.327|     5099.1|  0|   0.0|       0.0|         1.0|       0.0|       1.0|    0.0|       0.0|     0.0|           1.0|        0.0|  0|\n",
            "| 48|     115|       2|  999|       0|         1.4|        93.444|        -36.1|    4.963|     5228.1|  0|   4.0|       0.0|         0.0|       0.0|       1.0|    0.0|       0.0|     2.0|           2.0|        0.0|  0|\n",
            "| 34|     401|       1|  999|       0|        -1.7|        94.055|        -39.8|    0.761|     4991.6|  1|   9.0|       1.0|         0.0|       0.0|       1.0|    0.0|       0.0|     3.0|           2.0|        0.0|  1|\n",
            "| 40|     265|       2|  999|       0|         1.1|        93.994|        -36.4|    4.857|     5191.0|  0|   4.0|       0.0|         1.0|       0.0|       0.0|    1.0|       1.0|     0.0|           2.0|        0.0|  0|\n",
            "| 63|      49|       3|  999|       0|        -2.9|        92.201|        -31.4|    0.883|     5076.2|  0|   7.0|       0.0|         4.0|       0.0|       1.0|    0.0|       1.0|     2.0|           1.0|        0.0|  0|\n",
            "| 41|      15|       1|  999|       0|         1.4|        94.465|        -41.8|    4.962|     5228.1|  0|   1.0|       0.0|         5.0|       0.0|       1.0|    0.0|       1.0|     3.0|           3.0|        0.0|  0|\n",
            "| 49|     129|       1|  999|       0|         1.4|        93.918|        -42.7|    4.961|     5228.1|  0|   8.0|       2.0|         4.0|       1.0|       0.0|    0.0|       0.0|     1.0|           2.0|        0.0|  0|\n",
            "| 34|     152|       2|  999|       0|        -1.1|        94.199|        -37.5|    0.879|     4963.6|  0|   2.0|       1.0|         0.0|       0.0|       1.0|    0.0|       0.0|     7.0|           4.0|        0.0|  0|\n",
            "| 36|      56|       1|  999|       0|         1.4|        94.465|        -41.8|    4.864|     5228.1|  0|   5.0|       0.0|         0.0|       0.0|       0.0|    0.0|       1.0|     3.0|           2.0|        0.0|  0|\n",
            "| 29|     133|       5|  999|       0|         1.4|        93.444|        -36.1|    4.965|     5228.1|  0|   2.0|       0.0|         1.0|       0.0|       1.0|    0.0|       1.0|     2.0|           0.0|        0.0|  0|\n",
            "+---+--------+--------+-----+--------+------------+--------------+-------------+---------+-----------+---+------+----------+------------+----------+----------+-------+----------+--------+--------------+-----------+---+\n",
            "only showing top 20 rows\n",
            "\n"
          ]
        }
      ]
    },
    {
      "cell_type": "code",
      "source": [
        "dff_indexed = dff_indexed.drop('y')"
      ],
      "metadata": {
        "id": "-5fKTHGLoFzI"
      },
      "execution_count": null,
      "outputs": []
    },
    {
      "cell_type": "code",
      "source": [
        "dff_indexed=dff_indexed.withColumn(\"y\", dff_indexed['y1'])"
      ],
      "metadata": {
        "id": "uWY_UHJG-Lx9"
      },
      "execution_count": null,
      "outputs": []
    },
    {
      "cell_type": "code",
      "source": [
        "dff_indexed = dff_indexed.drop('y1')"
      ],
      "metadata": {
        "id": "URJP-SI2-ZOw"
      },
      "execution_count": null,
      "outputs": []
    },
    {
      "cell_type": "code",
      "source": [
        "dff_indexed.show()\n"
      ],
      "metadata": {
        "id": "PhPOqYOk-Q5g",
        "colab": {
          "base_uri": "https://localhost:8080/"
        },
        "outputId": "4deafee4-0f6b-4700-9650-1eb643735c31"
      },
      "execution_count": null,
      "outputs": [
        {
          "output_type": "stream",
          "name": "stdout",
          "text": [
            "+---+--------+--------+-----+--------+------------+--------------+-------------+---------+-----------+------+----------+------------+----------+----------+-------+----------+--------+--------------+-----------+---+\n",
            "|age|duration|campaign|pdays|previous|emp_var_rate|cons_price_idx|cons_conf_idx|euribor3m|nr_employed|job_in|marital_in|education_in|default_in|housing_in|loan_in|contact_in|month_in|day_of_week_in|poutcome_in|  y|\n",
            "+---+--------+--------+-----+--------+------------+--------------+-------------+---------+-----------+------+----------+------------+----------+----------+-------+----------+--------+--------------+-----------+---+\n",
            "| 30|     116|       1|  999|       0|        -1.8|        92.843|        -50.0|    1.811|     5099.1|   4.0|       0.0|         0.0|       0.0|       1.0|    0.0|       0.0|     6.0|           0.0|        0.0|  1|\n",
            "| 34|     146|       1|  999|       0|         1.4|        93.444|        -36.1|    4.968|     5228.1|   0.0|       0.0|         0.0|       1.0|       1.0|    0.0|       0.0|     2.0|           2.0|        0.0|  0|\n",
            "| 27|     120|       1|  999|       0|         1.4|        93.918|        -42.7|    4.961|     5228.1|   9.0|       1.0|         0.0|       0.0|       0.0|    0.0|       0.0|     1.0|           2.0|        0.0|  0|\n",
            "| 32|     209|       1|  999|       0|        -1.8|        92.893|        -46.2|    1.313|     5099.1|  10.0|       1.0|         0.0|       0.0|       1.0|    0.0|       0.0|     0.0|           4.0|        0.0|  0|\n",
            "| 48|     348|       2|  999|       0|         1.4|        93.444|        -36.1|    4.965|     5228.1|   1.0|       0.0|         2.0|       0.0|       1.0|    0.0|       0.0|     2.0|           0.0|        0.0|  0|\n",
            "| 33|     145|       2|  999|       0|         1.4|        93.918|        -42.7|     4.96|     5228.1|   0.0|       0.0|         0.0|       0.0|       1.0|    0.0|       0.0|     1.0|           0.0|        0.0|  0|\n",
            "| 53|     351|       1|  999|       0|        -1.8|        93.075|        -47.1|    1.405|     5099.1|   0.0|       1.0|         5.0|       1.0|       1.0|    1.0|       0.0|     5.0|           4.0|        0.0|  0|\n",
            "| 34|     207|       1|  999|       0|         1.1|        93.994|        -36.4|    4.857|     5191.0|   0.0|       0.0|         1.0|       0.0|       0.0|    0.0|       1.0|     0.0|           2.0|        0.0|  0|\n",
            "| 55|      94|       1|  999|       0|         1.4|        93.444|        -36.1|    4.963|     5228.1|   1.0|       0.0|         4.0|       0.0|       1.0|    0.0|       0.0|     2.0|           4.0|        0.0|  0|\n",
            "| 55|     415|       1|  999|       0|         1.1|        93.994|        -36.4|    4.858|     5191.0|   0.0|       1.0|         0.0|       1.0|       0.0|    1.0|       1.0|     0.0|           3.0|        0.0|  0|\n",
            "| 54|     202|       2|  999|       0|        -1.8|        92.893|        -46.2|    1.327|     5099.1|   0.0|       0.0|         1.0|       0.0|       1.0|    0.0|       0.0|     0.0|           1.0|        0.0|  0|\n",
            "| 48|     115|       2|  999|       0|         1.4|        93.444|        -36.1|    4.963|     5228.1|   4.0|       0.0|         0.0|       0.0|       1.0|    0.0|       0.0|     2.0|           2.0|        0.0|  0|\n",
            "| 34|     401|       1|  999|       0|        -1.7|        94.055|        -39.8|    0.761|     4991.6|   9.0|       1.0|         0.0|       0.0|       1.0|    0.0|       0.0|     3.0|           2.0|        0.0|  1|\n",
            "| 40|     265|       2|  999|       0|         1.1|        93.994|        -36.4|    4.857|     5191.0|   4.0|       0.0|         1.0|       0.0|       0.0|    1.0|       1.0|     0.0|           2.0|        0.0|  0|\n",
            "| 63|      49|       3|  999|       0|        -2.9|        92.201|        -31.4|    0.883|     5076.2|   7.0|       0.0|         4.0|       0.0|       1.0|    0.0|       1.0|     2.0|           1.0|        0.0|  0|\n",
            "| 41|      15|       1|  999|       0|         1.4|        94.465|        -41.8|    4.962|     5228.1|   1.0|       0.0|         5.0|       0.0|       1.0|    0.0|       1.0|     3.0|           3.0|        0.0|  0|\n",
            "| 49|     129|       1|  999|       0|         1.4|        93.918|        -42.7|    4.961|     5228.1|   8.0|       2.0|         4.0|       1.0|       0.0|    0.0|       0.0|     1.0|           2.0|        0.0|  0|\n",
            "| 34|     152|       2|  999|       0|        -1.1|        94.199|        -37.5|    0.879|     4963.6|   2.0|       1.0|         0.0|       0.0|       1.0|    0.0|       0.0|     7.0|           4.0|        0.0|  0|\n",
            "| 36|      56|       1|  999|       0|         1.4|        94.465|        -41.8|    4.864|     5228.1|   5.0|       0.0|         0.0|       0.0|       0.0|    0.0|       1.0|     3.0|           2.0|        0.0|  0|\n",
            "| 29|     133|       5|  999|       0|         1.4|        93.444|        -36.1|    4.965|     5228.1|   2.0|       0.0|         1.0|       0.0|       1.0|    0.0|       1.0|     2.0|           0.0|        0.0|  0|\n",
            "+---+--------+--------+-----+--------+------------+--------------+-------------+---------+-----------+------+----------+------------+----------+----------+-------+----------+--------+--------------+-----------+---+\n",
            "only showing top 20 rows\n",
            "\n"
          ]
        }
      ]
    },
    {
      "cell_type": "code",
      "source": [
        "dff_indexed_full = dff_indexed"
      ],
      "metadata": {
        "id": "LF1hQDqc-UPd"
      },
      "execution_count": null,
      "outputs": []
    },
    {
      "cell_type": "code",
      "source": [
        "dff_indexed_full_p = dff_indexed_full.toPandas()"
      ],
      "metadata": {
        "id": "bn9P82h_-iJs"
      },
      "execution_count": null,
      "outputs": []
    },
    {
      "cell_type": "code",
      "source": [
        "dff_indexed_full_p_c = dff_indexed_full_p.corr()\n",
        "\n",
        "dff_indexed_full_p_c"
      ],
      "metadata": {
        "id": "7EY73Ozc-t-y",
        "colab": {
          "base_uri": "https://localhost:8080/",
          "height": 737
        },
        "outputId": "80a5ddcd-25ac-4b40-8d14-b5474ca4208b"
      },
      "execution_count": null,
      "outputs": [
        {
          "output_type": "execute_result",
          "data": {
            "text/plain": [
              "                     age  duration  campaign  pdays  previous  emp_var_rate  \\\n",
              "age             1.000000  0.000903  0.011035    NaN       NaN      0.081601   \n",
              "duration        0.000903  1.000000 -0.056114    NaN       NaN     -0.041285   \n",
              "campaign        0.011035 -0.056114  1.000000    NaN       NaN      0.073818   \n",
              "pdays                NaN       NaN       NaN    NaN       NaN           NaN   \n",
              "previous             NaN       NaN       NaN    NaN       NaN           NaN   \n",
              "emp_var_rate    0.081601 -0.041285  0.073818    NaN       NaN      1.000000   \n",
              "cons_price_idx  0.044938 -0.009544  0.060048    NaN       NaN      0.783043   \n",
              "cons_conf_idx   0.107444 -0.001549 -0.009751    NaN       NaN      0.378297   \n",
              "euribor3m       0.092345 -0.042370  0.057312    NaN       NaN      0.975943   \n",
              "nr_employed     0.080161 -0.054691  0.069804    NaN       NaN      0.922534   \n",
              "job_in          0.122787  0.003498 -0.013215    NaN       NaN     -0.050294   \n",
              "marital_in     -0.123418  0.003788  0.007225    NaN       NaN     -0.044526   \n",
              "education_in    0.171871  0.015271  0.004736    NaN       NaN      0.064639   \n",
              "default_in      0.204537 -0.005733  0.017575    NaN       NaN      0.180833   \n",
              "housing_in      0.005516  0.003357  0.004239    NaN       NaN      0.059486   \n",
              "loan_in        -0.002802 -0.012275  0.007427    NaN       NaN      0.006355   \n",
              "contact_in      0.035426 -0.024868  0.026276    NaN       NaN      0.347496   \n",
              "month_in        0.031183 -0.026482 -0.061258    NaN       NaN     -0.264911   \n",
              "day_of_week_in -0.006344 -0.002404 -0.014720    NaN       NaN      0.020184   \n",
              "poutcome_in          NaN       NaN       NaN    NaN       NaN           NaN   \n",
              "y              -0.029425  0.260089 -0.041689    NaN       NaN     -0.306550   \n",
              "\n",
              "                cons_price_idx  cons_conf_idx  euribor3m  nr_employed  ...  \\\n",
              "age                   0.044938       0.107444   0.092345     0.080161  ...   \n",
              "duration             -0.009544      -0.001549  -0.042370    -0.054691  ...   \n",
              "campaign              0.060048      -0.009751   0.057312     0.069804  ...   \n",
              "pdays                      NaN            NaN        NaN          NaN  ...   \n",
              "previous                   NaN            NaN        NaN          NaN  ...   \n",
              "emp_var_rate          0.783043       0.378297   0.975943     0.922534  ...   \n",
              "cons_price_idx        1.000000       0.182768   0.723606     0.588922  ...   \n",
              "cons_conf_idx         0.182768       1.000000   0.439164     0.257667  ...   \n",
              "euribor3m             0.723606       0.439164   1.000000     0.946765  ...   \n",
              "nr_employed           0.588922       0.257667   0.946765     1.000000  ...   \n",
              "job_in               -0.014738       0.015469  -0.042167    -0.056160  ...   \n",
              "marital_in           -0.024995      -0.057490  -0.048132    -0.041642  ...   \n",
              "education_in          0.106843      -0.010203   0.057170     0.046022  ...   \n",
              "default_in            0.165940       0.063258   0.170722     0.159365  ...   \n",
              "housing_in            0.089575       0.038894   0.058960     0.044244  ...   \n",
              "loan_in               0.009412      -0.000871   0.005017     0.005799  ...   \n",
              "contact_in            0.626938       0.310258   0.355709     0.195952  ...   \n",
              "month_in             -0.170845      -0.199116  -0.220551    -0.173853  ...   \n",
              "day_of_week_in        0.017671       0.052043   0.025947     0.013038  ...   \n",
              "poutcome_in                NaN            NaN        NaN          NaN  ...   \n",
              "y                    -0.182667      -0.032101  -0.301908    -0.329603  ...   \n",
              "\n",
              "                marital_in  education_in  default_in  housing_in   loan_in  \\\n",
              "age              -0.123418      0.171871    0.204537    0.005516 -0.002802   \n",
              "duration          0.003788      0.015271   -0.005733    0.003357 -0.012275   \n",
              "campaign          0.007225      0.004736    0.017575    0.004239  0.007427   \n",
              "pdays                  NaN           NaN         NaN         NaN       NaN   \n",
              "previous               NaN           NaN         NaN         NaN       NaN   \n",
              "emp_var_rate     -0.044526      0.064639    0.180833    0.059486  0.006355   \n",
              "cons_price_idx   -0.024995      0.106843    0.165940    0.089575  0.009412   \n",
              "cons_conf_idx    -0.057490     -0.010203    0.063258    0.038894 -0.000871   \n",
              "euribor3m        -0.048132      0.057170    0.170722    0.058960  0.005017   \n",
              "nr_employed      -0.041642      0.046022    0.159365    0.044244  0.005799   \n",
              "job_in           -0.015024      0.086374    0.040180    0.001532 -0.004701   \n",
              "marital_in        1.000000     -0.117541   -0.106249   -0.001714 -0.000729   \n",
              "education_in     -0.117541      1.000000    0.204972    0.016449 -0.002933   \n",
              "default_in       -0.106249      0.204972    1.000000    0.013742  0.006687   \n",
              "housing_in       -0.001714      0.016449    0.013742    1.000000  0.233774   \n",
              "loan_in          -0.000729     -0.002933    0.006687    0.233774  1.000000   \n",
              "contact_in       -0.041347      0.102240    0.117552    0.093073  0.009664   \n",
              "month_in          0.008222     -0.084307   -0.117643   -0.032438 -0.008890   \n",
              "day_of_week_in   -0.004638      0.008481   -0.008068    0.023873  0.008291   \n",
              "poutcome_in            NaN           NaN         NaN         NaN       NaN   \n",
              "y                 0.026944     -0.046463   -0.089903   -0.020804 -0.012323   \n",
              "\n",
              "                contact_in  month_in  day_of_week_in  poutcome_in         y  \n",
              "age               0.035426  0.031183       -0.006344          NaN -0.029425  \n",
              "duration         -0.024868 -0.026482       -0.002404          NaN  0.260089  \n",
              "campaign          0.026276 -0.061258       -0.014720          NaN -0.041689  \n",
              "pdays                  NaN       NaN             NaN          NaN       NaN  \n",
              "previous               NaN       NaN             NaN          NaN       NaN  \n",
              "emp_var_rate      0.347496 -0.264911        0.020184          NaN -0.306550  \n",
              "cons_price_idx    0.626938 -0.170845        0.017671          NaN -0.182667  \n",
              "cons_conf_idx     0.310258 -0.199116        0.052043          NaN -0.032101  \n",
              "euribor3m         0.355709 -0.220551        0.025947          NaN -0.301908  \n",
              "nr_employed       0.195952 -0.173853        0.013038          NaN -0.329603  \n",
              "job_in            0.012676  0.053952       -0.015922          NaN  0.040547  \n",
              "marital_in       -0.041347  0.008222       -0.004638          NaN  0.026944  \n",
              "education_in      0.102240 -0.084307        0.008481          NaN -0.046463  \n",
              "default_in        0.117552 -0.117643       -0.008068          NaN -0.089903  \n",
              "housing_in        0.093073 -0.032438        0.023873          NaN -0.020804  \n",
              "loan_in           0.009664 -0.008890        0.008291          NaN -0.012323  \n",
              "contact_in        1.000000 -0.232021        0.054680          NaN -0.122416  \n",
              "month_in         -0.232021  1.000000       -0.035709          NaN  0.214829  \n",
              "day_of_week_in    0.054680 -0.035709        1.000000          NaN -0.001676  \n",
              "poutcome_in            NaN       NaN             NaN          NaN       NaN  \n",
              "y                -0.122416  0.214829       -0.001676          NaN  1.000000  \n",
              "\n",
              "[21 rows x 21 columns]"
            ],
            "text/html": [
              "\n",
              "  <div id=\"df-5b5322b3-c269-4c2c-b9f5-04b489216460\">\n",
              "    <div class=\"colab-df-container\">\n",
              "      <div>\n",
              "<style scoped>\n",
              "    .dataframe tbody tr th:only-of-type {\n",
              "        vertical-align: middle;\n",
              "    }\n",
              "\n",
              "    .dataframe tbody tr th {\n",
              "        vertical-align: top;\n",
              "    }\n",
              "\n",
              "    .dataframe thead th {\n",
              "        text-align: right;\n",
              "    }\n",
              "</style>\n",
              "<table border=\"1\" class=\"dataframe\">\n",
              "  <thead>\n",
              "    <tr style=\"text-align: right;\">\n",
              "      <th></th>\n",
              "      <th>age</th>\n",
              "      <th>duration</th>\n",
              "      <th>campaign</th>\n",
              "      <th>pdays</th>\n",
              "      <th>previous</th>\n",
              "      <th>emp_var_rate</th>\n",
              "      <th>cons_price_idx</th>\n",
              "      <th>cons_conf_idx</th>\n",
              "      <th>euribor3m</th>\n",
              "      <th>nr_employed</th>\n",
              "      <th>...</th>\n",
              "      <th>marital_in</th>\n",
              "      <th>education_in</th>\n",
              "      <th>default_in</th>\n",
              "      <th>housing_in</th>\n",
              "      <th>loan_in</th>\n",
              "      <th>contact_in</th>\n",
              "      <th>month_in</th>\n",
              "      <th>day_of_week_in</th>\n",
              "      <th>poutcome_in</th>\n",
              "      <th>y</th>\n",
              "    </tr>\n",
              "  </thead>\n",
              "  <tbody>\n",
              "    <tr>\n",
              "      <th>age</th>\n",
              "      <td>1.000000</td>\n",
              "      <td>0.000903</td>\n",
              "      <td>0.011035</td>\n",
              "      <td>NaN</td>\n",
              "      <td>NaN</td>\n",
              "      <td>0.081601</td>\n",
              "      <td>0.044938</td>\n",
              "      <td>0.107444</td>\n",
              "      <td>0.092345</td>\n",
              "      <td>0.080161</td>\n",
              "      <td>...</td>\n",
              "      <td>-0.123418</td>\n",
              "      <td>0.171871</td>\n",
              "      <td>0.204537</td>\n",
              "      <td>0.005516</td>\n",
              "      <td>-0.002802</td>\n",
              "      <td>0.035426</td>\n",
              "      <td>0.031183</td>\n",
              "      <td>-0.006344</td>\n",
              "      <td>NaN</td>\n",
              "      <td>-0.029425</td>\n",
              "    </tr>\n",
              "    <tr>\n",
              "      <th>duration</th>\n",
              "      <td>0.000903</td>\n",
              "      <td>1.000000</td>\n",
              "      <td>-0.056114</td>\n",
              "      <td>NaN</td>\n",
              "      <td>NaN</td>\n",
              "      <td>-0.041285</td>\n",
              "      <td>-0.009544</td>\n",
              "      <td>-0.001549</td>\n",
              "      <td>-0.042370</td>\n",
              "      <td>-0.054691</td>\n",
              "      <td>...</td>\n",
              "      <td>0.003788</td>\n",
              "      <td>0.015271</td>\n",
              "      <td>-0.005733</td>\n",
              "      <td>0.003357</td>\n",
              "      <td>-0.012275</td>\n",
              "      <td>-0.024868</td>\n",
              "      <td>-0.026482</td>\n",
              "      <td>-0.002404</td>\n",
              "      <td>NaN</td>\n",
              "      <td>0.260089</td>\n",
              "    </tr>\n",
              "    <tr>\n",
              "      <th>campaign</th>\n",
              "      <td>0.011035</td>\n",
              "      <td>-0.056114</td>\n",
              "      <td>1.000000</td>\n",
              "      <td>NaN</td>\n",
              "      <td>NaN</td>\n",
              "      <td>0.073818</td>\n",
              "      <td>0.060048</td>\n",
              "      <td>-0.009751</td>\n",
              "      <td>0.057312</td>\n",
              "      <td>0.069804</td>\n",
              "      <td>...</td>\n",
              "      <td>0.007225</td>\n",
              "      <td>0.004736</td>\n",
              "      <td>0.017575</td>\n",
              "      <td>0.004239</td>\n",
              "      <td>0.007427</td>\n",
              "      <td>0.026276</td>\n",
              "      <td>-0.061258</td>\n",
              "      <td>-0.014720</td>\n",
              "      <td>NaN</td>\n",
              "      <td>-0.041689</td>\n",
              "    </tr>\n",
              "    <tr>\n",
              "      <th>pdays</th>\n",
              "      <td>NaN</td>\n",
              "      <td>NaN</td>\n",
              "      <td>NaN</td>\n",
              "      <td>NaN</td>\n",
              "      <td>NaN</td>\n",
              "      <td>NaN</td>\n",
              "      <td>NaN</td>\n",
              "      <td>NaN</td>\n",
              "      <td>NaN</td>\n",
              "      <td>NaN</td>\n",
              "      <td>...</td>\n",
              "      <td>NaN</td>\n",
              "      <td>NaN</td>\n",
              "      <td>NaN</td>\n",
              "      <td>NaN</td>\n",
              "      <td>NaN</td>\n",
              "      <td>NaN</td>\n",
              "      <td>NaN</td>\n",
              "      <td>NaN</td>\n",
              "      <td>NaN</td>\n",
              "      <td>NaN</td>\n",
              "    </tr>\n",
              "    <tr>\n",
              "      <th>previous</th>\n",
              "      <td>NaN</td>\n",
              "      <td>NaN</td>\n",
              "      <td>NaN</td>\n",
              "      <td>NaN</td>\n",
              "      <td>NaN</td>\n",
              "      <td>NaN</td>\n",
              "      <td>NaN</td>\n",
              "      <td>NaN</td>\n",
              "      <td>NaN</td>\n",
              "      <td>NaN</td>\n",
              "      <td>...</td>\n",
              "      <td>NaN</td>\n",
              "      <td>NaN</td>\n",
              "      <td>NaN</td>\n",
              "      <td>NaN</td>\n",
              "      <td>NaN</td>\n",
              "      <td>NaN</td>\n",
              "      <td>NaN</td>\n",
              "      <td>NaN</td>\n",
              "      <td>NaN</td>\n",
              "      <td>NaN</td>\n",
              "    </tr>\n",
              "    <tr>\n",
              "      <th>emp_var_rate</th>\n",
              "      <td>0.081601</td>\n",
              "      <td>-0.041285</td>\n",
              "      <td>0.073818</td>\n",
              "      <td>NaN</td>\n",
              "      <td>NaN</td>\n",
              "      <td>1.000000</td>\n",
              "      <td>0.783043</td>\n",
              "      <td>0.378297</td>\n",
              "      <td>0.975943</td>\n",
              "      <td>0.922534</td>\n",
              "      <td>...</td>\n",
              "      <td>-0.044526</td>\n",
              "      <td>0.064639</td>\n",
              "      <td>0.180833</td>\n",
              "      <td>0.059486</td>\n",
              "      <td>0.006355</td>\n",
              "      <td>0.347496</td>\n",
              "      <td>-0.264911</td>\n",
              "      <td>0.020184</td>\n",
              "      <td>NaN</td>\n",
              "      <td>-0.306550</td>\n",
              "    </tr>\n",
              "    <tr>\n",
              "      <th>cons_price_idx</th>\n",
              "      <td>0.044938</td>\n",
              "      <td>-0.009544</td>\n",
              "      <td>0.060048</td>\n",
              "      <td>NaN</td>\n",
              "      <td>NaN</td>\n",
              "      <td>0.783043</td>\n",
              "      <td>1.000000</td>\n",
              "      <td>0.182768</td>\n",
              "      <td>0.723606</td>\n",
              "      <td>0.588922</td>\n",
              "      <td>...</td>\n",
              "      <td>-0.024995</td>\n",
              "      <td>0.106843</td>\n",
              "      <td>0.165940</td>\n",
              "      <td>0.089575</td>\n",
              "      <td>0.009412</td>\n",
              "      <td>0.626938</td>\n",
              "      <td>-0.170845</td>\n",
              "      <td>0.017671</td>\n",
              "      <td>NaN</td>\n",
              "      <td>-0.182667</td>\n",
              "    </tr>\n",
              "    <tr>\n",
              "      <th>cons_conf_idx</th>\n",
              "      <td>0.107444</td>\n",
              "      <td>-0.001549</td>\n",
              "      <td>-0.009751</td>\n",
              "      <td>NaN</td>\n",
              "      <td>NaN</td>\n",
              "      <td>0.378297</td>\n",
              "      <td>0.182768</td>\n",
              "      <td>1.000000</td>\n",
              "      <td>0.439164</td>\n",
              "      <td>0.257667</td>\n",
              "      <td>...</td>\n",
              "      <td>-0.057490</td>\n",
              "      <td>-0.010203</td>\n",
              "      <td>0.063258</td>\n",
              "      <td>0.038894</td>\n",
              "      <td>-0.000871</td>\n",
              "      <td>0.310258</td>\n",
              "      <td>-0.199116</td>\n",
              "      <td>0.052043</td>\n",
              "      <td>NaN</td>\n",
              "      <td>-0.032101</td>\n",
              "    </tr>\n",
              "    <tr>\n",
              "      <th>euribor3m</th>\n",
              "      <td>0.092345</td>\n",
              "      <td>-0.042370</td>\n",
              "      <td>0.057312</td>\n",
              "      <td>NaN</td>\n",
              "      <td>NaN</td>\n",
              "      <td>0.975943</td>\n",
              "      <td>0.723606</td>\n",
              "      <td>0.439164</td>\n",
              "      <td>1.000000</td>\n",
              "      <td>0.946765</td>\n",
              "      <td>...</td>\n",
              "      <td>-0.048132</td>\n",
              "      <td>0.057170</td>\n",
              "      <td>0.170722</td>\n",
              "      <td>0.058960</td>\n",
              "      <td>0.005017</td>\n",
              "      <td>0.355709</td>\n",
              "      <td>-0.220551</td>\n",
              "      <td>0.025947</td>\n",
              "      <td>NaN</td>\n",
              "      <td>-0.301908</td>\n",
              "    </tr>\n",
              "    <tr>\n",
              "      <th>nr_employed</th>\n",
              "      <td>0.080161</td>\n",
              "      <td>-0.054691</td>\n",
              "      <td>0.069804</td>\n",
              "      <td>NaN</td>\n",
              "      <td>NaN</td>\n",
              "      <td>0.922534</td>\n",
              "      <td>0.588922</td>\n",
              "      <td>0.257667</td>\n",
              "      <td>0.946765</td>\n",
              "      <td>1.000000</td>\n",
              "      <td>...</td>\n",
              "      <td>-0.041642</td>\n",
              "      <td>0.046022</td>\n",
              "      <td>0.159365</td>\n",
              "      <td>0.044244</td>\n",
              "      <td>0.005799</td>\n",
              "      <td>0.195952</td>\n",
              "      <td>-0.173853</td>\n",
              "      <td>0.013038</td>\n",
              "      <td>NaN</td>\n",
              "      <td>-0.329603</td>\n",
              "    </tr>\n",
              "    <tr>\n",
              "      <th>job_in</th>\n",
              "      <td>0.122787</td>\n",
              "      <td>0.003498</td>\n",
              "      <td>-0.013215</td>\n",
              "      <td>NaN</td>\n",
              "      <td>NaN</td>\n",
              "      <td>-0.050294</td>\n",
              "      <td>-0.014738</td>\n",
              "      <td>0.015469</td>\n",
              "      <td>-0.042167</td>\n",
              "      <td>-0.056160</td>\n",
              "      <td>...</td>\n",
              "      <td>-0.015024</td>\n",
              "      <td>0.086374</td>\n",
              "      <td>0.040180</td>\n",
              "      <td>0.001532</td>\n",
              "      <td>-0.004701</td>\n",
              "      <td>0.012676</td>\n",
              "      <td>0.053952</td>\n",
              "      <td>-0.015922</td>\n",
              "      <td>NaN</td>\n",
              "      <td>0.040547</td>\n",
              "    </tr>\n",
              "    <tr>\n",
              "      <th>marital_in</th>\n",
              "      <td>-0.123418</td>\n",
              "      <td>0.003788</td>\n",
              "      <td>0.007225</td>\n",
              "      <td>NaN</td>\n",
              "      <td>NaN</td>\n",
              "      <td>-0.044526</td>\n",
              "      <td>-0.024995</td>\n",
              "      <td>-0.057490</td>\n",
              "      <td>-0.048132</td>\n",
              "      <td>-0.041642</td>\n",
              "      <td>...</td>\n",
              "      <td>1.000000</td>\n",
              "      <td>-0.117541</td>\n",
              "      <td>-0.106249</td>\n",
              "      <td>-0.001714</td>\n",
              "      <td>-0.000729</td>\n",
              "      <td>-0.041347</td>\n",
              "      <td>0.008222</td>\n",
              "      <td>-0.004638</td>\n",
              "      <td>NaN</td>\n",
              "      <td>0.026944</td>\n",
              "    </tr>\n",
              "    <tr>\n",
              "      <th>education_in</th>\n",
              "      <td>0.171871</td>\n",
              "      <td>0.015271</td>\n",
              "      <td>0.004736</td>\n",
              "      <td>NaN</td>\n",
              "      <td>NaN</td>\n",
              "      <td>0.064639</td>\n",
              "      <td>0.106843</td>\n",
              "      <td>-0.010203</td>\n",
              "      <td>0.057170</td>\n",
              "      <td>0.046022</td>\n",
              "      <td>...</td>\n",
              "      <td>-0.117541</td>\n",
              "      <td>1.000000</td>\n",
              "      <td>0.204972</td>\n",
              "      <td>0.016449</td>\n",
              "      <td>-0.002933</td>\n",
              "      <td>0.102240</td>\n",
              "      <td>-0.084307</td>\n",
              "      <td>0.008481</td>\n",
              "      <td>NaN</td>\n",
              "      <td>-0.046463</td>\n",
              "    </tr>\n",
              "    <tr>\n",
              "      <th>default_in</th>\n",
              "      <td>0.204537</td>\n",
              "      <td>-0.005733</td>\n",
              "      <td>0.017575</td>\n",
              "      <td>NaN</td>\n",
              "      <td>NaN</td>\n",
              "      <td>0.180833</td>\n",
              "      <td>0.165940</td>\n",
              "      <td>0.063258</td>\n",
              "      <td>0.170722</td>\n",
              "      <td>0.159365</td>\n",
              "      <td>...</td>\n",
              "      <td>-0.106249</td>\n",
              "      <td>0.204972</td>\n",
              "      <td>1.000000</td>\n",
              "      <td>0.013742</td>\n",
              "      <td>0.006687</td>\n",
              "      <td>0.117552</td>\n",
              "      <td>-0.117643</td>\n",
              "      <td>-0.008068</td>\n",
              "      <td>NaN</td>\n",
              "      <td>-0.089903</td>\n",
              "    </tr>\n",
              "    <tr>\n",
              "      <th>housing_in</th>\n",
              "      <td>0.005516</td>\n",
              "      <td>0.003357</td>\n",
              "      <td>0.004239</td>\n",
              "      <td>NaN</td>\n",
              "      <td>NaN</td>\n",
              "      <td>0.059486</td>\n",
              "      <td>0.089575</td>\n",
              "      <td>0.038894</td>\n",
              "      <td>0.058960</td>\n",
              "      <td>0.044244</td>\n",
              "      <td>...</td>\n",
              "      <td>-0.001714</td>\n",
              "      <td>0.016449</td>\n",
              "      <td>0.013742</td>\n",
              "      <td>1.000000</td>\n",
              "      <td>0.233774</td>\n",
              "      <td>0.093073</td>\n",
              "      <td>-0.032438</td>\n",
              "      <td>0.023873</td>\n",
              "      <td>NaN</td>\n",
              "      <td>-0.020804</td>\n",
              "    </tr>\n",
              "    <tr>\n",
              "      <th>loan_in</th>\n",
              "      <td>-0.002802</td>\n",
              "      <td>-0.012275</td>\n",
              "      <td>0.007427</td>\n",
              "      <td>NaN</td>\n",
              "      <td>NaN</td>\n",
              "      <td>0.006355</td>\n",
              "      <td>0.009412</td>\n",
              "      <td>-0.000871</td>\n",
              "      <td>0.005017</td>\n",
              "      <td>0.005799</td>\n",
              "      <td>...</td>\n",
              "      <td>-0.000729</td>\n",
              "      <td>-0.002933</td>\n",
              "      <td>0.006687</td>\n",
              "      <td>0.233774</td>\n",
              "      <td>1.000000</td>\n",
              "      <td>0.009664</td>\n",
              "      <td>-0.008890</td>\n",
              "      <td>0.008291</td>\n",
              "      <td>NaN</td>\n",
              "      <td>-0.012323</td>\n",
              "    </tr>\n",
              "    <tr>\n",
              "      <th>contact_in</th>\n",
              "      <td>0.035426</td>\n",
              "      <td>-0.024868</td>\n",
              "      <td>0.026276</td>\n",
              "      <td>NaN</td>\n",
              "      <td>NaN</td>\n",
              "      <td>0.347496</td>\n",
              "      <td>0.626938</td>\n",
              "      <td>0.310258</td>\n",
              "      <td>0.355709</td>\n",
              "      <td>0.195952</td>\n",
              "      <td>...</td>\n",
              "      <td>-0.041347</td>\n",
              "      <td>0.102240</td>\n",
              "      <td>0.117552</td>\n",
              "      <td>0.093073</td>\n",
              "      <td>0.009664</td>\n",
              "      <td>1.000000</td>\n",
              "      <td>-0.232021</td>\n",
              "      <td>0.054680</td>\n",
              "      <td>NaN</td>\n",
              "      <td>-0.122416</td>\n",
              "    </tr>\n",
              "    <tr>\n",
              "      <th>month_in</th>\n",
              "      <td>0.031183</td>\n",
              "      <td>-0.026482</td>\n",
              "      <td>-0.061258</td>\n",
              "      <td>NaN</td>\n",
              "      <td>NaN</td>\n",
              "      <td>-0.264911</td>\n",
              "      <td>-0.170845</td>\n",
              "      <td>-0.199116</td>\n",
              "      <td>-0.220551</td>\n",
              "      <td>-0.173853</td>\n",
              "      <td>...</td>\n",
              "      <td>0.008222</td>\n",
              "      <td>-0.084307</td>\n",
              "      <td>-0.117643</td>\n",
              "      <td>-0.032438</td>\n",
              "      <td>-0.008890</td>\n",
              "      <td>-0.232021</td>\n",
              "      <td>1.000000</td>\n",
              "      <td>-0.035709</td>\n",
              "      <td>NaN</td>\n",
              "      <td>0.214829</td>\n",
              "    </tr>\n",
              "    <tr>\n",
              "      <th>day_of_week_in</th>\n",
              "      <td>-0.006344</td>\n",
              "      <td>-0.002404</td>\n",
              "      <td>-0.014720</td>\n",
              "      <td>NaN</td>\n",
              "      <td>NaN</td>\n",
              "      <td>0.020184</td>\n",
              "      <td>0.017671</td>\n",
              "      <td>0.052043</td>\n",
              "      <td>0.025947</td>\n",
              "      <td>0.013038</td>\n",
              "      <td>...</td>\n",
              "      <td>-0.004638</td>\n",
              "      <td>0.008481</td>\n",
              "      <td>-0.008068</td>\n",
              "      <td>0.023873</td>\n",
              "      <td>0.008291</td>\n",
              "      <td>0.054680</td>\n",
              "      <td>-0.035709</td>\n",
              "      <td>1.000000</td>\n",
              "      <td>NaN</td>\n",
              "      <td>-0.001676</td>\n",
              "    </tr>\n",
              "    <tr>\n",
              "      <th>poutcome_in</th>\n",
              "      <td>NaN</td>\n",
              "      <td>NaN</td>\n",
              "      <td>NaN</td>\n",
              "      <td>NaN</td>\n",
              "      <td>NaN</td>\n",
              "      <td>NaN</td>\n",
              "      <td>NaN</td>\n",
              "      <td>NaN</td>\n",
              "      <td>NaN</td>\n",
              "      <td>NaN</td>\n",
              "      <td>...</td>\n",
              "      <td>NaN</td>\n",
              "      <td>NaN</td>\n",
              "      <td>NaN</td>\n",
              "      <td>NaN</td>\n",
              "      <td>NaN</td>\n",
              "      <td>NaN</td>\n",
              "      <td>NaN</td>\n",
              "      <td>NaN</td>\n",
              "      <td>NaN</td>\n",
              "      <td>NaN</td>\n",
              "    </tr>\n",
              "    <tr>\n",
              "      <th>y</th>\n",
              "      <td>-0.029425</td>\n",
              "      <td>0.260089</td>\n",
              "      <td>-0.041689</td>\n",
              "      <td>NaN</td>\n",
              "      <td>NaN</td>\n",
              "      <td>-0.306550</td>\n",
              "      <td>-0.182667</td>\n",
              "      <td>-0.032101</td>\n",
              "      <td>-0.301908</td>\n",
              "      <td>-0.329603</td>\n",
              "      <td>...</td>\n",
              "      <td>0.026944</td>\n",
              "      <td>-0.046463</td>\n",
              "      <td>-0.089903</td>\n",
              "      <td>-0.020804</td>\n",
              "      <td>-0.012323</td>\n",
              "      <td>-0.122416</td>\n",
              "      <td>0.214829</td>\n",
              "      <td>-0.001676</td>\n",
              "      <td>NaN</td>\n",
              "      <td>1.000000</td>\n",
              "    </tr>\n",
              "  </tbody>\n",
              "</table>\n",
              "<p>21 rows × 21 columns</p>\n",
              "</div>\n",
              "      <button class=\"colab-df-convert\" onclick=\"convertToInteractive('df-5b5322b3-c269-4c2c-b9f5-04b489216460')\"\n",
              "              title=\"Convert this dataframe to an interactive table.\"\n",
              "              style=\"display:none;\">\n",
              "        \n",
              "  <svg xmlns=\"http://www.w3.org/2000/svg\" height=\"24px\"viewBox=\"0 0 24 24\"\n",
              "       width=\"24px\">\n",
              "    <path d=\"M0 0h24v24H0V0z\" fill=\"none\"/>\n",
              "    <path d=\"M18.56 5.44l.94 2.06.94-2.06 2.06-.94-2.06-.94-.94-2.06-.94 2.06-2.06.94zm-11 1L8.5 8.5l.94-2.06 2.06-.94-2.06-.94L8.5 2.5l-.94 2.06-2.06.94zm10 10l.94 2.06.94-2.06 2.06-.94-2.06-.94-.94-2.06-.94 2.06-2.06.94z\"/><path d=\"M17.41 7.96l-1.37-1.37c-.4-.4-.92-.59-1.43-.59-.52 0-1.04.2-1.43.59L10.3 9.45l-7.72 7.72c-.78.78-.78 2.05 0 2.83L4 21.41c.39.39.9.59 1.41.59.51 0 1.02-.2 1.41-.59l7.78-7.78 2.81-2.81c.8-.78.8-2.07 0-2.86zM5.41 20L4 18.59l7.72-7.72 1.47 1.35L5.41 20z\"/>\n",
              "  </svg>\n",
              "      </button>\n",
              "      \n",
              "  <style>\n",
              "    .colab-df-container {\n",
              "      display:flex;\n",
              "      flex-wrap:wrap;\n",
              "      gap: 12px;\n",
              "    }\n",
              "\n",
              "    .colab-df-convert {\n",
              "      background-color: #E8F0FE;\n",
              "      border: none;\n",
              "      border-radius: 50%;\n",
              "      cursor: pointer;\n",
              "      display: none;\n",
              "      fill: #1967D2;\n",
              "      height: 32px;\n",
              "      padding: 0 0 0 0;\n",
              "      width: 32px;\n",
              "    }\n",
              "\n",
              "    .colab-df-convert:hover {\n",
              "      background-color: #E2EBFA;\n",
              "      box-shadow: 0px 1px 2px rgba(60, 64, 67, 0.3), 0px 1px 3px 1px rgba(60, 64, 67, 0.15);\n",
              "      fill: #174EA6;\n",
              "    }\n",
              "\n",
              "    [theme=dark] .colab-df-convert {\n",
              "      background-color: #3B4455;\n",
              "      fill: #D2E3FC;\n",
              "    }\n",
              "\n",
              "    [theme=dark] .colab-df-convert:hover {\n",
              "      background-color: #434B5C;\n",
              "      box-shadow: 0px 1px 3px 1px rgba(0, 0, 0, 0.15);\n",
              "      filter: drop-shadow(0px 1px 2px rgba(0, 0, 0, 0.3));\n",
              "      fill: #FFFFFF;\n",
              "    }\n",
              "  </style>\n",
              "\n",
              "      <script>\n",
              "        const buttonEl =\n",
              "          document.querySelector('#df-5b5322b3-c269-4c2c-b9f5-04b489216460 button.colab-df-convert');\n",
              "        buttonEl.style.display =\n",
              "          google.colab.kernel.accessAllowed ? 'block' : 'none';\n",
              "\n",
              "        async function convertToInteractive(key) {\n",
              "          const element = document.querySelector('#df-5b5322b3-c269-4c2c-b9f5-04b489216460');\n",
              "          const dataTable =\n",
              "            await google.colab.kernel.invokeFunction('convertToInteractive',\n",
              "                                                     [key], {});\n",
              "          if (!dataTable) return;\n",
              "\n",
              "          const docLinkHtml = 'Like what you see? Visit the ' +\n",
              "            '<a target=\"_blank\" href=https://colab.research.google.com/notebooks/data_table.ipynb>data table notebook</a>'\n",
              "            + ' to learn more about interactive tables.';\n",
              "          element.innerHTML = '';\n",
              "          dataTable['output_type'] = 'display_data';\n",
              "          await google.colab.output.renderOutput(dataTable, element);\n",
              "          const docLink = document.createElement('div');\n",
              "          docLink.innerHTML = docLinkHtml;\n",
              "          element.appendChild(docLink);\n",
              "        }\n",
              "      </script>\n",
              "    </div>\n",
              "  </div>\n",
              "  "
            ]
          },
          "metadata": {},
          "execution_count": 179
        }
      ]
    },
    {
      "cell_type": "code",
      "source": [],
      "metadata": {
        "id": "1sSKkKsAHF7N"
      },
      "execution_count": null,
      "outputs": []
    },
    {
      "cell_type": "code",
      "source": [
        "\n",
        "from seaborn import heatmap\n",
        "heatmap(dff_indexed_full_p_c.corr(),cmap=\"\")"
      ],
      "metadata": {
        "colab": {
          "base_uri": "https://localhost:8080/",
          "height": 548
        },
        "id": "fgJtdEoMfk1d",
        "outputId": "9737bee4-5b60-436b-d115-d997f1f5cfbf"
      },
      "execution_count": null,
      "outputs": [
        {
          "output_type": "execute_result",
          "data": {
            "text/plain": [
              "<Axes: >"
            ]
          },
          "metadata": {},
          "execution_count": 217
        },
        {
          "output_type": "display_data",
          "data": {
            "text/plain": [
              "<Figure size 640x480 with 2 Axes>"
            ],
            "image/png": "[encoded data removed]"
          },
          "metadata": {}
        }
      ]
    },
    {
      "cell_type": "code",
      "source": [
        "corr_col_names =['duration','emp_var_rate','euribor3m','nr_employed','month_in']"
      ],
      "metadata": {
        "id": "7386AksF_zxP"
      },
      "execution_count": null,
      "outputs": []
    },
    {
      "cell_type": "code",
      "source": [
        "full_indexed_col_names = ['age',\n",
        " 'duration',\n",
        " 'campaign',\n",
        " 'pdays',\n",
        " 'previous',\n",
        " 'emp_var_rate',\n",
        " 'cons_price_idx',\n",
        " 'cons_conf_idx',\n",
        " 'euribor3m',\n",
        " 'nr_employed',\n",
        " 'job_in',\n",
        " 'marital_in',\n",
        " 'education_in',\n",
        " 'default_in',\n",
        " 'housing_in',\n",
        " 'loan_in',\n",
        " 'contact_in',\n",
        " 'month_in',\n",
        " 'day_of_week_in',\n",
        " 'poutcome_in','y']"
      ],
      "metadata": {
        "id": "u_9IfF7yC757"
      },
      "execution_count": null,
      "outputs": []
    },
    {
      "cell_type": "code",
      "source": [
        "from pyspark.ml.linalg import Vectors\n"
      ],
      "metadata": {
        "id": "FLcnNprnDE1L"
      },
      "execution_count": null,
      "outputs": []
    },
    {
      "cell_type": "code",
      "source": [
        "from pyspark.ml.feature import StandardScaler\n"
      ],
      "metadata": {
        "id": "_WOkkQtnDE4G"
      },
      "execution_count": null,
      "outputs": []
    },
    {
      "cell_type": "code",
      "source": [
        "from pyspark.ml.feature import VectorAssembler"
      ],
      "metadata": {
        "id": "GrkDJE-A-0VS"
      },
      "execution_count": null,
      "outputs": []
    },
    {
      "cell_type": "code",
      "source": [
        "dff_indexed_full.columns"
      ],
      "metadata": {
        "id": "HWHKEBGs_qFF",
        "colab": {
          "base_uri": "https://localhost:8080/"
        },
        "outputId": "23200614-fc7e-45ff-aa70-55bdfb4d3404"
      },
      "execution_count": null,
      "outputs": [
        {
          "output_type": "execute_result",
          "data": {
            "text/plain": [
              "['age',\n",
              " 'duration',\n",
              " 'campaign',\n",
              " 'pdays',\n",
              " 'previous',\n",
              " 'emp_var_rate',\n",
              " 'cons_price_idx',\n",
              " 'cons_conf_idx',\n",
              " 'euribor3m',\n",
              " 'nr_employed',\n",
              " 'job_in',\n",
              " 'marital_in',\n",
              " 'education_in',\n",
              " 'default_in',\n",
              " 'housing_in',\n",
              " 'loan_in',\n",
              " 'contact_in',\n",
              " 'month_in',\n",
              " 'day_of_week_in',\n",
              " 'poutcome_in',\n",
              " 'y']"
            ]
          },
          "metadata": {},
          "execution_count": 185
        }
      ]
    },
    {
      "cell_type": "code",
      "source": [
        "all_indexed_col2 = ['age',\n",
        " 'duration',\n",
        " 'campaign',\n",
        " 'pdays',\n",
        " 'previous',\n",
        " 'emp_var_rate',\n",
        " 'cons_price_idx',\n",
        " 'cons_conf_idx',\n",
        " 'euribor3m',\n",
        " 'nr_employed',\n",
        " 'job_in',\n",
        " 'marital_in',\n",
        " 'education_in',\n",
        " 'default_in',\n",
        " 'housing_in',\n",
        " 'loan_in',\n",
        " 'contact_in',\n",
        " 'month_in',\n",
        " 'day_of_week_in',\n",
        " 'poutcome_in']"
      ],
      "metadata": {
        "id": "x_yApGsD_qHf"
      },
      "execution_count": null,
      "outputs": []
    },
    {
      "cell_type": "code",
      "source": [
        "feature_assembeled = VectorAssembler(inputCols=all_indexed_col2,outputCol='InputFeature')"
      ],
      "metadata": {
        "id": "tJszdlKu_qJ9"
      },
      "execution_count": null,
      "outputs": []
    },
    {
      "cell_type": "code",
      "source": [
        "out_put_dff_indexed_full= feature_assembeled.transform(dff_indexed_full)"
      ],
      "metadata": {
        "id": "q9CjsIYH_qMw"
      },
      "execution_count": null,
      "outputs": []
    },
    {
      "cell_type": "code",
      "source": [
        "out_put_dff_indexed_full.show()"
      ],
      "metadata": {
        "id": "_49wVHpR_qPp",
        "colab": {
          "base_uri": "https://localhost:8080/"
        },
        "outputId": "33f3aee8-29a9-47f9-d79a-ebc7acbac05a"
      },
      "execution_count": null,
      "outputs": [
        {
          "output_type": "stream",
          "name": "stdout",
          "text": [
            "+---+--------+--------+-----+--------+------------+--------------+-------------+---------+-----------+------+----------+------------+----------+----------+-------+----------+--------+--------------+-----------+---+--------------------+\n",
            "|age|duration|campaign|pdays|previous|emp_var_rate|cons_price_idx|cons_conf_idx|euribor3m|nr_employed|job_in|marital_in|education_in|default_in|housing_in|loan_in|contact_in|month_in|day_of_week_in|poutcome_in|  y|        InputFeature|\n",
            "+---+--------+--------+-----+--------+------------+--------------+-------------+---------+-----------+------+----------+------------+----------+----------+-------+----------+--------+--------------+-----------+---+--------------------+\n",
            "| 30|     116|       1|  999|       0|        -1.8|        92.843|        -50.0|    1.811|     5099.1|   4.0|       0.0|         0.0|       0.0|       1.0|    0.0|       0.0|     6.0|           0.0|        0.0|  1|(20,[0,1,2,3,5,6,...|\n",
            "| 34|     146|       1|  999|       0|         1.4|        93.444|        -36.1|    4.968|     5228.1|   0.0|       0.0|         0.0|       1.0|       1.0|    0.0|       0.0|     2.0|           2.0|        0.0|  0|[34.0,146.0,1.0,9...|\n",
            "| 27|     120|       1|  999|       0|         1.4|        93.918|        -42.7|    4.961|     5228.1|   9.0|       1.0|         0.0|       0.0|       0.0|    0.0|       0.0|     1.0|           2.0|        0.0|  0|[27.0,120.0,1.0,9...|\n",
            "| 32|     209|       1|  999|       0|        -1.8|        92.893|        -46.2|    1.313|     5099.1|  10.0|       1.0|         0.0|       0.0|       1.0|    0.0|       0.0|     0.0|           4.0|        0.0|  0|[32.0,209.0,1.0,9...|\n",
            "| 48|     348|       2|  999|       0|         1.4|        93.444|        -36.1|    4.965|     5228.1|   1.0|       0.0|         2.0|       0.0|       1.0|    0.0|       0.0|     2.0|           0.0|        0.0|  0|[48.0,348.0,2.0,9...|\n",
            "| 33|     145|       2|  999|       0|         1.4|        93.918|        -42.7|     4.96|     5228.1|   0.0|       0.0|         0.0|       0.0|       1.0|    0.0|       0.0|     1.0|           0.0|        0.0|  0|(20,[0,1,2,3,5,6,...|\n",
            "| 53|     351|       1|  999|       0|        -1.8|        93.075|        -47.1|    1.405|     5099.1|   0.0|       1.0|         5.0|       1.0|       1.0|    1.0|       0.0|     5.0|           4.0|        0.0|  0|[53.0,351.0,1.0,9...|\n",
            "| 34|     207|       1|  999|       0|         1.1|        93.994|        -36.4|    4.857|     5191.0|   0.0|       0.0|         1.0|       0.0|       0.0|    0.0|       1.0|     0.0|           2.0|        0.0|  0|(20,[0,1,2,3,5,6,...|\n",
            "| 55|      94|       1|  999|       0|         1.4|        93.444|        -36.1|    4.963|     5228.1|   1.0|       0.0|         4.0|       0.0|       1.0|    0.0|       0.0|     2.0|           4.0|        0.0|  0|[55.0,94.0,1.0,99...|\n",
            "| 55|     415|       1|  999|       0|         1.1|        93.994|        -36.4|    4.858|     5191.0|   0.0|       1.0|         0.0|       1.0|       0.0|    1.0|       1.0|     0.0|           3.0|        0.0|  0|[55.0,415.0,1.0,9...|\n",
            "| 54|     202|       2|  999|       0|        -1.8|        92.893|        -46.2|    1.327|     5099.1|   0.0|       0.0|         1.0|       0.0|       1.0|    0.0|       0.0|     0.0|           1.0|        0.0|  0|(20,[0,1,2,3,5,6,...|\n",
            "| 48|     115|       2|  999|       0|         1.4|        93.444|        -36.1|    4.963|     5228.1|   4.0|       0.0|         0.0|       0.0|       1.0|    0.0|       0.0|     2.0|           2.0|        0.0|  0|[48.0,115.0,2.0,9...|\n",
            "| 34|     401|       1|  999|       0|        -1.7|        94.055|        -39.8|    0.761|     4991.6|   9.0|       1.0|         0.0|       0.0|       1.0|    0.0|       0.0|     3.0|           2.0|        0.0|  1|[34.0,401.0,1.0,9...|\n",
            "| 40|     265|       2|  999|       0|         1.1|        93.994|        -36.4|    4.857|     5191.0|   4.0|       0.0|         1.0|       0.0|       0.0|    1.0|       1.0|     0.0|           2.0|        0.0|  0|[40.0,265.0,2.0,9...|\n",
            "| 63|      49|       3|  999|       0|        -2.9|        92.201|        -31.4|    0.883|     5076.2|   7.0|       0.0|         4.0|       0.0|       1.0|    0.0|       1.0|     2.0|           1.0|        0.0|  0|[63.0,49.0,3.0,99...|\n",
            "| 41|      15|       1|  999|       0|         1.4|        94.465|        -41.8|    4.962|     5228.1|   1.0|       0.0|         5.0|       0.0|       1.0|    0.0|       1.0|     3.0|           3.0|        0.0|  0|[41.0,15.0,1.0,99...|\n",
            "| 49|     129|       1|  999|       0|         1.4|        93.918|        -42.7|    4.961|     5228.1|   8.0|       2.0|         4.0|       1.0|       0.0|    0.0|       0.0|     1.0|           2.0|        0.0|  0|[49.0,129.0,1.0,9...|\n",
            "| 34|     152|       2|  999|       0|        -1.1|        94.199|        -37.5|    0.879|     4963.6|   2.0|       1.0|         0.0|       0.0|       1.0|    0.0|       0.0|     7.0|           4.0|        0.0|  0|[34.0,152.0,2.0,9...|\n",
            "| 36|      56|       1|  999|       0|         1.4|        94.465|        -41.8|    4.864|     5228.1|   5.0|       0.0|         0.0|       0.0|       0.0|    0.0|       1.0|     3.0|           2.0|        0.0|  0|[36.0,56.0,1.0,99...|\n",
            "| 29|     133|       5|  999|       0|         1.4|        93.444|        -36.1|    4.965|     5228.1|   2.0|       0.0|         1.0|       0.0|       1.0|    0.0|       1.0|     2.0|           0.0|        0.0|  0|[29.0,133.0,5.0,9...|\n",
            "+---+--------+--------+-----+--------+------------+--------------+-------------+---------+-----------+------+----------+------------+----------+----------+-------+----------+--------+--------------+-----------+---+--------------------+\n",
            "only showing top 20 rows\n",
            "\n"
          ]
        }
      ]
    },
    {
      "cell_type": "code",
      "source": [
        "dff_indexed_full2 =dff_indexed_full"
      ],
      "metadata": {
        "id": "fUivXvfOI_on"
      },
      "execution_count": null,
      "outputs": []
    },
    {
      "cell_type": "code",
      "source": [
        "feature_assembeled2 = VectorAssembler(inputCols=corr_col_names,outputCol='InputFeature2')\n",
        "out_put_dff_indexed_full2= feature_assembeled2.transform(dff_indexed_full2)\n",
        "out_put_dff_indexed_full2.show()"
      ],
      "metadata": {
        "colab": {
          "base_uri": "https://localhost:8080/"
        },
        "id": "qGhlBB9YIxhQ",
        "outputId": "d35d6534-5397-4e03-f4fc-3c39a3648370"
      },
      "execution_count": null,
      "outputs": [
        {
          "output_type": "stream",
          "name": "stdout",
          "text": [
            "+---+--------+--------+-----+--------+------------+--------------+-------------+---------+-----------+------+----------+------------+----------+----------+-------+----------+--------+--------------+-----------+---+--------------------+\n",
            "|age|duration|campaign|pdays|previous|emp_var_rate|cons_price_idx|cons_conf_idx|euribor3m|nr_employed|job_in|marital_in|education_in|default_in|housing_in|loan_in|contact_in|month_in|day_of_week_in|poutcome_in|  y|       InputFeature2|\n",
            "+---+--------+--------+-----+--------+------------+--------------+-------------+---------+-----------+------+----------+------------+----------+----------+-------+----------+--------+--------------+-----------+---+--------------------+\n",
            "| 30|     116|       1|  999|       0|        -1.8|        92.843|        -50.0|    1.811|     5099.1|   4.0|       0.0|         0.0|       0.0|       1.0|    0.0|       0.0|     6.0|           0.0|        0.0|  1|[116.0,-1.8,1.811...|\n",
            "| 34|     146|       1|  999|       0|         1.4|        93.444|        -36.1|    4.968|     5228.1|   0.0|       0.0|         0.0|       1.0|       1.0|    0.0|       0.0|     2.0|           2.0|        0.0|  0|[146.0,1.4,4.968,...|\n",
            "| 27|     120|       1|  999|       0|         1.4|        93.918|        -42.7|    4.961|     5228.1|   9.0|       1.0|         0.0|       0.0|       0.0|    0.0|       0.0|     1.0|           2.0|        0.0|  0|[120.0,1.4,4.961,...|\n",
            "| 32|     209|       1|  999|       0|        -1.8|        92.893|        -46.2|    1.313|     5099.1|  10.0|       1.0|         0.0|       0.0|       1.0|    0.0|       0.0|     0.0|           4.0|        0.0|  0|[209.0,-1.8,1.313...|\n",
            "| 48|     348|       2|  999|       0|         1.4|        93.444|        -36.1|    4.965|     5228.1|   1.0|       0.0|         2.0|       0.0|       1.0|    0.0|       0.0|     2.0|           0.0|        0.0|  0|[348.0,1.4,4.965,...|\n",
            "| 33|     145|       2|  999|       0|         1.4|        93.918|        -42.7|     4.96|     5228.1|   0.0|       0.0|         0.0|       0.0|       1.0|    0.0|       0.0|     1.0|           0.0|        0.0|  0|[145.0,1.4,4.96,5...|\n",
            "| 53|     351|       1|  999|       0|        -1.8|        93.075|        -47.1|    1.405|     5099.1|   0.0|       1.0|         5.0|       1.0|       1.0|    1.0|       0.0|     5.0|           4.0|        0.0|  0|[351.0,-1.8,1.405...|\n",
            "| 34|     207|       1|  999|       0|         1.1|        93.994|        -36.4|    4.857|     5191.0|   0.0|       0.0|         1.0|       0.0|       0.0|    0.0|       1.0|     0.0|           2.0|        0.0|  0|[207.0,1.1,4.857,...|\n",
            "| 55|      94|       1|  999|       0|         1.4|        93.444|        -36.1|    4.963|     5228.1|   1.0|       0.0|         4.0|       0.0|       1.0|    0.0|       0.0|     2.0|           4.0|        0.0|  0|[94.0,1.4,4.963,5...|\n",
            "| 55|     415|       1|  999|       0|         1.1|        93.994|        -36.4|    4.858|     5191.0|   0.0|       1.0|         0.0|       1.0|       0.0|    1.0|       1.0|     0.0|           3.0|        0.0|  0|[415.0,1.1,4.858,...|\n",
            "| 54|     202|       2|  999|       0|        -1.8|        92.893|        -46.2|    1.327|     5099.1|   0.0|       0.0|         1.0|       0.0|       1.0|    0.0|       0.0|     0.0|           1.0|        0.0|  0|[202.0,-1.8,1.327...|\n",
            "| 48|     115|       2|  999|       0|         1.4|        93.444|        -36.1|    4.963|     5228.1|   4.0|       0.0|         0.0|       0.0|       1.0|    0.0|       0.0|     2.0|           2.0|        0.0|  0|[115.0,1.4,4.963,...|\n",
            "| 34|     401|       1|  999|       0|        -1.7|        94.055|        -39.8|    0.761|     4991.6|   9.0|       1.0|         0.0|       0.0|       1.0|    0.0|       0.0|     3.0|           2.0|        0.0|  1|[401.0,-1.7,0.761...|\n",
            "| 40|     265|       2|  999|       0|         1.1|        93.994|        -36.4|    4.857|     5191.0|   4.0|       0.0|         1.0|       0.0|       0.0|    1.0|       1.0|     0.0|           2.0|        0.0|  0|[265.0,1.1,4.857,...|\n",
            "| 63|      49|       3|  999|       0|        -2.9|        92.201|        -31.4|    0.883|     5076.2|   7.0|       0.0|         4.0|       0.0|       1.0|    0.0|       1.0|     2.0|           1.0|        0.0|  0|[49.0,-2.9,0.883,...|\n",
            "| 41|      15|       1|  999|       0|         1.4|        94.465|        -41.8|    4.962|     5228.1|   1.0|       0.0|         5.0|       0.0|       1.0|    0.0|       1.0|     3.0|           3.0|        0.0|  0|[15.0,1.4,4.962,5...|\n",
            "| 49|     129|       1|  999|       0|         1.4|        93.918|        -42.7|    4.961|     5228.1|   8.0|       2.0|         4.0|       1.0|       0.0|    0.0|       0.0|     1.0|           2.0|        0.0|  0|[129.0,1.4,4.961,...|\n",
            "| 34|     152|       2|  999|       0|        -1.1|        94.199|        -37.5|    0.879|     4963.6|   2.0|       1.0|         0.0|       0.0|       1.0|    0.0|       0.0|     7.0|           4.0|        0.0|  0|[152.0,-1.1,0.879...|\n",
            "| 36|      56|       1|  999|       0|         1.4|        94.465|        -41.8|    4.864|     5228.1|   5.0|       0.0|         0.0|       0.0|       0.0|    0.0|       1.0|     3.0|           2.0|        0.0|  0|[56.0,1.4,4.864,5...|\n",
            "| 29|     133|       5|  999|       0|         1.4|        93.444|        -36.1|    4.965|     5228.1|   2.0|       0.0|         1.0|       0.0|       1.0|    0.0|       1.0|     2.0|           0.0|        0.0|  0|[133.0,1.4,4.965,...|\n",
            "+---+--------+--------+-----+--------+------------+--------------+-------------+---------+-----------+------+----------+------------+----------+----------+-------+----------+--------+--------------+-----------+---+--------------------+\n",
            "only showing top 20 rows\n",
            "\n"
          ]
        }
      ]
    },
    {
      "cell_type": "code",
      "source": [
        "scaler = StandardScaler(inputCol=\"InputFeature\", outputCol=\"scaledFeatures\",\n",
        "                        withStd=True, withMean=False)\n",
        "scalerModel = scaler.fit(out_put_dff_indexed_full)\n",
        "scaledData = scalerModel.transform(out_put_dff_indexed_full)\n",
        "scaledData.show()"
      ],
      "metadata": {
        "colab": {
          "base_uri": "https://localhost:8080/"
        },
        "id": "pNOm7vdgA2C0",
        "outputId": "495a1ed9-2f1e-4efe-d5ed-c0d318c68586"
      },
      "execution_count": null,
      "outputs": [
        {
          "output_type": "stream",
          "name": "stdout",
          "text": [
            "+---+--------+--------+-----+--------+------------+--------------+-------------+---------+-----------+------+----------+------------+----------+----------+-------+----------+--------+--------------+-----------+---+--------------------+--------------------+\n",
            "|age|duration|campaign|pdays|previous|emp_var_rate|cons_price_idx|cons_conf_idx|euribor3m|nr_employed|job_in|marital_in|education_in|default_in|housing_in|loan_in|contact_in|month_in|day_of_week_in|poutcome_in|  y|        InputFeature|      scaledFeatures|\n",
            "+---+--------+--------+-----+--------+------------+--------------+-------------+---------+-----------+------+----------+------------+----------+----------+-------+----------+--------+--------------+-----------+---+--------------------+--------------------+\n",
            "| 30|     116|       1|  999|       0|        -1.8|        92.843|        -50.0|    1.811|     5099.1|   4.0|       0.0|         0.0|       0.0|       1.0|    0.0|       0.0|     6.0|           0.0|        0.0|  1|(20,[0,1,2,3,5,6,...|(20,[0,1,2,3,5,6,...|\n",
            "| 34|     146|       1|  999|       0|         1.4|        93.444|        -36.1|    4.968|     5228.1|   0.0|       0.0|         0.0|       1.0|       1.0|    0.0|       0.0|     2.0|           2.0|        0.0|  0|[34.0,146.0,1.0,9...|[3.58626090762698...|\n",
            "| 27|     120|       1|  999|       0|         1.4|        93.918|        -42.7|    4.961|     5228.1|   9.0|       1.0|         0.0|       0.0|       0.0|    0.0|       0.0|     1.0|           2.0|        0.0|  0|[27.0,120.0,1.0,9...|[2.84791307370378...|\n",
            "| 32|     209|       1|  999|       0|        -1.8|        92.893|        -46.2|    1.313|     5099.1|  10.0|       1.0|         0.0|       0.0|       1.0|    0.0|       0.0|     0.0|           4.0|        0.0|  0|[32.0,209.0,1.0,9...|[3.37530438364892...|\n",
            "| 48|     348|       2|  999|       0|         1.4|        93.444|        -36.1|    4.965|     5228.1|   1.0|       0.0|         2.0|       0.0|       1.0|    0.0|       0.0|     2.0|           0.0|        0.0|  0|[48.0,348.0,2.0,9...|[5.06295657547338...|\n",
            "| 33|     145|       2|  999|       0|         1.4|        93.918|        -42.7|     4.96|     5228.1|   0.0|       0.0|         0.0|       0.0|       1.0|    0.0|       0.0|     1.0|           0.0|        0.0|  0|(20,[0,1,2,3,5,6,...|(20,[0,1,2,3,5,6,...|\n",
            "| 53|     351|       1|  999|       0|        -1.8|        93.075|        -47.1|    1.405|     5099.1|   0.0|       1.0|         5.0|       1.0|       1.0|    1.0|       0.0|     5.0|           4.0|        0.0|  0|[53.0,351.0,1.0,9...|[5.59034788541853...|\n",
            "| 34|     207|       1|  999|       0|         1.1|        93.994|        -36.4|    4.857|     5191.0|   0.0|       0.0|         1.0|       0.0|       0.0|    0.0|       1.0|     0.0|           2.0|        0.0|  0|(20,[0,1,2,3,5,6,...|(20,[0,1,2,3,5,6,...|\n",
            "| 55|      94|       1|  999|       0|         1.4|        93.444|        -36.1|    4.963|     5228.1|   1.0|       0.0|         4.0|       0.0|       1.0|    0.0|       0.0|     2.0|           4.0|        0.0|  0|[55.0,94.0,1.0,99...|[5.80130440939659...|\n",
            "| 55|     415|       1|  999|       0|         1.1|        93.994|        -36.4|    4.858|     5191.0|   0.0|       1.0|         0.0|       1.0|       0.0|    1.0|       1.0|     0.0|           3.0|        0.0|  0|[55.0,415.0,1.0,9...|[5.80130440939659...|\n",
            "| 54|     202|       2|  999|       0|        -1.8|        92.893|        -46.2|    1.327|     5099.1|   0.0|       0.0|         1.0|       0.0|       1.0|    0.0|       0.0|     0.0|           1.0|        0.0|  0|(20,[0,1,2,3,5,6,...|(20,[0,1,2,3,5,6,...|\n",
            "| 48|     115|       2|  999|       0|         1.4|        93.444|        -36.1|    4.963|     5228.1|   4.0|       0.0|         0.0|       0.0|       1.0|    0.0|       0.0|     2.0|           2.0|        0.0|  0|[48.0,115.0,2.0,9...|[5.06295657547338...|\n",
            "| 34|     401|       1|  999|       0|        -1.7|        94.055|        -39.8|    0.761|     4991.6|   9.0|       1.0|         0.0|       0.0|       1.0|    0.0|       0.0|     3.0|           2.0|        0.0|  1|[34.0,401.0,1.0,9...|[3.58626090762698...|\n",
            "| 40|     265|       2|  999|       0|         1.1|        93.994|        -36.4|    4.857|     5191.0|   4.0|       0.0|         1.0|       0.0|       0.0|    1.0|       1.0|     0.0|           2.0|        0.0|  0|[40.0,265.0,2.0,9...|[4.21913047956115...|\n",
            "| 63|      49|       3|  999|       0|        -2.9|        92.201|        -31.4|    0.883|     5076.2|   7.0|       0.0|         4.0|       0.0|       1.0|    0.0|       1.0|     2.0|           1.0|        0.0|  0|[63.0,49.0,3.0,99...|[6.64513050530882...|\n",
            "| 41|      15|       1|  999|       0|         1.4|        94.465|        -41.8|    4.962|     5228.1|   1.0|       0.0|         5.0|       0.0|       1.0|    0.0|       1.0|     3.0|           3.0|        0.0|  0|[41.0,15.0,1.0,99...|[4.32460874155018...|\n",
            "| 49|     129|       1|  999|       0|         1.4|        93.918|        -42.7|    4.961|     5228.1|   8.0|       2.0|         4.0|       1.0|       0.0|    0.0|       0.0|     1.0|           2.0|        0.0|  0|[49.0,129.0,1.0,9...|[5.16843483746241...|\n",
            "| 34|     152|       2|  999|       0|        -1.1|        94.199|        -37.5|    0.879|     4963.6|   2.0|       1.0|         0.0|       0.0|       1.0|    0.0|       0.0|     7.0|           4.0|        0.0|  0|[34.0,152.0,2.0,9...|[3.58626090762698...|\n",
            "| 36|      56|       1|  999|       0|         1.4|        94.465|        -41.8|    4.864|     5228.1|   5.0|       0.0|         0.0|       0.0|       0.0|    0.0|       1.0|     3.0|           2.0|        0.0|  0|[36.0,56.0,1.0,99...|[3.79721743160504...|\n",
            "| 29|     133|       5|  999|       0|         1.4|        93.444|        -36.1|    4.965|     5228.1|   2.0|       0.0|         1.0|       0.0|       1.0|    0.0|       1.0|     2.0|           0.0|        0.0|  0|[29.0,133.0,5.0,9...|[3.05886959768183...|\n",
            "+---+--------+--------+-----+--------+------------+--------------+-------------+---------+-----------+------+----------+------------+----------+----------+-------+----------+--------+--------------+-----------+---+--------------------+--------------------+\n",
            "only showing top 20 rows\n",
            "\n"
          ]
        }
      ]
    },
    {
      "cell_type": "code",
      "source": [
        "scaledData_F_y=scaledData.select(['scaledFeatures','y'])"
      ],
      "metadata": {
        "id": "KAZkQqk8Goqq"
      },
      "execution_count": null,
      "outputs": []
    },
    {
      "cell_type": "code",
      "source": [
        "scaledData_F_y.show()"
      ],
      "metadata": {
        "colab": {
          "base_uri": "https://localhost:8080/"
        },
        "id": "HGclPtl9HB_3",
        "outputId": "8968745b-a418-4a3a-f76d-f347ed033df7"
      },
      "execution_count": null,
      "outputs": [
        {
          "output_type": "stream",
          "name": "stdout",
          "text": [
            "+--------------------+---+\n",
            "|      scaledFeatures|  y|\n",
            "+--------------------+---+\n",
            "|(20,[0,1,2,3,5,6,...|  1|\n",
            "|[3.58626090762698...|  0|\n",
            "|[2.84791307370378...|  0|\n",
            "|[3.37530438364892...|  0|\n",
            "|[5.06295657547338...|  0|\n",
            "|(20,[0,1,2,3,5,6,...|  0|\n",
            "|[5.59034788541853...|  0|\n",
            "|(20,[0,1,2,3,5,6,...|  0|\n",
            "|[5.80130440939659...|  0|\n",
            "|[5.80130440939659...|  0|\n",
            "|(20,[0,1,2,3,5,6,...|  0|\n",
            "|[5.06295657547338...|  0|\n",
            "|[3.58626090762698...|  1|\n",
            "|[4.21913047956115...|  0|\n",
            "|[6.64513050530882...|  0|\n",
            "|[4.32460874155018...|  0|\n",
            "|[5.16843483746241...|  0|\n",
            "|[3.58626090762698...|  0|\n",
            "|[3.79721743160504...|  0|\n",
            "|[3.05886959768183...|  0|\n",
            "+--------------------+---+\n",
            "only showing top 20 rows\n",
            "\n"
          ]
        }
      ]
    },
    {
      "cell_type": "code",
      "source": [
        "scaler2 = StandardScaler(inputCol=\"InputFeature2\", outputCol=\"scaledFeatures2\",\n",
        "                        withStd=True, withMean=False)\n",
        "scalerModel2 = scaler2.fit(out_put_dff_indexed_full2)\n",
        "scaledData22 = scalerModel2.transform(out_put_dff_indexed_full2)\n",
        "scaledData22.show()"
      ],
      "metadata": {
        "colab": {
          "base_uri": "https://localhost:8080/"
        },
        "id": "NbaDvES_JPBc",
        "outputId": "c0516625-2402-427e-c86d-77fcf721ee4f"
      },
      "execution_count": null,
      "outputs": [
        {
          "output_type": "stream",
          "name": "stdout",
          "text": [
            "+---+--------+--------+-----+--------+------------+--------------+-------------+---------+-----------+------+----------+------------+----------+----------+-------+----------+--------+--------------+-----------+---+--------------------+--------------------+\n",
            "|age|duration|campaign|pdays|previous|emp_var_rate|cons_price_idx|cons_conf_idx|euribor3m|nr_employed|job_in|marital_in|education_in|default_in|housing_in|loan_in|contact_in|month_in|day_of_week_in|poutcome_in|  y|       InputFeature2|     scaledFeatures2|\n",
            "+---+--------+--------+-----+--------+------------+--------------+-------------+---------+-----------+------+----------+------------+----------+----------+-------+----------+--------+--------------+-----------+---+--------------------+--------------------+\n",
            "| 30|     116|       1|  999|       0|        -1.8|        92.843|        -50.0|    1.811|     5099.1|   4.0|       0.0|         0.0|       0.0|       1.0|    0.0|       0.0|     6.0|           0.0|        0.0|  1|[116.0,-1.8,1.811...|[0.82725347628238...|\n",
            "| 34|     146|       1|  999|       0|         1.4|        93.444|        -36.1|    4.968|     5228.1|   0.0|       0.0|         0.0|       1.0|       1.0|    0.0|       0.0|     2.0|           2.0|        0.0|  0|[146.0,1.4,4.968,...|[1.04119834083817...|\n",
            "| 27|     120|       1|  999|       0|         1.4|        93.918|        -42.7|    4.961|     5228.1|   9.0|       1.0|         0.0|       0.0|       0.0|    0.0|       0.0|     1.0|           2.0|        0.0|  0|[120.0,1.4,4.961,...|[0.85577945822315...|\n",
            "| 32|     209|       1|  999|       0|        -1.8|        92.893|        -46.2|    1.313|     5099.1|  10.0|       1.0|         0.0|       0.0|       1.0|    0.0|       0.0|     0.0|           4.0|        0.0|  0|[209.0,-1.8,1.313...|[1.49048255640533...|\n",
            "| 48|     348|       2|  999|       0|         1.4|        93.444|        -36.1|    4.965|     5228.1|   1.0|       0.0|         2.0|       0.0|       1.0|    0.0|       0.0|     2.0|           0.0|        0.0|  0|[348.0,1.4,4.965,...|[2.48176042884715...|\n",
            "| 33|     145|       2|  999|       0|         1.4|        93.918|        -42.7|     4.96|     5228.1|   0.0|       0.0|         0.0|       0.0|       1.0|    0.0|       0.0|     1.0|           0.0|        0.0|  0|[145.0,1.4,4.96,5...|[1.03406684535298...|\n",
            "| 53|     351|       1|  999|       0|        -1.8|        93.075|        -47.1|    1.405|     5099.1|   0.0|       1.0|         5.0|       1.0|       1.0|    1.0|       0.0|     5.0|           4.0|        0.0|  0|[351.0,-1.8,1.405...|[2.50315491530273...|\n",
            "| 34|     207|       1|  999|       0|         1.1|        93.994|        -36.4|    4.857|     5191.0|   0.0|       0.0|         1.0|       0.0|       0.0|    0.0|       1.0|     0.0|           2.0|        0.0|  0|[207.0,1.1,4.857,...|[1.47621956543494...|\n",
            "| 55|      94|       1|  999|       0|         1.4|        93.444|        -36.1|    4.963|     5228.1|   1.0|       0.0|         4.0|       0.0|       1.0|    0.0|       0.0|     2.0|           4.0|        0.0|  0|[94.0,1.4,4.963,5...|[0.67036057560813...|\n",
            "| 55|     415|       1|  999|       0|         1.1|        93.994|        -36.4|    4.858|     5191.0|   0.0|       1.0|         0.0|       1.0|       0.0|    1.0|       1.0|     0.0|           3.0|        0.0|  0|[415.0,1.1,4.858,...|[2.95957062635508...|\n",
            "| 54|     202|       2|  999|       0|        -1.8|        92.893|        -46.2|    1.327|     5099.1|   0.0|       0.0|         1.0|       0.0|       1.0|    0.0|       0.0|     0.0|           1.0|        0.0|  0|[202.0,-1.8,1.327...|[1.44056208800897...|\n",
            "| 48|     115|       2|  999|       0|         1.4|        93.444|        -36.1|    4.963|     5228.1|   4.0|       0.0|         0.0|       0.0|       1.0|    0.0|       0.0|     2.0|           2.0|        0.0|  0|[115.0,1.4,4.963,...|[0.82012198079719...|\n",
            "| 34|     401|       1|  999|       0|        -1.7|        94.055|        -39.8|    0.761|     4991.6|   9.0|       1.0|         0.0|       0.0|       1.0|    0.0|       0.0|     3.0|           2.0|        0.0|  1|[401.0,-1.7,0.761...|[2.85972968956238...|\n",
            "| 40|     265|       2|  999|       0|         1.1|        93.994|        -36.4|    4.857|     5191.0|   4.0|       0.0|         1.0|       0.0|       0.0|    1.0|       1.0|     0.0|           2.0|        0.0|  0|[265.0,1.1,4.857,...|[1.88984630357613...|\n",
            "| 63|      49|       3|  999|       0|        -2.9|        92.201|        -31.4|    0.883|     5076.2|   7.0|       0.0|         4.0|       0.0|       1.0|    0.0|       1.0|     2.0|           1.0|        0.0|  0|[49.0,-2.9,0.883,...|[0.34944327877445...|\n",
            "| 41|      15|       1|  999|       0|         1.4|        94.465|        -41.8|    4.962|     5228.1|   1.0|       0.0|         5.0|       0.0|       1.0|    0.0|       1.0|     3.0|           3.0|        0.0|  0|[15.0,1.4,4.962,5...|[0.10697243227789...|\n",
            "| 49|     129|       1|  999|       0|         1.4|        93.918|        -42.7|    4.961|     5228.1|   8.0|       2.0|         4.0|       1.0|       0.0|    0.0|       0.0|     1.0|           2.0|        0.0|  0|[129.0,1.4,4.961,...|[0.91996291758989...|\n",
            "| 34|     152|       2|  999|       0|        -1.1|        94.199|        -37.5|    0.879|     4963.6|   2.0|       1.0|         0.0|       0.0|       1.0|    0.0|       0.0|     7.0|           4.0|        0.0|  0|[152.0,-1.1,0.879...|[1.08398731374933...|\n",
            "| 36|      56|       1|  999|       0|         1.4|        94.465|        -41.8|    4.864|     5228.1|   5.0|       0.0|         0.0|       0.0|       0.0|    0.0|       1.0|     3.0|           2.0|        0.0|  0|[56.0,1.4,4.864,5...|[0.39936374717080...|\n",
            "| 29|     133|       5|  999|       0|         1.4|        93.444|        -36.1|    4.965|     5228.1|   2.0|       0.0|         1.0|       0.0|       1.0|    0.0|       1.0|     2.0|           0.0|        0.0|  0|[133.0,1.4,4.965,...|[0.94848889953066...|\n",
            "+---+--------+--------+-----+--------+------------+--------------+-------------+---------+-----------+------+----------+------------+----------+----------+-------+----------+--------+--------------+-----------+---+--------------------+--------------------+\n",
            "only showing top 20 rows\n",
            "\n"
          ]
        }
      ]
    },
    {
      "cell_type": "code",
      "source": [
        "scaledData_F_y2=scaledData22.select(['scaledFeatures2','y'])\n",
        "scaledData_F_y2.show()"
      ],
      "metadata": {
        "colab": {
          "base_uri": "https://localhost:8080/"
        },
        "id": "fIwL6IAEJPEh",
        "outputId": "f52cfe29-4497-4a3e-9134-9bad05a130fe"
      },
      "execution_count": null,
      "outputs": [
        {
          "output_type": "stream",
          "name": "stdout",
          "text": [
            "+--------------------+---+\n",
            "|     scaledFeatures2|  y|\n",
            "+--------------------+---+\n",
            "|[0.82725347628238...|  1|\n",
            "|[1.04119834083817...|  0|\n",
            "|[0.85577945822315...|  0|\n",
            "|[1.49048255640533...|  0|\n",
            "|[2.48176042884715...|  0|\n",
            "|[1.03406684535298...|  0|\n",
            "|[2.50315491530273...|  0|\n",
            "|[1.47621956543494...|  0|\n",
            "|[0.67036057560813...|  0|\n",
            "|[2.95957062635508...|  0|\n",
            "|[1.44056208800897...|  0|\n",
            "|[0.82012198079719...|  0|\n",
            "|[2.85972968956238...|  1|\n",
            "|[1.88984630357613...|  0|\n",
            "|[0.34944327877445...|  0|\n",
            "|[0.10697243227789...|  0|\n",
            "|[0.91996291758989...|  0|\n",
            "|[1.08398731374933...|  0|\n",
            "|[0.39936374717080...|  0|\n",
            "|[0.94848889953066...|  0|\n",
            "+--------------------+---+\n",
            "only showing top 20 rows\n",
            "\n"
          ]
        }
      ]
    },
    {
      "cell_type": "code",
      "source": [
        "train_data, test_data = scaledData_F_y.randomSplit([0.8,0.2])\n"
      ],
      "metadata": {
        "id": "aTUpv0tyKii5"
      },
      "execution_count": null,
      "outputs": []
    },
    {
      "cell_type": "code",
      "source": [
        "from pyspark.ml.classification import LogisticRegression\n",
        "lr = LogisticRegression(featuresCol='scaledFeatures',labelCol='y',maxIter=5).fit(train_data)\n",
        "\n"
      ],
      "metadata": {
        "id": "ewUhHEzwL2JX"
      },
      "execution_count": null,
      "outputs": []
    },
    {
      "cell_type": "code",
      "source": [
        "lr"
      ],
      "metadata": {
        "colab": {
          "base_uri": "https://localhost:8080/"
        },
        "id": "vY_tvfkRRShA",
        "outputId": "635f9bf6-6c7c-470f-9b3c-63dd726b04b0"
      },
      "execution_count": null,
      "outputs": [
        {
          "output_type": "execute_result",
          "data": {
            "text/plain": [
              "LogisticRegressionModel: uid=LogisticRegression_df5aecccaba4, numClasses=2, numFeatures=20"
            ]
          },
          "metadata": {},
          "execution_count": 199
        }
      ]
    },
    {
      "cell_type": "code",
      "source": [
        "train_result = lr.evaluate(train_data).predictions"
      ],
      "metadata": {
        "id": "I2c18OuwTqXi"
      },
      "execution_count": null,
      "outputs": []
    },
    {
      "cell_type": "code",
      "source": [
        "train_result.show()"
      ],
      "metadata": {
        "colab": {
          "base_uri": "https://localhost:8080/"
        },
        "id": "d14qao2sTqbo",
        "outputId": "4d50eeef-a2e7-42bb-ab32-bee499679d15"
      },
      "execution_count": null,
      "outputs": [
        {
          "output_type": "stream",
          "name": "stdout",
          "text": [
            "+--------------------+---+--------------------+--------------------+----------+\n",
            "|      scaledFeatures|  y|       rawPrediction|         probability|prediction|\n",
            "+--------------------+---+--------------------+--------------------+----------+\n",
            "|(20,[0,1,2,3,5,6,...|  0|[3.84135229397620...|[0.97898649031975...|       0.0|\n",
            "|(20,[0,1,2,3,5,6,...|  0|[3.79776002341780...|[0.97807073662919...|       0.0|\n",
            "|(20,[0,1,2,3,5,6,...|  0|[2.73328475564223...|[0.93896236489969...|       0.0|\n",
            "|(20,[0,1,2,3,5,6,...|  0|[3.93122812336833...|[0.98075795793914...|       0.0|\n",
            "|(20,[0,1,2,3,5,6,...|  0|[2.17581514286653...|[0.89805658213893...|       0.0|\n",
            "|(20,[0,1,2,3,5,6,...|  0|[3.26760842113884...|[0.96330071718185...|       0.0|\n",
            "|(20,[0,1,2,3,5,6,...|  0|[2.91704020304429...|[0.94868239521825...|       0.0|\n",
            "|(20,[0,1,2,3,5,6,...|  0|[2.72558737334963...|[0.93851971874656...|       0.0|\n",
            "|(20,[0,1,2,3,5,6,...|  0|[2.29504947347647...|[0.90846620777441...|       0.0|\n",
            "|(20,[0,1,2,3,5,6,...|  0|[2.46661812470510...|[0.92176824018371...|       0.0|\n",
            "|(20,[0,1,2,3,5,6,...|  1|[-0.5698683506903...|[0.36126720279721...|       1.0|\n",
            "|(20,[0,1,2,3,5,6,...|  0|[4.54457571116251...|[0.98948701737990...|       0.0|\n",
            "|(20,[0,1,2,3,5,6,...|  0|[3.95878051022147...|[0.98127109124450...|       0.0|\n",
            "|(20,[0,1,2,3,5,6,...|  0|[2.18811766773919...|[0.89917738723757...|       0.0|\n",
            "|(20,[0,1,2,3,5,6,...|  0|[0.12256880223660...|[0.53060389633723...|       0.0|\n",
            "|(20,[0,1,2,3,5,6,...|  0|[3.69789656753574...|[0.97582340385356...|       0.0|\n",
            "|(20,[0,1,2,3,5,6,...|  0|[1.58426749944688...|[0.82980805115605...|       0.0|\n",
            "|(20,[0,1,2,3,5,6,...|  0|[4.28391622426706...|[0.98639898129344...|       0.0|\n",
            "|(20,[0,1,2,3,5,6,...|  0|[3.62737181149602...|[0.97410254329425...|       0.0|\n",
            "|(20,[0,1,2,3,5,6,...|  1|[-0.2946658684487...|[0.42686197088269...|       1.0|\n",
            "+--------------------+---+--------------------+--------------------+----------+\n",
            "only showing top 20 rows\n",
            "\n"
          ]
        }
      ]
    },
    {
      "cell_type": "code",
      "source": [
        "results = lr.evaluate(test_data).predictions\n",
        "results.show()"
      ],
      "metadata": {
        "colab": {
          "base_uri": "https://localhost:8080/"
        },
        "id": "wWtOsZAWTqeM",
        "outputId": "9b2d2080-ab95-4929-aeee-5021cf852445"
      },
      "execution_count": null,
      "outputs": [
        {
          "output_type": "stream",
          "name": "stdout",
          "text": [
            "+--------------------+---+--------------------+--------------------+----------+\n",
            "|      scaledFeatures|  y|       rawPrediction|         probability|prediction|\n",
            "+--------------------+---+--------------------+--------------------+----------+\n",
            "|(20,[0,1,2,3,5,6,...|  0|[3.08687361253451...|[0.95634803545260...|       0.0|\n",
            "|(20,[0,1,2,3,5,6,...|  0|[3.29865331383940...|[0.96438258256790...|       0.0|\n",
            "|(20,[0,1,2,3,5,6,...|  0|[1.55795697382088...|[0.82605999653352...|       0.0|\n",
            "|(20,[0,1,2,3,5,6,...|  1|[2.45531549221128...|[0.92094929454732...|       0.0|\n",
            "|(20,[0,1,2,3,5,6,...|  0|[1.61550283667995...|[0.83417398185634...|       0.0|\n",
            "|(20,[0,1,2,3,5,6,...|  0|[-0.3705262394042...|[0.40841386969710...|       1.0|\n",
            "|(20,[0,1,2,3,5,6,...|  0|[4.85828084839857...|[0.99229599291357...|       0.0|\n",
            "|(20,[0,1,2,3,5,6,...|  0|[5.26236634331538...|[0.99484369985609...|       0.0|\n",
            "|(20,[0,1,2,3,5,6,...|  0|[4.55191315662127...|[0.98956307136592...|       0.0|\n",
            "|(20,[0,1,2,3,5,6,...|  0|[4.89718130552172...|[0.99258774941665...|       0.0|\n",
            "|(20,[0,1,2,3,5,6,...|  1|[0.40186445632308...|[0.59913553324116...|       0.0|\n",
            "|(20,[0,1,2,3,5,6,...|  1|[-1.1492343708861...|[0.24062895611977...|       1.0|\n",
            "|(20,[0,1,2,3,5,6,...|  0|[3.97788320669914...|[0.98161895452669...|       0.0|\n",
            "|(20,[0,1,2,3,5,6,...|  0|[3.86748453395274...|[0.97951740557349...|       0.0|\n",
            "|(20,[0,1,2,3,5,6,...|  0|[3.42846134526705...|[0.96858227923498...|       0.0|\n",
            "|(20,[0,1,2,3,5,6,...|  0|[1.72974631337624...|[0.84937996807799...|       0.0|\n",
            "|(20,[0,1,2,3,5,6,...|  0|[2.20732692429716...|[0.90090554427605...|       0.0|\n",
            "|(20,[0,1,2,3,5,6,...|  0|[3.26347260053776...|[0.96315422532118...|       0.0|\n",
            "|(20,[0,1,2,3,5,6,...|  0|[4.09087304447892...|[0.98355048612417...|       0.0|\n",
            "|(20,[0,1,2,3,5,6,...|  0|[4.73978012412101...|[0.99133516773973...|       0.0|\n",
            "+--------------------+---+--------------------+--------------------+----------+\n",
            "only showing top 20 rows\n",
            "\n"
          ]
        }
      ]
    },
    {
      "cell_type": "code",
      "source": [
        "results.select(['y','prediction']).show(10)\n",
        "\n"
      ],
      "metadata": {
        "colab": {
          "base_uri": "https://localhost:8080/"
        },
        "id": "nyJrSxYRTqg7",
        "outputId": "2cb165be-6e5b-4f33-d2a8-92db34429e95"
      },
      "execution_count": null,
      "outputs": [
        {
          "output_type": "stream",
          "name": "stdout",
          "text": [
            "+---+----------+\n",
            "|  y|prediction|\n",
            "+---+----------+\n",
            "|  0|       0.0|\n",
            "|  0|       0.0|\n",
            "|  0|       0.0|\n",
            "|  1|       0.0|\n",
            "|  0|       0.0|\n",
            "|  0|       1.0|\n",
            "|  0|       0.0|\n",
            "|  0|       0.0|\n",
            "|  0|       0.0|\n",
            "|  0|       0.0|\n",
            "+---+----------+\n",
            "only showing top 10 rows\n",
            "\n"
          ]
        }
      ]
    },
    {
      "cell_type": "code",
      "source": [
        "tp = results[(results.y==1)&(results.prediction==1)].count()\n",
        "tp"
      ],
      "metadata": {
        "colab": {
          "base_uri": "https://localhost:8080/"
        },
        "id": "aZBUFg60VfUA",
        "outputId": "7ca95399-ffe6-4f8e-fbe9-dbb72cac3b74"
      },
      "execution_count": null,
      "outputs": [
        {
          "output_type": "execute_result",
          "data": {
            "text/plain": [
              "70"
            ]
          },
          "metadata": {},
          "execution_count": 204
        }
      ]
    },
    {
      "cell_type": "code",
      "source": [
        "tn = results[(results.y==0)&(results.prediction==0)].count()\n",
        "tn"
      ],
      "metadata": {
        "colab": {
          "base_uri": "https://localhost:8080/"
        },
        "id": "ydBHXwbsVfWa",
        "outputId": "96c3a33c-68a0-40d8-db5c-3b88b4a234d1"
      },
      "execution_count": null,
      "outputs": [
        {
          "output_type": "execute_result",
          "data": {
            "text/plain": [
              "5624"
            ]
          },
          "metadata": {},
          "execution_count": 205
        }
      ]
    },
    {
      "cell_type": "code",
      "source": [
        "fp = results[(results.y==0)&(results.prediction==1)].count()\n",
        "fp"
      ],
      "metadata": {
        "colab": {
          "base_uri": "https://localhost:8080/"
        },
        "id": "s9rl9PafVfYn",
        "outputId": "1795aff1-3ce1-440a-80c5-cf3d72d1d220"
      },
      "execution_count": null,
      "outputs": [
        {
          "output_type": "execute_result",
          "data": {
            "text/plain": [
              "71"
            ]
          },
          "metadata": {},
          "execution_count": 206
        }
      ]
    },
    {
      "cell_type": "code",
      "source": [
        "fn = results[(results.y==1)&(results.prediction==0)].count()\n",
        "fn"
      ],
      "metadata": {
        "colab": {
          "base_uri": "https://localhost:8080/"
        },
        "id": "gJt6RvazVfa2",
        "outputId": "508e726b-674a-4d5b-8f04-1d1fc23350da"
      },
      "execution_count": null,
      "outputs": [
        {
          "output_type": "execute_result",
          "data": {
            "text/plain": [
              "254"
            ]
          },
          "metadata": {},
          "execution_count": 207
        }
      ]
    },
    {
      "cell_type": "code",
      "source": [
        "accuracy = float((tp+tn)/(results.count()))\n",
        "accuracy"
      ],
      "metadata": {
        "colab": {
          "base_uri": "https://localhost:8080/"
        },
        "id": "-H4MzHfpVfdC",
        "outputId": "b0158820-8a10-490f-ee02-5ac4a8b216c2"
      },
      "execution_count": null,
      "outputs": [
        {
          "output_type": "execute_result",
          "data": {
            "text/plain": [
              "0.9460043196544277"
            ]
          },
          "metadata": {},
          "execution_count": 208
        }
      ]
    },
    {
      "cell_type": "code",
      "source": [
        "recall = float(tn)/(tp+tn)\n",
        "recall"
      ],
      "metadata": {
        "colab": {
          "base_uri": "https://localhost:8080/"
        },
        "id": "d7GfyRwCVfft",
        "outputId": "849438fe-9827-4a7b-e2d2-2f9cbc3a4603"
      },
      "execution_count": null,
      "outputs": [
        {
          "output_type": "execute_result",
          "data": {
            "text/plain": [
              "0.9877063575693713"
            ]
          },
          "metadata": {},
          "execution_count": 209
        }
      ]
    },
    {
      "cell_type": "code",
      "source": [
        "train_data2, test_data2 = scaledData_F_y2.randomSplit([0.8,0.2])\n",
        "from pyspark.ml.classification import LogisticRegression\n",
        "lr2 = LogisticRegression(featuresCol='scaledFeatures2',labelCol='y',maxIter=5).fit(train_data2)\n",
        "lr2"
      ],
      "metadata": {
        "colab": {
          "base_uri": "https://localhost:8080/"
        },
        "id": "XFt0O1VhZHLK",
        "outputId": "8a75da31-f1f7-491f-c8b6-290f62ed48cb"
      },
      "execution_count": null,
      "outputs": [
        {
          "output_type": "execute_result",
          "data": {
            "text/plain": [
              "LogisticRegressionModel: uid=LogisticRegression_74e149e370ea, numClasses=2, numFeatures=5"
            ]
          },
          "metadata": {},
          "execution_count": 210
        }
      ]
    },
    {
      "cell_type": "code",
      "source": [
        "train_result2 = lr2.evaluate(train_data2).predictions\n",
        "train_result2.show()"
      ],
      "metadata": {
        "colab": {
          "base_uri": "https://localhost:8080/"
        },
        "id": "zWX8GvQLZPNQ",
        "outputId": "c6aad02b-fe95-4bf1-e011-6c195835065e"
      },
      "execution_count": null,
      "outputs": [
        {
          "output_type": "stream",
          "name": "stdout",
          "text": [
            "+--------------------+---+--------------------+--------------------+----------+\n",
            "|     scaledFeatures2|  y|       rawPrediction|         probability|prediction|\n",
            "+--------------------+---+--------------------+--------------------+----------+\n",
            "|[0.00713149548519...|  0|[3.23103048989933...|[0.96198545531229...|       0.0|\n",
            "|[0.03565747742596...|  0|[3.09003423785314...|[0.95647979025876...|       0.0|\n",
            "|[0.03565747742596...|  0|[3.36294421843994...|[0.96652616296593...|       0.0|\n",
            "|[0.03565747742596...|  0|[3.36294421843994...|[0.96652616296593...|       0.0|\n",
            "|[0.03565747742596...|  0|[1.38687439609314...|[0.80009278944678...|       0.0|\n",
            "|[0.03565747742596...|  0|[6.60258330403479...|[0.99864498024126...|       0.0|\n",
            "|[0.03565747742596...|  0|[6.60383274448738...|[0.99864666991076...|       0.0|\n",
            "|[0.04278897291115...|  0|[4.5326102854875,...|[0.98936181571772...|       0.0|\n",
            "|[0.04278897291115...|  0|[2.78542767954422...|[0.94188326474824...|       0.0|\n",
            "|[0.04278897291115...|  0|[3.08263233559806...|[0.95617063401566...|       0.0|\n",
            "|[0.04278897291115...|  0|[3.08457590963543...|[0.95625201382477...|       0.0|\n",
            "|[0.04278897291115...|  0|[1.38086076100761...|[0.79912920666164...|       0.0|\n",
            "|[0.04278897291115...|  0|[6.47867266506779...|[0.99846650729999...|       0.0|\n",
            "|[0.04992046839635...|  0|[3.70593151695253...|[0.97601224210449...|       0.0|\n",
            "|[0.04992046839635...|  0|[4.51854470081860...|[0.98921275167768...|       0.0|\n",
            "|[0.04992046839635...|  0|[4.51937766112033...|[0.98922163647908...|       0.0|\n",
            "|[0.04992046839635...|  0|[4.52368128934592...|[0.98926742610520...|       0.0|\n",
            "|[0.04992046839635...|  0|[4.52506955651546...|[0.98928215586594...|       0.0|\n",
            "|[0.04992046839635...|  0|[4.53381563968360...|[0.98937449460645...|       0.0|\n",
            "|[0.04992046839635...|  0|[3.17912243365332...|[0.96004101420218...|       0.0|\n",
            "+--------------------+---+--------------------+--------------------+----------+\n",
            "only showing top 20 rows\n",
            "\n"
          ]
        }
      ]
    },
    {
      "cell_type": "code",
      "source": [
        "results2 = lr2.evaluate(test_data2).predictions\n",
        "results2.show()"
      ],
      "metadata": {
        "colab": {
          "base_uri": "https://localhost:8080/"
        },
        "id": "zzzK-bR_eHCx",
        "outputId": "f7e3f36d-f626-424f-b234-1311e5bfbbc2"
      },
      "execution_count": null,
      "outputs": [
        {
          "output_type": "stream",
          "name": "stdout",
          "text": [
            "+--------------------+---+--------------------+--------------------+----------+\n",
            "|     scaledFeatures2|  y|       rawPrediction|         probability|prediction|\n",
            "+--------------------+---+--------------------+--------------------+----------+\n",
            "|[0.02852598194077...|  0|[4.54116688773470...|[0.98945149799882...|       0.0|\n",
            "|[0.02852598194077...|  0|[6.49361529629490...|[0.99848921700327...|       0.0|\n",
            "|[0.03565747742596...|  0|[1.64479109124886...|[0.83818580819329...|       0.0|\n",
            "|[0.03565747742596...|  0|[1.38284842130146...|[0.79944807960986...|       0.0|\n",
            "|[0.03565747742596...|  0|[6.60383274448738...|[0.99864666991076...|       0.0|\n",
            "|[0.04278897291115...|  0|[4.54135636865563...|[0.98945347547158...|       0.0|\n",
            "|[0.04992046839635...|  0|[1.63054259360652...|[0.83624395510329...|       0.0|\n",
            "|[0.05705196388154...|  0|[5.00592788836932...|[0.99334644299245...|       0.0|\n",
            "|[0.06418345936673...|  0|[3.16404097570926...|[0.95945842429387...|       0.0|\n",
            "|[0.06418345936673...|  0|[6.57366982859925...|[0.99860528546165...|       0.0|\n",
            "|[0.07131495485192...|  0|[4.50105910242982...|[0.98902455986132...|       0.0|\n",
            "|[0.07131495485192...|  0|[4.50744513140973...|[0.98909366403523...|       0.0|\n",
            "|[0.07844645033712...|  0|[4.99704954643173...|[0.99328750571692...|       0.0|\n",
            "|[0.07844645033712...|  0|[6.55706127676869...|[0.99858196096376...|       0.0|\n",
            "|[0.07844645033712...|  0|[6.01262958276462...|[0.99755833290078...|       0.0|\n",
            "|[0.08557794582231...|  0|[4.48847652539094...|[0.98888713243726...|       0.0|\n",
            "|[0.08557794582231...|  0|[3.03849857550151...|[0.95428337180132...|       0.0|\n",
            "|[0.08557794582231...|  0|[6.00508885379259...|[0.99753989682287...|       0.0|\n",
            "|[0.09270944130750...|  0|[3.13387805982113...|[0.95826875149789...|       0.0|\n",
            "|[0.09270944130750...|  0|[6.42574873554662...|[0.99838329757799...|       0.0|\n",
            "+--------------------+---+--------------------+--------------------+----------+\n",
            "only showing top 20 rows\n",
            "\n"
          ]
        }
      ]
    },
    {
      "cell_type": "code",
      "source": [
        "results2.select(['y','prediction']).show(10)\n"
      ],
      "metadata": {
        "colab": {
          "base_uri": "https://localhost:8080/"
        },
        "id": "0McZaIHfZ4uw",
        "outputId": "9acae95f-3fe7-4043-b91b-9deefd7bc2bf"
      },
      "execution_count": null,
      "outputs": [
        {
          "output_type": "stream",
          "name": "stdout",
          "text": [
            "+---+----------+\n",
            "|  y|prediction|\n",
            "+---+----------+\n",
            "|  0|       0.0|\n",
            "|  0|       0.0|\n",
            "|  0|       0.0|\n",
            "|  0|       0.0|\n",
            "|  0|       0.0|\n",
            "|  0|       0.0|\n",
            "|  0|       0.0|\n",
            "|  0|       0.0|\n",
            "|  0|       0.0|\n",
            "|  0|       0.0|\n",
            "+---+----------+\n",
            "only showing top 10 rows\n",
            "\n"
          ]
        }
      ]
    },
    {
      "cell_type": "code",
      "source": [
        "tp2 = results2[(results2.y==1)&(results2.prediction==1)].count()\n",
        "print(\"tp2 \",tp2)\n",
        "tn2 = results2[(results2.y==0)&(results2.prediction==0)].count()\n",
        "print(\"tn2\",tn2)\n",
        "fp2 = results2[(results2.y==0)&(results2.prediction==1)].count()\n",
        "print(\"fp2 \" ,fp2)\n",
        "\n",
        "fn2 = results2[(results2.y==1)&(results2.prediction==0)].count()\n",
        "print(\"fn2 \",fn2)"
      ],
      "metadata": {
        "colab": {
          "base_uri": "https://localhost:8080/"
        },
        "id": "HPPlQ6ePZ82b",
        "outputId": "638a960f-44b9-49a3-f5a0-f9d2bbc3648c"
      },
      "execution_count": null,
      "outputs": [
        {
          "output_type": "stream",
          "name": "stdout",
          "text": [
            "tp2  68\n",
            "tn2 5636\n",
            "fp2  58\n",
            "fn2  304\n"
          ]
        }
      ]
    },
    {
      "cell_type": "code",
      "source": [
        "accuracy2 = float((tp2+tn2)/(results2.count()))\n",
        "print(\"acc2 \",accuracy2)\n",
        "\n",
        "recall2 = float(tn2)/(tp2+tn2)\n",
        "print(\"recall2 \",recall2)"
      ],
      "metadata": {
        "colab": {
          "base_uri": "https://localhost:8080/"
        },
        "id": "OcOFDd7saAj_",
        "outputId": "d8238a2b-1e5c-447e-dd0a-1a89423c0f21"
      },
      "execution_count": null,
      "outputs": [
        {
          "output_type": "stream",
          "name": "stdout",
          "text": [
            "acc2  0.9403231124299374\n",
            "recall2  0.988078541374474\n"
          ]
        }
      ]
    }
  ]
}