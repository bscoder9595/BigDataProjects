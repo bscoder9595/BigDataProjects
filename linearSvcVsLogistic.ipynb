{
  "nbformat": 4,
  "nbformat_minor": 0,
  "metadata": {
    "colab": {
      "provenance": [],
      "authorship_tag": "ABX9TyOEtRrnV8hnMEOWmnlHJxCa",
      "include_colab_link": true
    },
    "kernelspec": {
      "name": "python3",
      "display_name": "Python 3"
    },
    "language_info": {
      "name": "python"
    }
  },
  "cells": [
    {
      "cell_type": "markdown",
      "metadata": {
        "id": "view-in-github",
        "colab_type": "text"
      },
      "source": [
        "<a href=\"https://colab.research.google.com/github/bscoder9595/BigDataProjects/blob/main/linearSvcVsLogistic.ipynb\" target=\"_parent\"><img src=\"https://colab.research.google.com/assets/colab-badge.svg\" alt=\"Open In Colab\"/></a>"
      ]
    },
    {
      "cell_type": "code",
      "execution_count": 1,
      "metadata": {
        "colab": {
          "base_uri": "https://localhost:8080/"
        },
        "id": "ULquO2216Uip",
        "outputId": "562e2292-58a4-4f99-9a68-217a031537bf"
      },
      "outputs": [
        {
          "output_type": "stream",
          "name": "stdout",
          "text": [
            "Mounted at /content/drive\n"
          ]
        }
      ],
      "source": [
        "from google.colab import drive\n",
        "drive.mount('/content/drive')"
      ]
    },
    {
      "cell_type": "code",
      "source": [
        "!pip install pyspark --quiet"
      ],
      "metadata": {
        "id": "XUywGfR66ZDp"
      },
      "execution_count": 97,
      "outputs": []
    },
    {
      "cell_type": "code",
      "source": [
        "import pyspark\n",
        "from pyspark.sql import SparkSession\n",
        "spark:SparkSession = SparkSession.builder \\\n",
        "    .master(\"local[4]\") \\\n",
        "    .appName(\"logistic\") \\\n",
        "    .getOrCreate()\n",
        "sc = spark.sparkContext     "
      ],
      "metadata": {
        "id": "Gvk_e3SO6a2w"
      },
      "execution_count": 98,
      "outputs": []
    },
    {
      "cell_type": "code",
      "source": [
        "path = \"/content/drive/MyDrive/csvFiles/ML_hw_dataset.csv\"\n",
        "dff = spark.read.csv(path,inferSchema=True,header=True)\n",
        "df1 = dff\n",
        "df2 = dff"
      ],
      "metadata": {
        "id": "HsneeUPQ6a5U"
      },
      "execution_count": 99,
      "outputs": []
    },
    {
      "cell_type": "code",
      "source": [
        "dff.show(5)"
      ],
      "metadata": {
        "colab": {
          "base_uri": "https://localhost:8080/"
        },
        "id": "NwFdNbgv6a7l",
        "outputId": "d9a260d3-88c0-4fc6-b513-5b4341b9cbd3"
      },
      "execution_count": 100,
      "outputs": [
        {
          "output_type": "stream",
          "name": "stdout",
          "text": [
            "+---+-----------+-------+-----------------+-------+-------+----+--------+-----+-----------+--------+--------+-----+--------+-----------+------------+--------------+-------------+---------+-----------+---+\n",
            "|age|        job|marital|        education|default|housing|loan| contact|month|day_of_week|duration|campaign|pdays|previous|   poutcome|emp_var_rate|cons_price_idx|cons_conf_idx|euribor3m|nr_employed|  y|\n",
            "+---+-----------+-------+-----------------+-------+-------+----+--------+-----+-----------+--------+--------+-----+--------+-----------+------------+--------------+-------------+---------+-----------+---+\n",
            "| 44|blue-collar|married|         basic.4y|unknown|    yes|  no|cellular|  aug|        thu|     210|       1|  999|       0|nonexistent|         1.4|        93.444|        -36.1|    4.963|     5228.1|  0|\n",
            "| 53| technician|married|          unknown|     no|     no|  no|cellular|  nov|        fri|     138|       1|  999|       0|nonexistent|        -0.1|          93.2|        -42.0|    4.021|     5195.8|  0|\n",
            "| 28| management| single|university.degree|     no|    yes|  no|cellular|  jun|        thu|     339|       3|    6|       2|    success|        -1.7|        94.055|        -39.8|    0.729|     4991.6|  1|\n",
            "| 39|   services|married|      high.school|     no|     no|  no|cellular|  apr|        fri|     185|       2|  999|       0|nonexistent|        -1.8|        93.075|        -47.1|    1.405|     5099.1|  0|\n",
            "| 55|    retired|married|         basic.4y|     no|    yes|  no|cellular|  aug|        fri|     137|       1|    3|       1|    success|        -2.9|        92.201|        -31.4|    0.869|     5076.2|  1|\n",
            "+---+-----------+-------+-----------------+-------+-------+----+--------+-----+-----------+--------+--------+-----+--------+-----------+------------+--------------+-------------+---------+-----------+---+\n",
            "only showing top 5 rows\n",
            "\n"
          ]
        }
      ]
    },
    {
      "cell_type": "code",
      "source": [],
      "metadata": {
        "id": "fMpSLEk-MGOS"
      },
      "execution_count": 100,
      "outputs": []
    },
    {
      "cell_type": "code",
      "source": [
        "dff.printSchema()\n"
      ],
      "metadata": {
        "colab": {
          "base_uri": "https://localhost:8080/"
        },
        "id": "_gxd_mHW7HD-",
        "outputId": "3ebfa886-18d4-45ff-8cc7-8af706aa4314"
      },
      "execution_count": 101,
      "outputs": [
        {
          "output_type": "stream",
          "name": "stdout",
          "text": [
            "root\n",
            " |-- age: integer (nullable = true)\n",
            " |-- job: string (nullable = true)\n",
            " |-- marital: string (nullable = true)\n",
            " |-- education: string (nullable = true)\n",
            " |-- default: string (nullable = true)\n",
            " |-- housing: string (nullable = true)\n",
            " |-- loan: string (nullable = true)\n",
            " |-- contact: string (nullable = true)\n",
            " |-- month: string (nullable = true)\n",
            " |-- day_of_week: string (nullable = true)\n",
            " |-- duration: integer (nullable = true)\n",
            " |-- campaign: integer (nullable = true)\n",
            " |-- pdays: integer (nullable = true)\n",
            " |-- previous: integer (nullable = true)\n",
            " |-- poutcome: string (nullable = true)\n",
            " |-- emp_var_rate: double (nullable = true)\n",
            " |-- cons_price_idx: double (nullable = true)\n",
            " |-- cons_conf_idx: double (nullable = true)\n",
            " |-- euribor3m: double (nullable = true)\n",
            " |-- nr_employed: double (nullable = true)\n",
            " |-- y: integer (nullable = true)\n",
            "\n"
          ]
        }
      ]
    },
    {
      "cell_type": "code",
      "source": [
        "for m in dff.columns:\n",
        "  dff.groupBy(m).count().show()"
      ],
      "metadata": {
        "colab": {
          "base_uri": "https://localhost:8080/"
        },
        "id": "5q2SsokF7HGU",
        "outputId": "a885e1f2-076b-4a4e-9dcd-51b1dfd971d2"
      },
      "execution_count": 102,
      "outputs": [
        {
          "output_type": "stream",
          "name": "stdout",
          "text": [
            "+---+-----+\n",
            "|age|count|\n",
            "+---+-----+\n",
            "| 31| 1947|\n",
            "| 85|   15|\n",
            "| 65|   44|\n",
            "| 53|  733|\n",
            "| 78|   27|\n",
            "| 34| 1745|\n",
            "| 81|   20|\n",
            "| 28| 1001|\n",
            "| 76|   34|\n",
            "| 27|  851|\n",
            "| 26|  698|\n",
            "| 44| 1011|\n",
            "| 91|    2|\n",
            "| 22|  137|\n",
            "| 47|  928|\n",
            "| 52|  779|\n",
            "| 86|    8|\n",
            "| 40| 1161|\n",
            "| 20|   65|\n",
            "| 94|    1|\n",
            "+---+-----+\n",
            "only showing top 20 rows\n",
            "\n",
            "+-------------+-----+\n",
            "|          job|count|\n",
            "+-------------+-----+\n",
            "|   management| 2924|\n",
            "|      retired| 1720|\n",
            "|      unknown|  330|\n",
            "|self-employed| 1421|\n",
            "|      student|  875|\n",
            "|  blue-collar| 9254|\n",
            "| entrepreneur| 1456|\n",
            "|       admin.|10422|\n",
            "|   technician| 6743|\n",
            "|     services| 3969|\n",
            "|    housemaid| 1060|\n",
            "|   unemployed| 1014|\n",
            "+-------------+-----+\n",
            "\n",
            "+--------+-----+\n",
            "| marital|count|\n",
            "+--------+-----+\n",
            "| unknown|   80|\n",
            "|divorced| 4612|\n",
            "| married|24928|\n",
            "|  single|11568|\n",
            "+--------+-----+\n",
            "\n",
            "+-------------------+-----+\n",
            "|          education|count|\n",
            "+-------------------+-----+\n",
            "|        high.school| 9515|\n",
            "|            unknown| 1731|\n",
            "|           basic.6y| 2292|\n",
            "|professional.course| 5243|\n",
            "|  university.degree|12168|\n",
            "|         illiterate|   18|\n",
            "|           basic.4y| 4176|\n",
            "|           basic.9y| 6045|\n",
            "+-------------------+-----+\n",
            "\n",
            "+-------+-----+\n",
            "|default|count|\n",
            "+-------+-----+\n",
            "|unknown| 8597|\n",
            "|     no|32588|\n",
            "|    yes|    3|\n",
            "+-------+-----+\n",
            "\n",
            "+-------+-----+\n",
            "|housing|count|\n",
            "+-------+-----+\n",
            "|unknown|  990|\n",
            "|     no|18622|\n",
            "|    yes|21576|\n",
            "+-------+-----+\n",
            "\n",
            "+-------+-----+\n",
            "|   loan|count|\n",
            "+-------+-----+\n",
            "|unknown|  990|\n",
            "|     no|33950|\n",
            "|    yes| 6248|\n",
            "+-------+-----+\n",
            "\n",
            "+---------+-----+\n",
            "|  contact|count|\n",
            "+---------+-----+\n",
            "| cellular|26144|\n",
            "|telephone|15044|\n",
            "+---------+-----+\n",
            "\n",
            "+-----+-----+\n",
            "|month|count|\n",
            "+-----+-----+\n",
            "|  jun| 5318|\n",
            "|  aug| 6178|\n",
            "|  may|13769|\n",
            "|  sep|  570|\n",
            "|  mar|  546|\n",
            "|  oct|  718|\n",
            "|  jul| 7174|\n",
            "|  nov| 4101|\n",
            "|  apr| 2632|\n",
            "|  dec|  182|\n",
            "+-----+-----+\n",
            "\n",
            "+-----------+-----+\n",
            "|day_of_week|count|\n",
            "+-----------+-----+\n",
            "|        fri| 7827|\n",
            "|        thu| 8623|\n",
            "|        tue| 8090|\n",
            "|        wed| 8134|\n",
            "|        mon| 8514|\n",
            "+-----------+-----+\n",
            "\n",
            "+--------+-----+\n",
            "|duration|count|\n",
            "+--------+-----+\n",
            "|     463|   20|\n",
            "|     148|  123|\n",
            "|     471|   26|\n",
            "|    1088|    3|\n",
            "|     496|   11|\n",
            "|     833|    5|\n",
            "|    1580|    1|\n",
            "|    1238|    2|\n",
            "|    1342|    1|\n",
            "|     540|   10|\n",
            "|     243|   79|\n",
            "|    1025|    4|\n",
            "|     392|   32|\n",
            "|     623|   16|\n",
            "|    1721|    2|\n",
            "|     858|    4|\n",
            "|     737|    3|\n",
            "|    1084|    3|\n",
            "|     897|    5|\n",
            "|    1127|    3|\n",
            "+--------+-----+\n",
            "only showing top 20 rows\n",
            "\n",
            "+--------+-----+\n",
            "|campaign|count|\n",
            "+--------+-----+\n",
            "|      31|    7|\n",
            "|      34|    3|\n",
            "|      28|    8|\n",
            "|      27|   11|\n",
            "|      26|    8|\n",
            "|      12|  125|\n",
            "|      22|   17|\n",
            "|       1|17642|\n",
            "|      13|   92|\n",
            "|       6|  979|\n",
            "|      16|   51|\n",
            "|       3| 5341|\n",
            "|      20|   30|\n",
            "|      40|    2|\n",
            "|       5| 1599|\n",
            "|      19|   26|\n",
            "|      41|    1|\n",
            "|      15|   51|\n",
            "|      43|    2|\n",
            "|      17|   58|\n",
            "+--------+-----+\n",
            "only showing top 20 rows\n",
            "\n",
            "+-----+-----+\n",
            "|pdays|count|\n",
            "+-----+-----+\n",
            "|   26|    1|\n",
            "|   12|   58|\n",
            "|   22|    3|\n",
            "|    1|   26|\n",
            "|   13|   36|\n",
            "|    6|  412|\n",
            "|   16|   11|\n",
            "|    3|  439|\n",
            "|   20|    1|\n",
            "|    5|   46|\n",
            "|   19|    3|\n",
            "|   15|   24|\n",
            "|    9|   64|\n",
            "|   17|    8|\n",
            "|    4|  118|\n",
            "|    8|   18|\n",
            "|    7|   60|\n",
            "|   10|   52|\n",
            "|   25|    1|\n",
            "|   21|    2|\n",
            "+-----+-----+\n",
            "only showing top 20 rows\n",
            "\n",
            "+--------+-----+\n",
            "|previous|count|\n",
            "+--------+-----+\n",
            "|       1| 4561|\n",
            "|       6|    5|\n",
            "|       3|  216|\n",
            "|       5|   18|\n",
            "|       4|   70|\n",
            "|       7|    1|\n",
            "|       2|  754|\n",
            "|       0|35563|\n",
            "+--------+-----+\n",
            "\n",
            "+-----------+-----+\n",
            "|   poutcome|count|\n",
            "+-----------+-----+\n",
            "|    success| 1373|\n",
            "|    failure| 4252|\n",
            "|nonexistent|35563|\n",
            "+-----------+-----+\n",
            "\n",
            "+------------+-----+\n",
            "|emp_var_rate|count|\n",
            "+------------+-----+\n",
            "|        -1.7|  773|\n",
            "|        -0.1| 3683|\n",
            "|         1.4|16234|\n",
            "|        -1.8| 9184|\n",
            "|        -3.0|  172|\n",
            "|        -1.1|  635|\n",
            "|        -2.9| 1663|\n",
            "|         1.1| 7763|\n",
            "|        -0.2|   10|\n",
            "|        -3.4| 1071|\n",
            "+------------+-----+\n",
            "\n",
            "+--------------+-----+\n",
            "|cons_price_idx|count|\n",
            "+--------------+-----+\n",
            "|        92.201|  770|\n",
            "|        93.369|  264|\n",
            "|        92.713|  172|\n",
            "|        94.215|  311|\n",
            "|        92.963|  715|\n",
            "|        93.444| 5175|\n",
            "|        93.749|  174|\n",
            "|        94.601|  204|\n",
            "|        92.469|  178|\n",
            "|          93.2| 3616|\n",
            "|        94.055|  229|\n",
            "|        93.798|   67|\n",
            "|        92.756|   10|\n",
            "|        92.649|  357|\n",
            "|        92.431|  447|\n",
            "|        94.199|  303|\n",
            "|        93.994| 7763|\n",
            "|        93.876|  212|\n",
            "|        92.843|  282|\n",
            "|        94.465| 4374|\n",
            "+--------------+-----+\n",
            "only showing top 20 rows\n",
            "\n",
            "+-------------+-----+\n",
            "|cons_conf_idx|count|\n",
            "+-------------+-----+\n",
            "|        -41.8| 4374|\n",
            "|        -34.6|  174|\n",
            "|        -50.0|  282|\n",
            "|        -40.3|  311|\n",
            "|        -42.0| 3616|\n",
            "|        -42.7| 6685|\n",
            "|        -33.6|  178|\n",
            "|        -40.0|  212|\n",
            "|        -38.3|  233|\n",
            "|        -36.1| 5175|\n",
            "|        -40.8|  715|\n",
            "|        -40.4|   67|\n",
            "|        -49.5|  204|\n",
            "|        -29.8|  267|\n",
            "|        -33.0|  172|\n",
            "|        -45.9|   10|\n",
            "|        -34.8|  264|\n",
            "|        -37.5|  303|\n",
            "|        -36.4| 7763|\n",
            "|        -31.4|  770|\n",
            "+-------------+-----+\n",
            "only showing top 20 rows\n",
            "\n",
            "+---------+-----+\n",
            "|euribor3m|count|\n",
            "+---------+-----+\n",
            "|    1.757|   20|\n",
            "|    4.592|    4|\n",
            "|    4.967|  643|\n",
            "|    4.223|    4|\n",
            "|    1.435|   81|\n",
            "|    0.716|   54|\n",
            "|    0.744|   17|\n",
            "|     0.84|   18|\n",
            "|    0.645|   26|\n",
            "|     1.41|  254|\n",
            "|    1.059|   23|\n",
            "|    0.773|   22|\n",
            "|    0.886|   48|\n",
            "|    1.614|   13|\n",
            "|    1.206|    9|\n",
            "|    0.894|    3|\n",
            "|    3.669|    1|\n",
            "|    4.964| 1175|\n",
            "|    4.245|    9|\n",
            "|    0.878|   33|\n",
            "+---------+-----+\n",
            "only showing top 20 rows\n",
            "\n",
            "+-----------+-----+\n",
            "|nr_employed|count|\n",
            "+-----------+-----+\n",
            "|     5191.0| 7763|\n",
            "|     5228.1|16234|\n",
            "|     5023.5|  172|\n",
            "|     5195.8| 3683|\n",
            "|     5076.2| 1663|\n",
            "|     4991.6|  773|\n",
            "|     5099.1| 8534|\n",
            "|     5008.7|  650|\n",
            "|     5017.5| 1071|\n",
            "|     4963.6|  635|\n",
            "|     5176.3|   10|\n",
            "+-----------+-----+\n",
            "\n",
            "+---+-----+\n",
            "|  y|count|\n",
            "+---+-----+\n",
            "|  1| 4640|\n",
            "|  0|36548|\n",
            "+---+-----+\n",
            "\n"
          ]
        }
      ]
    },
    {
      "cell_type": "code",
      "source": [
        "numeric_cols = [col_name for col_name , col_type in dff.dtypes if col_type in ['int','double','float']]\n",
        "cat_cols = [col_name for col_name , col_type in dff.dtypes if col_type  not in ['int','double','float']]"
      ],
      "metadata": {
        "id": "5QsZQZtk7HI3"
      },
      "execution_count": 103,
      "outputs": []
    },
    {
      "cell_type": "code",
      "source": [],
      "metadata": {
        "id": "CnUqmsgV7HLP"
      },
      "execution_count": 103,
      "outputs": []
    },
    {
      "cell_type": "code",
      "source": [],
      "metadata": {
        "id": "uQ5HpHhZ7HN9"
      },
      "execution_count": 103,
      "outputs": []
    },
    {
      "cell_type": "markdown",
      "source": [
        "At first we don`t preprocess the data\n"
      ],
      "metadata": {
        "id": "OiD0vw206zQx"
      }
    },
    {
      "cell_type": "code",
      "source": [
        "from pyspark.ml.feature import StringIndexer "
      ],
      "metadata": {
        "id": "3QYY4eT56a9y"
      },
      "execution_count": 104,
      "outputs": []
    },
    {
      "cell_type": "code",
      "source": [
        "cat_cols_in = []"
      ],
      "metadata": {
        "id": "FzO-m5LO81ZG"
      },
      "execution_count": 105,
      "outputs": []
    },
    {
      "cell_type": "code",
      "source": [
        "for c in cat_cols:\n",
        "  cat_cols_in.append(c+\"_in\")\n",
        " "
      ],
      "metadata": {
        "id": "xKaXDq2J8dVY"
      },
      "execution_count": 106,
      "outputs": []
    },
    {
      "cell_type": "code",
      "source": [],
      "metadata": {
        "id": "ShmFQjca9a0b"
      },
      "execution_count": 106,
      "outputs": []
    },
    {
      "cell_type": "code",
      "source": [],
      "metadata": {
        "id": "darLdJIL9dLQ"
      },
      "execution_count": 106,
      "outputs": []
    },
    {
      "cell_type": "code",
      "source": [
        "indexr_q = StringIndexer(inputCols=cat_cols,outputCols=cat_cols_in)\n",
        "df1_in = indexr_q.fit(df1).transform(df1)\n"
      ],
      "metadata": {
        "id": "LKIMxZx96bAA"
      },
      "execution_count": 107,
      "outputs": []
    },
    {
      "cell_type": "code",
      "source": [
        "df1_in.show(4)"
      ],
      "metadata": {
        "colab": {
          "base_uri": "https://localhost:8080/"
        },
        "id": "wSVa5Lgh6bCh",
        "outputId": "db431205-1fab-4a87-aba5-1683f5fa99cb"
      },
      "execution_count": 108,
      "outputs": [
        {
          "output_type": "stream",
          "name": "stdout",
          "text": [
            "+---+-----------+-------+-----------------+-------+-------+----+--------+-----+-----------+--------+--------+-----+--------+-----------+------------+--------------+-------------+---------+-----------+---+------+----------+------------+----------+----------+-------+----------+--------+--------------+-----------+\n",
            "|age|        job|marital|        education|default|housing|loan| contact|month|day_of_week|duration|campaign|pdays|previous|   poutcome|emp_var_rate|cons_price_idx|cons_conf_idx|euribor3m|nr_employed|  y|job_in|marital_in|education_in|default_in|housing_in|loan_in|contact_in|month_in|day_of_week_in|poutcome_in|\n",
            "+---+-----------+-------+-----------------+-------+-------+----+--------+-----+-----------+--------+--------+-----+--------+-----------+------------+--------------+-------------+---------+-----------+---+------+----------+------------+----------+----------+-------+----------+--------+--------------+-----------+\n",
            "| 44|blue-collar|married|         basic.4y|unknown|    yes|  no|cellular|  aug|        thu|     210|       1|  999|       0|nonexistent|         1.4|        93.444|        -36.1|    4.963|     5228.1|  0|   1.0|       0.0|         4.0|       1.0|       0.0|    0.0|       0.0|     2.0|           0.0|        0.0|\n",
            "| 53| technician|married|          unknown|     no|     no|  no|cellular|  nov|        fri|     138|       1|  999|       0|nonexistent|        -0.1|          93.2|        -42.0|    4.021|     5195.8|  0|   2.0|       0.0|         6.0|       0.0|       1.0|    0.0|       0.0|     4.0|           4.0|        0.0|\n",
            "| 28| management| single|university.degree|     no|    yes|  no|cellular|  jun|        thu|     339|       3|    6|       2|    success|        -1.7|        94.055|        -39.8|    0.729|     4991.6|  1|   4.0|       1.0|         0.0|       0.0|       0.0|    0.0|       0.0|     3.0|           0.0|        2.0|\n",
            "| 39|   services|married|      high.school|     no|     no|  no|cellular|  apr|        fri|     185|       2|  999|       0|nonexistent|        -1.8|        93.075|        -47.1|    1.405|     5099.1|  0|   3.0|       0.0|         1.0|       0.0|       1.0|    0.0|       0.0|     5.0|           4.0|        0.0|\n",
            "+---+-----------+-------+-----------------+-------+-------+----+--------+-----+-----------+--------+--------+-----+--------+-----------+------------+--------------+-------------+---------+-----------+---+------+----------+------------+----------+----------+-------+----------+--------+--------------+-----------+\n",
            "only showing top 4 rows\n",
            "\n"
          ]
        }
      ]
    },
    {
      "cell_type": "code",
      "source": [
        "for c in cat_cols:\n",
        "  df1_in = df1_in.drop(c)"
      ],
      "metadata": {
        "id": "x3t9rBaJ6bE3"
      },
      "execution_count": 109,
      "outputs": []
    },
    {
      "cell_type": "code",
      "source": [
        "from pyspark.ml.feature import VectorAssembler"
      ],
      "metadata": {
        "id": "0jITg_KH6bHY"
      },
      "execution_count": 110,
      "outputs": []
    },
    {
      "cell_type": "code",
      "source": [
        "vect_assem = [c for c in df1_in.columns if c!='y']\n"
      ],
      "metadata": {
        "id": "rjbcxgBD6bJl"
      },
      "execution_count": 111,
      "outputs": []
    },
    {
      "cell_type": "code",
      "source": [
        "vec_assembeled = VectorAssembler(inputCols=vect_assem,outputCol='InputFeature')\n",
        "df1_vectored= vec_assembeled.transform(df1_in)"
      ],
      "metadata": {
        "id": "Q8DQuCdA_QbH"
      },
      "execution_count": 112,
      "outputs": []
    },
    {
      "cell_type": "code",
      "source": [
        "df1_vectored = df1_vectored.select('InputFeature','y')"
      ],
      "metadata": {
        "id": "eQb1QEpg_YR2"
      },
      "execution_count": 113,
      "outputs": []
    },
    {
      "cell_type": "code",
      "source": [],
      "metadata": {
        "id": "7_tm4BalCFzf"
      },
      "execution_count": 113,
      "outputs": []
    },
    {
      "cell_type": "code",
      "source": [
        "from pyspark.ml.classification import LogisticRegression\n",
        "from pyspark.ml.classification import LinearSVC\n",
        "from pyspark.ml.evaluation import MulticlassClassificationEvaluator"
      ],
      "metadata": {
        "id": "W6igumQYCdaN"
      },
      "execution_count": 114,
      "outputs": []
    },
    {
      "cell_type": "code",
      "source": [
        "train_data1, test_data1 = df1_vectored.randomSplit([0.8,0.2])\n"
      ],
      "metadata": {
        "id": "HYUxEzgrCddF"
      },
      "execution_count": 115,
      "outputs": []
    },
    {
      "cell_type": "code",
      "source": [
        "train_data1.describe().show()"
      ],
      "metadata": {
        "colab": {
          "base_uri": "https://localhost:8080/"
        },
        "id": "NkcVydn5cYb8",
        "outputId": "96596c3c-40ad-4daf-f3ad-c9de96107021"
      },
      "execution_count": 165,
      "outputs": [
        {
          "output_type": "stream",
          "name": "stdout",
          "text": [
            "+-------+-------------------+\n",
            "|summary|                  y|\n",
            "+-------+-------------------+\n",
            "|  count|              32951|\n",
            "|   mean|0.11292525264787108|\n",
            "| stddev|0.31650620865676227|\n",
            "|    min|                  0|\n",
            "|    max|                  1|\n",
            "+-------+-------------------+\n",
            "\n"
          ]
        }
      ]
    },
    {
      "cell_type": "code",
      "source": [
        "test_data1.describe().show()"
      ],
      "metadata": {
        "colab": {
          "base_uri": "https://localhost:8080/"
        },
        "id": "E0DHzIaucYeh",
        "outputId": "d72aeaa8-0251-47f2-ebf9-9e94c9e8312b"
      },
      "execution_count": 166,
      "outputs": [
        {
          "output_type": "stream",
          "name": "stdout",
          "text": [
            "+-------+-------------------+\n",
            "|summary|                  y|\n",
            "+-------+-------------------+\n",
            "|  count|               8237|\n",
            "|   mean|0.11156974626684472|\n",
            "| stddev| 0.3148554798451735|\n",
            "|    min|                  0|\n",
            "|    max|                  1|\n",
            "+-------+-------------------+\n",
            "\n"
          ]
        }
      ]
    },
    {
      "cell_type": "code",
      "source": [
        "lr1 = LogisticRegression(featuresCol='InputFeature',labelCol='y',maxIter=5).fit(train_data1)\n",
        "lr_train_result1 = lr1.evaluate(train_data1).predictions\n",
        "lr_train_result1.show()"
      ],
      "metadata": {
        "colab": {
          "base_uri": "https://localhost:8080/"
        },
        "id": "d8Fa-rYpCdgC",
        "outputId": "40615fbe-bc9f-4714-ea48-317a76cabe24"
      },
      "execution_count": 116,
      "outputs": [
        {
          "output_type": "stream",
          "name": "stdout",
          "text": [
            "+--------------------+---+--------------------+--------------------+----------+\n",
            "|        InputFeature|  y|       rawPrediction|         probability|prediction|\n",
            "+--------------------+---+--------------------+--------------------+----------+\n",
            "|(20,[0,1,2,3,4,5,...|  1|[0.41628157135874...|[0.60259312105828...|       0.0|\n",
            "|(20,[0,1,2,3,4,5,...|  0|[2.84213014113075...|[0.94491045119890...|       0.0|\n",
            "|(20,[0,1,2,3,4,5,...|  0|[1.37324826710200...|[0.79790445306830...|       0.0|\n",
            "|(20,[0,1,2,3,4,5,...|  0|[2.47538988718557...|[0.92239844998909...|       0.0|\n",
            "|(20,[0,1,2,3,4,5,...|  0|[2.54753897011069...|[0.92740800638520...|       0.0|\n",
            "|(20,[0,1,2,3,4,5,...|  0|[2.34077884447756...|[0.91219848473079...|       0.0|\n",
            "|(20,[0,1,2,3,4,5,...|  0|[2.91698278973160...|[0.94867960003032...|       0.0|\n",
            "|(20,[0,1,2,3,4,5,...|  0|[3.55313009251423...|[0.97216226059103...|       0.0|\n",
            "|(20,[0,1,2,3,4,5,...|  0|[2.55711596009513...|[0.92805011904205...|       0.0|\n",
            "|(20,[0,1,2,3,4,5,...|  0|[2.54930791848569...|[0.92752700622597...|       0.0|\n",
            "|(20,[0,1,2,3,4,5,...|  0|[3.04618923574163...|[0.95461771952693...|       0.0|\n",
            "|(20,[0,1,2,3,4,5,...|  0|[1.81920037222336...|[0.86047015038102...|       0.0|\n",
            "|(20,[0,1,2,3,4,5,...|  0|[3.56616536549077...|[0.97251286869760...|       0.0|\n",
            "|(20,[0,1,2,3,4,5,...|  0|[0.92410333070909...|[0.71587744934628...|       0.0|\n",
            "|(20,[0,1,2,3,4,5,...|  0|[2.38880791449903...|[0.91596985986967...|       0.0|\n",
            "|(20,[0,1,2,3,4,5,...|  1|[-2.4526282595006...|[0.07924656197207...|       1.0|\n",
            "|(20,[0,1,2,3,4,5,...|  0|[2.62887412643251...|[0.93269690893805...|       0.0|\n",
            "|(20,[0,1,2,3,4,5,...|  1|[-1.5334530715320...|[0.17748902185625...|       1.0|\n",
            "|(20,[0,1,2,3,4,5,...|  0|[3.03147367047349...|[0.95397591904359...|       0.0|\n",
            "|(20,[0,1,2,3,4,5,...|  0|[2.41987165818528...|[0.91833011943047...|       0.0|\n",
            "+--------------------+---+--------------------+--------------------+----------+\n",
            "only showing top 20 rows\n",
            "\n"
          ]
        }
      ]
    },
    {
      "cell_type": "code",
      "source": [
        "lr_test_results1 = lr1.evaluate(test_data1).predictions\n",
        "lr_test_results1.show()"
      ],
      "metadata": {
        "colab": {
          "base_uri": "https://localhost:8080/"
        },
        "id": "KTZP3BM2CakM",
        "outputId": "73849afd-8812-4735-a7e8-32eb86b9d90a"
      },
      "execution_count": 117,
      "outputs": [
        {
          "output_type": "stream",
          "name": "stdout",
          "text": [
            "+--------------------+---+--------------------+--------------------+----------+\n",
            "|        InputFeature|  y|       rawPrediction|         probability|prediction|\n",
            "+--------------------+---+--------------------+--------------------+----------+\n",
            "|(20,[0,1,2,3,4,5,...|  0|[3.12407292652935...|[0.95787487999391...|       0.0|\n",
            "|(20,[0,1,2,3,4,5,...|  0|[2.50629830575847...|[0.92458217680650...|       0.0|\n",
            "|(20,[0,1,2,3,4,5,...|  0|[2.21446302182384...|[0.90154079746763...|       0.0|\n",
            "|(20,[0,1,2,3,4,5,...|  1|[-3.7362123955005...|[0.02328893774739...|       1.0|\n",
            "|(20,[0,1,2,3,4,5,...|  1|[0.67282488937686...|[0.66213541032214...|       0.0|\n",
            "|(20,[0,1,2,3,4,5,...|  0|[2.42283903635047...|[0.91855239644403...|       0.0|\n",
            "|(20,[0,1,2,3,4,5,...|  0|[1.42806176224440...|[0.80659913621884...|       0.0|\n",
            "|(20,[0,1,2,3,4,5,...|  1|[-0.2364908803940...|[0.44115129845223...|       1.0|\n",
            "|(20,[0,1,2,3,4,5,...|  1|[-1.3577969185581...|[0.20459859405358...|       1.0|\n",
            "|(20,[0,1,2,3,4,5,...|  0|[-1.3465218856444...|[0.20643958267054...|       1.0|\n",
            "|(20,[0,1,2,3,4,5,...|  0|[0.87364064690587...|[0.70550267579816...|       0.0|\n",
            "|(20,[0,1,2,3,4,5,...|  0|[2.89762874349735...|[0.94772909269003...|       0.0|\n",
            "|(20,[0,1,2,3,4,5,...|  0|[1.76620557917300...|[0.85398516286338...|       0.0|\n",
            "|(20,[0,1,2,3,4,5,...|  0|[1.26066433599689...|[0.77914044832292...|       0.0|\n",
            "|(20,[0,1,2,3,4,5,...|  0|[2.39053501731195...|[0.91610269790990...|       0.0|\n",
            "|(20,[0,1,2,3,4,5,...|  0|[1.32655876778230...|[0.79027084491714...|       0.0|\n",
            "|(20,[0,1,2,3,4,5,...|  0|[-0.1061432333827...|[0.47348907717266...|       1.0|\n",
            "|(20,[0,1,2,3,5,6,...|  0|[2.59616629384156...|[0.93061444092851...|       0.0|\n",
            "|(20,[0,1,2,3,5,6,...|  0|[3.09421213817879...|[0.95665336908846...|       0.0|\n",
            "|(20,[0,1,2,3,5,6,...|  0|[2.96104585217859...|[0.95078295736089...|       0.0|\n",
            "+--------------------+---+--------------------+--------------------+----------+\n",
            "only showing top 20 rows\n",
            "\n"
          ]
        }
      ]
    },
    {
      "cell_type": "code",
      "source": [
        "lsvc1 = LinearSVC(featuresCol='InputFeature',labelCol='y',maxIter=5).fit(train_data1)\n",
        "lsvc_train_result1 = lsvc1.evaluate(train_data1).predictions\n",
        "lsvc_train_result1.show()\n"
      ],
      "metadata": {
        "colab": {
          "base_uri": "https://localhost:8080/"
        },
        "id": "OVDaP3QNDxkb",
        "outputId": "f1622bd8-f475-431f-e39a-e20c669ed7b0"
      },
      "execution_count": 118,
      "outputs": [
        {
          "output_type": "stream",
          "name": "stdout",
          "text": [
            "+--------------------+---+--------------------+----------+\n",
            "|        InputFeature|  y|       rawPrediction|prediction|\n",
            "+--------------------+---+--------------------+----------+\n",
            "|(20,[0,1,2,3,4,5,...|  1|[-0.3723645517083...|       1.0|\n",
            "|(20,[0,1,2,3,4,5,...|  0|[1.47202803186908...|       0.0|\n",
            "|(20,[0,1,2,3,4,5,...|  0|[0.90746431237829...|       0.0|\n",
            "|(20,[0,1,2,3,4,5,...|  0|[1.32028038350565...|       0.0|\n",
            "|(20,[0,1,2,3,4,5,...|  0|[1.36346989829199...|       0.0|\n",
            "|(20,[0,1,2,3,4,5,...|  0|[1.28223230610765...|       0.0|\n",
            "|(20,[0,1,2,3,4,5,...|  0|[1.51010337450529...|       0.0|\n",
            "|(20,[0,1,2,3,4,5,...|  0|[1.75081671733713...|       0.0|\n",
            "|(20,[0,1,2,3,4,5,...|  0|[1.35067403169029...|       0.0|\n",
            "|(20,[0,1,2,3,4,5,...|  0|[1.36272394655532...|       0.0|\n",
            "|(20,[0,1,2,3,4,5,...|  0|[1.56075337277465...|       0.0|\n",
            "|(20,[0,1,2,3,4,5,...|  0|[0.83047606021575...|       0.0|\n",
            "|(20,[0,1,2,3,4,5,...|  0|[1.64137667943165...|       0.0|\n",
            "|(20,[0,1,2,3,4,5,...|  0|[0.18405967345287...|       0.0|\n",
            "|(20,[0,1,2,3,4,5,...|  0|[1.29125119217007...|       0.0|\n",
            "|(20,[0,1,2,3,4,5,...|  1|[-1.1685744735320...|       1.0|\n",
            "|(20,[0,1,2,3,4,5,...|  0|[1.38769242527652...|       0.0|\n",
            "|(20,[0,1,2,3,4,5,...|  1|[-0.9179215755055...|       1.0|\n",
            "|(20,[0,1,2,3,4,5,...|  0|[1.54699769542048...|       0.0|\n",
            "|(20,[0,1,2,3,4,5,...|  0|[1.23793576534407...|       0.0|\n",
            "+--------------------+---+--------------------+----------+\n",
            "only showing top 20 rows\n",
            "\n"
          ]
        }
      ]
    },
    {
      "cell_type": "code",
      "source": [
        "lsvc_test_results1 = lsvc1.evaluate(test_data1).predictions\n",
        "lsvc_test_results1.show()"
      ],
      "metadata": {
        "colab": {
          "base_uri": "https://localhost:8080/"
        },
        "id": "TXS_flq-D-XZ",
        "outputId": "ac676188-e95b-4c52-db45-c613dc29a559"
      },
      "execution_count": 119,
      "outputs": [
        {
          "output_type": "stream",
          "name": "stdout",
          "text": [
            "+--------------------+---+--------------------+----------+\n",
            "|        InputFeature|  y|       rawPrediction|prediction|\n",
            "+--------------------+---+--------------------+----------+\n",
            "|(20,[0,1,2,3,4,5,...|  0|[1.60072147309626...|       0.0|\n",
            "|(20,[0,1,2,3,4,5,...|  0|[1.34789742158941...|       0.0|\n",
            "|(20,[0,1,2,3,4,5,...|  0|[1.22033244631239...|       0.0|\n",
            "|(20,[0,1,2,3,4,5,...|  1|[-1.8024469485442...|       1.0|\n",
            "|(20,[0,1,2,3,4,5,...|  1|[-0.4176191168080...|       1.0|\n",
            "|(20,[0,1,2,3,4,5,...|  0|[1.25544497523672...|       0.0|\n",
            "|(20,[0,1,2,3,4,5,...|  0|[0.85294124445983...|       0.0|\n",
            "|(20,[0,1,2,3,4,5,...|  1|[-0.5584047849655...|       1.0|\n",
            "|(20,[0,1,2,3,4,5,...|  1|[-0.8743304308099...|       1.0|\n",
            "|(20,[0,1,2,3,4,5,...|  0|[-1.0205712347334...|       1.0|\n",
            "|(20,[0,1,2,3,4,5,...|  0|[0.52685038238248...|       0.0|\n",
            "|(20,[0,1,2,3,4,5,...|  0|[1.50333440539146...|       0.0|\n",
            "|(20,[0,1,2,3,4,5,...|  0|[1.04360265686984...|       0.0|\n",
            "|(20,[0,1,2,3,4,5,...|  0|[0.71927966381540...|       0.0|\n",
            "|(20,[0,1,2,3,4,5,...|  0|[1.29408066248467...|       0.0|\n",
            "|(20,[0,1,2,3,4,5,...|  0|[0.86644186600842...|       0.0|\n",
            "|(20,[0,1,2,3,4,5,...|  0|[0.28763941576701...|       0.0|\n",
            "|(20,[0,1,2,3,5,6,...|  0|[1.60954612376025...|       0.0|\n",
            "|(20,[0,1,2,3,5,6,...|  0|[1.81393184627009...|       0.0|\n",
            "|(20,[0,1,2,3,5,6,...|  0|[1.75901330273362...|       0.0|\n",
            "+--------------------+---+--------------------+----------+\n",
            "only showing top 20 rows\n",
            "\n"
          ]
        }
      ]
    },
    {
      "cell_type": "code",
      "source": [],
      "metadata": {
        "id": "fR0rJedHHhKB"
      },
      "execution_count": 119,
      "outputs": []
    },
    {
      "cell_type": "code",
      "source": [],
      "metadata": {
        "id": "fj9Z683JHhMi"
      },
      "execution_count": 119,
      "outputs": []
    },
    {
      "cell_type": "code",
      "source": [],
      "metadata": {
        "id": "MHqmtcSHHhO5"
      },
      "execution_count": 119,
      "outputs": []
    },
    {
      "cell_type": "code",
      "source": [],
      "metadata": {
        "id": "a4uB-SQlHhRP"
      },
      "execution_count": 119,
      "outputs": []
    },
    {
      "cell_type": "code",
      "source": [],
      "metadata": {
        "id": "3r5bQMnKHhTo"
      },
      "execution_count": 119,
      "outputs": []
    },
    {
      "cell_type": "code",
      "source": [],
      "metadata": {
        "id": "K2XNF87tHhWK"
      },
      "execution_count": 119,
      "outputs": []
    },
    {
      "cell_type": "code",
      "source": [],
      "metadata": {
        "id": "GUY_12R8HhYk"
      },
      "execution_count": 119,
      "outputs": []
    },
    {
      "cell_type": "code",
      "source": [
        "\n"
      ],
      "metadata": {
        "id": "Qh_i2mOzHhap"
      },
      "execution_count": 119,
      "outputs": []
    },
    {
      "cell_type": "code",
      "source": [],
      "metadata": {
        "id": "lo31wt98HhdL"
      },
      "execution_count": 119,
      "outputs": []
    },
    {
      "cell_type": "code",
      "source": [],
      "metadata": {
        "id": "6ript0eGHhgA"
      },
      "execution_count": 119,
      "outputs": []
    },
    {
      "cell_type": "markdown",
      "source": [
        "We will preprocess data\n"
      ],
      "metadata": {
        "id": "vXdF7-5ObYbr"
      }
    },
    {
      "cell_type": "code",
      "source": [
        "from pyspark.sql.functions import col,isnan, when, count"
      ],
      "metadata": {
        "id": "0fKKTs37EYVD"
      },
      "execution_count": 120,
      "outputs": []
    },
    {
      "cell_type": "code",
      "source": [
        "df2.select([count(when(isnan(c) | col(c).isNull(), c)).alias(c) for c in df2.columns]\n",
        "   ).show()"
      ],
      "metadata": {
        "colab": {
          "base_uri": "https://localhost:8080/"
        },
        "id": "fSINXSj7EeEh",
        "outputId": "016b1f62-e425-469f-f9a4-39fa8a52ae2c"
      },
      "execution_count": 121,
      "outputs": [
        {
          "output_type": "stream",
          "name": "stdout",
          "text": [
            "+---+---+-------+---------+-------+-------+----+-------+-----+-----------+--------+--------+-----+--------+--------+------------+--------------+-------------+---------+-----------+---+\n",
            "|age|job|marital|education|default|housing|loan|contact|month|day_of_week|duration|campaign|pdays|previous|poutcome|emp_var_rate|cons_price_idx|cons_conf_idx|euribor3m|nr_employed|  y|\n",
            "+---+---+-------+---------+-------+-------+----+-------+-----+-----------+--------+--------+-----+--------+--------+------------+--------------+-------------+---------+-----------+---+\n",
            "|  0|  0|      0|        0|      0|      0|   0|      0|    0|          0|       0|       0|    0|       0|       0|           0|             0|            0|        0|          0|  0|\n",
            "+---+---+-------+---------+-------+-------+----+-------+-----+-----------+--------+--------+-----+--------+--------+------------+--------------+-------------+---------+-----------+---+\n",
            "\n"
          ]
        }
      ]
    },
    {
      "cell_type": "code",
      "source": [
        "import matplotlib.pyplot as plt\n",
        "import pandas as pd"
      ],
      "metadata": {
        "id": "6EVLRXEwEeG1"
      },
      "execution_count": 122,
      "outputs": []
    },
    {
      "cell_type": "code",
      "source": [
        "df2_p = df2.toPandas()\n",
        "df2_p.plot.box(figsize=(20,15))"
      ],
      "metadata": {
        "colab": {
          "base_uri": "https://localhost:8080/",
          "height": 1000
        },
        "id": "ZgaB0pUhEeJa",
        "outputId": "33370a7d-2fc1-4b63-e81f-d8d0e2764337"
      },
      "execution_count": 123,
      "outputs": [
        {
          "output_type": "execute_result",
          "data": {
            "text/plain": [
              "<Axes: >"
            ]
          },
          "metadata": {},
          "execution_count": 123
        },
        {
          "output_type": "display_data",
          "data": {
            "text/plain": [
              "<Figure size 2000x1500 with 1 Axes>"
            ],
            "image/png": "[encoded data removed]"
          },
          "metadata": {}
        }
      ]
    },
    {
      "cell_type": "code",
      "source": [
        "bp_age = plt.boxplot(df2_p['age'], showmeans=True,showcaps=True)\n",
        "[item.get_ydata() for item in bp_age['caps']]\n"
      ],
      "metadata": {
        "colab": {
          "base_uri": "https://localhost:8080/",
          "height": 448
        },
        "id": "MFXw3iM1EeML",
        "outputId": "f7fae012-7697-4f50-a293-1be3572776d0"
      },
      "execution_count": 124,
      "outputs": [
        {
          "output_type": "execute_result",
          "data": {
            "text/plain": [
              "[array([17, 17], dtype=int32), array([69, 69], dtype=int32)]"
            ]
          },
          "metadata": {},
          "execution_count": 124
        },
        {
          "output_type": "display_data",
          "data": {
            "text/plain": [
              "<Figure size 640x480 with 1 Axes>"
            ],
            "image/png": "[encoded data removed]"
          },
          "metadata": {}
        }
      ]
    },
    {
      "cell_type": "code",
      "source": [
        "from pyspark.sql.functions import when\n",
        "\n",
        "df2 = df2.withColumn(\"age\", when(df2.age>69, 69).otherwise(df2.age))\n"
      ],
      "metadata": {
        "id": "RLrqClbuEeOq"
      },
      "execution_count": 125,
      "outputs": []
    },
    {
      "cell_type": "code",
      "source": [
        "df2.filter('age>69').show()"
      ],
      "metadata": {
        "colab": {
          "base_uri": "https://localhost:8080/"
        },
        "id": "mdxf5tYyEeRm",
        "outputId": "8ae69f38-186a-4a16-d2df-f28c97cc33fe"
      },
      "execution_count": 126,
      "outputs": [
        {
          "output_type": "stream",
          "name": "stdout",
          "text": [
            "+---+---+-------+---------+-------+-------+----+-------+-----+-----------+--------+--------+-----+--------+--------+------------+--------------+-------------+---------+-----------+---+\n",
            "|age|job|marital|education|default|housing|loan|contact|month|day_of_week|duration|campaign|pdays|previous|poutcome|emp_var_rate|cons_price_idx|cons_conf_idx|euribor3m|nr_employed|  y|\n",
            "+---+---+-------+---------+-------+-------+----+-------+-----+-----------+--------+--------+-----+--------+--------+------------+--------------+-------------+---------+-----------+---+\n",
            "+---+---+-------+---------+-------+-------+----+-------+-----+-----------+--------+--------+-----+--------+--------+------------+--------------+-------------+---------+-----------+---+\n",
            "\n"
          ]
        }
      ]
    },
    {
      "cell_type": "code",
      "source": [
        "df2.select('age').count()"
      ],
      "metadata": {
        "colab": {
          "base_uri": "https://localhost:8080/"
        },
        "id": "mQmilkvKEiWi",
        "outputId": "d3980039-1798-432c-a3e9-f6844990b2f2"
      },
      "execution_count": 127,
      "outputs": [
        {
          "output_type": "execute_result",
          "data": {
            "text/plain": [
              "41188"
            ]
          },
          "metadata": {},
          "execution_count": 127
        }
      ]
    },
    {
      "cell_type": "markdown",
      "source": [],
      "metadata": {
        "id": "jvdR1eBsbVS4"
      }
    },
    {
      "cell_type": "code",
      "source": [],
      "metadata": {
        "id": "LC5U6-BgHpcD"
      },
      "execution_count": 127,
      "outputs": []
    },
    {
      "cell_type": "code",
      "source": [
        "bp_duration = plt.boxplot(df2_p['duration'], showmeans=True,showcaps=True)\n",
        "[item.get_ydata() for item in bp_duration['caps']]\n",
        "df2 = df2.withColumn(\"duration\", when(df2.duration>644, 644).otherwise(df2.duration))\n"
      ],
      "metadata": {
        "colab": {
          "base_uri": "https://localhost:8080/",
          "height": 430
        },
        "id": "0vVY54LwHvFE",
        "outputId": "fb3b416f-81dc-4342-f3f7-7adc7876ebcd"
      },
      "execution_count": 128,
      "outputs": [
        {
          "output_type": "display_data",
          "data": {
            "text/plain": [
              "<Figure size 640x480 with 1 Axes>"
            ],
            "image/png": "[encoded data removed]"
          },
          "metadata": {}
        }
      ]
    },
    {
      "cell_type": "code",
      "source": [],
      "metadata": {
        "id": "jDcPE-eaHvHr"
      },
      "execution_count": 128,
      "outputs": []
    },
    {
      "cell_type": "code",
      "source": [
        "bp_campaign = plt.boxplot(df2_p['campaign'], showmeans=True,showcaps=True)\n",
        "[item.get_ydata() for item in bp_campaign['caps']]\n",
        "\n",
        "df2 = df2.withColumn(\"campaign\", when(df2.duration>6, 6).otherwise(df2.campaign))\n"
      ],
      "metadata": {
        "colab": {
          "base_uri": "https://localhost:8080/",
          "height": 430
        },
        "id": "IS711oz7HvKD",
        "outputId": "ec05caeb-2efc-4563-dfca-1d49f3e7fcbc"
      },
      "execution_count": 129,
      "outputs": [
        {
          "output_type": "display_data",
          "data": {
            "text/plain": [
              "<Figure size 640x480 with 1 Axes>"
            ],
            "image/png": "[encoded data removed]"
          },
          "metadata": {}
        }
      ]
    },
    {
      "cell_type": "code",
      "source": [],
      "metadata": {
        "id": "oC-hWuZBHvMi"
      },
      "execution_count": 129,
      "outputs": []
    },
    {
      "cell_type": "code",
      "source": [
        "bp_pdays = plt.boxplot(df2_p['pdays'], showmeans=True,showcaps=True)\n",
        "[item.get_ydata() for item in bp_pdays['caps']]\n",
        "\n",
        "df2 = df2.withColumn(\"pdays\", when(df2.pdays>999, 999).otherwise(df2.pdays))\n",
        "df2 = df2.withColumn(\"pdays\", when(df2.pdays<999, 999).otherwise(df2.pdays))\n"
      ],
      "metadata": {
        "colab": {
          "base_uri": "https://localhost:8080/",
          "height": 430
        },
        "id": "cFUrL4GdHvO4",
        "outputId": "e736efba-0f72-4bdd-8f30-a7f6e15df20a"
      },
      "execution_count": 130,
      "outputs": [
        {
          "output_type": "display_data",
          "data": {
            "text/plain": [
              "<Figure size 640x480 with 1 Axes>"
            ],
            "image/png": "[encoded data removed]"
          },
          "metadata": {}
        }
      ]
    },
    {
      "cell_type": "code",
      "source": [],
      "metadata": {
        "id": "k4UAnHf2HvRW"
      },
      "execution_count": 130,
      "outputs": []
    },
    {
      "cell_type": "code",
      "source": [
        "bp_pervious = plt.boxplot(df2_p['previous'], showmeans=True,showcaps=True)\n",
        "[item.get_ydata() for item in bp_pervious['caps']]\n",
        "\n"
      ],
      "metadata": {
        "colab": {
          "base_uri": "https://localhost:8080/",
          "height": 448
        },
        "id": "XsBRzLHKHvT0",
        "outputId": "4f9b1c29-bb74-40c4-9d13-b9fad1bd53a3"
      },
      "execution_count": 131,
      "outputs": [
        {
          "output_type": "execute_result",
          "data": {
            "text/plain": [
              "[array([0, 0], dtype=int32), array([0, 0], dtype=int32)]"
            ]
          },
          "metadata": {},
          "execution_count": 131
        },
        {
          "output_type": "display_data",
          "data": {
            "text/plain": [
              "<Figure size 640x480 with 1 Axes>"
            ],
            "image/png": "[encoded data removed]"
          },
          "metadata": {}
        }
      ]
    },
    {
      "cell_type": "code",
      "source": [
        "\n",
        "df2 = df2.withColumn(\"previous\", when(df2.previous>0, 0).otherwise(df2.previous))\n",
        "df2 = df2.withColumn(\"previous\", when(df2.previous<0, 0).otherwise(df2.previous))"
      ],
      "metadata": {
        "id": "FaqiV2U1KCIB"
      },
      "execution_count": 132,
      "outputs": []
    },
    {
      "cell_type": "code",
      "source": [],
      "metadata": {
        "id": "zYAGMgSjHvWQ"
      },
      "execution_count": 132,
      "outputs": []
    },
    {
      "cell_type": "code",
      "source": [
        "bp_cons_conf_idx = plt.boxplot(df2_p['cons_conf_idx'], showmeans=True,showcaps=True)\n",
        "[item.get_ydata() for item in bp_cons_conf_idx['caps']]\n",
        "\n",
        "\n"
      ],
      "metadata": {
        "id": "S-j7aumLHvY7",
        "colab": {
          "base_uri": "https://localhost:8080/",
          "height": 448
        },
        "outputId": "f902b24e-72be-477a-fb90-0d56542c4a17"
      },
      "execution_count": 133,
      "outputs": [
        {
          "output_type": "execute_result",
          "data": {
            "text/plain": [
              "[array([-50.8, -50.8]), array([-29.8, -29.8])]"
            ]
          },
          "metadata": {},
          "execution_count": 133
        },
        {
          "output_type": "display_data",
          "data": {
            "text/plain": [
              "<Figure size 640x480 with 1 Axes>"
            ],
            "image/png": "[encoded data removed]"
          },
          "metadata": {}
        }
      ]
    },
    {
      "cell_type": "code",
      "source": [
        "\n",
        "df2 = df2.withColumn(\"cons_conf_idx\", when(df2.cons_conf_idx>-29.8, -29.8).otherwise(df2.cons_conf_idx))"
      ],
      "metadata": {
        "id": "EvdFSFNfKVTA"
      },
      "execution_count": 134,
      "outputs": []
    },
    {
      "cell_type": "code",
      "source": [],
      "metadata": {
        "id": "jRkPl0fqHvbf"
      },
      "execution_count": 134,
      "outputs": []
    },
    {
      "cell_type": "code",
      "source": [
        "bp_y = plt.boxplot(df2_p['y'], showmeans=True,showcaps=True)\n",
        "[item.get_ydata() for item in bp_y['caps']]\n",
        "\n",
        "\n"
      ],
      "metadata": {
        "id": "iExN_BVBHveN",
        "colab": {
          "base_uri": "https://localhost:8080/",
          "height": 448
        },
        "outputId": "80147347-1248-4bf2-8210-a35df8d0dbd5"
      },
      "execution_count": 135,
      "outputs": [
        {
          "output_type": "execute_result",
          "data": {
            "text/plain": [
              "[array([0, 0], dtype=int32), array([0, 0], dtype=int32)]"
            ]
          },
          "metadata": {},
          "execution_count": 135
        },
        {
          "output_type": "display_data",
          "data": {
            "text/plain": [
              "<Figure size 640x480 with 1 Axes>"
            ],
            "image/png": "[encoded data removed]"
          },
          "metadata": {}
        }
      ]
    },
    {
      "cell_type": "code",
      "source": [
        "\n",
        "df2 = df2.withColumn(\"y\", when(df2.y>1, 1).otherwise(df2.y))\n",
        "df2 = df2.withColumn(\"y\", when(df2.y<0, 0).otherwise(df2.y))"
      ],
      "metadata": {
        "id": "eJzTj7_nIag2"
      },
      "execution_count": 136,
      "outputs": []
    },
    {
      "cell_type": "code",
      "source": [
        "df2.show(5)"
      ],
      "metadata": {
        "id": "gKMsAXMyIajN",
        "colab": {
          "base_uri": "https://localhost:8080/"
        },
        "outputId": "efa51b38-f48e-4e45-ac01-8398b35267b3"
      },
      "execution_count": 137,
      "outputs": [
        {
          "output_type": "stream",
          "name": "stdout",
          "text": [
            "+---+-----------+-------+-----------------+-------+-------+----+--------+-----+-----------+--------+--------+-----+--------+-----------+------------+--------------+-------------+---------+-----------+---+\n",
            "|age|        job|marital|        education|default|housing|loan| contact|month|day_of_week|duration|campaign|pdays|previous|   poutcome|emp_var_rate|cons_price_idx|cons_conf_idx|euribor3m|nr_employed|  y|\n",
            "+---+-----------+-------+-----------------+-------+-------+----+--------+-----+-----------+--------+--------+-----+--------+-----------+------------+--------------+-------------+---------+-----------+---+\n",
            "| 44|blue-collar|married|         basic.4y|unknown|    yes|  no|cellular|  aug|        thu|     210|       6|  999|       0|nonexistent|         1.4|        93.444|        -36.1|    4.963|     5228.1|  0|\n",
            "| 53| technician|married|          unknown|     no|     no|  no|cellular|  nov|        fri|     138|       6|  999|       0|nonexistent|        -0.1|          93.2|        -42.0|    4.021|     5195.8|  0|\n",
            "| 28| management| single|university.degree|     no|    yes|  no|cellular|  jun|        thu|     339|       6|  999|       0|    success|        -1.7|        94.055|        -39.8|    0.729|     4991.6|  1|\n",
            "| 39|   services|married|      high.school|     no|     no|  no|cellular|  apr|        fri|     185|       6|  999|       0|nonexistent|        -1.8|        93.075|        -47.1|    1.405|     5099.1|  0|\n",
            "| 55|    retired|married|         basic.4y|     no|    yes|  no|cellular|  aug|        fri|     137|       6|  999|       0|    success|        -2.9|        92.201|        -31.4|    0.869|     5076.2|  1|\n",
            "+---+-----------+-------+-----------------+-------+-------+----+--------+-----+-----------+--------+--------+-----+--------+-----------+------------+--------------+-------------+---------+-----------+---+\n",
            "only showing top 5 rows\n",
            "\n"
          ]
        }
      ]
    },
    {
      "cell_type": "code",
      "source": [
        "df2.describe().show()"
      ],
      "metadata": {
        "id": "uwI8I48kIalk",
        "colab": {
          "base_uri": "https://localhost:8080/"
        },
        "outputId": "dde89c9b-54dc-415e-ce00-e371d27389a6"
      },
      "execution_count": 138,
      "outputs": [
        {
          "output_type": "stream",
          "name": "stdout",
          "text": [
            "+-------+------------------+-------+--------+---------+-------+-------+-----+---------+-----+-----------+------------------+-------------------+-----+--------+--------+-------------------+------------------+------------------+------------------+-----------------+-------------------+\n",
            "|summary|               age|    job| marital|education|default|housing| loan|  contact|month|day_of_week|          duration|           campaign|pdays|previous|poutcome|       emp_var_rate|    cons_price_idx|     cons_conf_idx|         euribor3m|      nr_employed|                  y|\n",
            "+-------+------------------+-------+--------+---------+-------+-------+-----+---------+-----+-----------+------------------+-------------------+-----+--------+--------+-------------------+------------------+------------------+------------------+-----------------+-------------------+\n",
            "|  count|             41188|  41188|   41188|    41188|  41188|  41188|41188|    41188|41188|      41188|             41188|              41188|41188|   41188|   41188|              41188|             41188|             41188|             41188|            41188|              41188|\n",
            "|   mean|39.933791395552106|   null|    null|     null|   null|   null| null|     null| null|       null|234.96134796542682| 5.9939302709527045|999.0|     0.0|    null|0.08188550063125773| 93.57566436827047|-40.53407303097662|3.6212908128583696|5167.035910943169|0.11265417111780131|\n",
            "| stddev|10.112877452135066|   null|    null|     null|   null|   null| null|     null| null|       null|177.27028251926887|0.23229459335774594|  0.0|     0.0|    null| 1.5709597405170235|0.5788400489541238| 4.544695209154492|1.7344474048512692|72.25152766826125|0.31617342694296513|\n",
            "|    min|                17| admin.|divorced| basic.4y|     no|     no|   no| cellular|  apr|        fri|                 0|                  1|  999|       0| failure|               -3.4|            92.201|             -50.8|             0.634|           4963.6|                  0|\n",
            "|    max|                69|unknown| unknown|  unknown|    yes|    yes|  yes|telephone|  sep|        wed|               644|                 23|  999|       0| success|                1.4|            94.767|             -29.8|             5.045|           5228.1|                  1|\n",
            "+-------+------------------+-------+--------+---------+-------+-------+-----+---------+-----+-----------+------------------+-------------------+-----+--------+--------+-------------------+------------------+------------------+------------------+-----------------+-------------------+\n",
            "\n"
          ]
        }
      ]
    },
    {
      "cell_type": "code",
      "source": [
        "df22_p = df2.toPandas()\n",
        "df22_p.plot.box(figsize=(20,15))"
      ],
      "metadata": {
        "id": "kyKyN47RIan5",
        "colab": {
          "base_uri": "https://localhost:8080/",
          "height": 1000
        },
        "outputId": "5de61ec6-ff1b-4d24-eb6c-1a075118cbd7"
      },
      "execution_count": 139,
      "outputs": [
        {
          "output_type": "execute_result",
          "data": {
            "text/plain": [
              "<Axes: >"
            ]
          },
          "metadata": {},
          "execution_count": 139
        },
        {
          "output_type": "display_data",
          "data": {
            "text/plain": [
              "<Figure size 2000x1500 with 1 Axes>"
            ],
            "image/png": "[encoded data removed]"
          },
          "metadata": {}
        }
      ]
    },
    {
      "cell_type": "code",
      "source": [],
      "metadata": {
        "id": "ncDtVRqnIaqq"
      },
      "execution_count": 81,
      "outputs": []
    },
    {
      "cell_type": "code",
      "source": [
        "cat_cols_in2 = []"
      ],
      "metadata": {
        "id": "3ihOkjZRPqG8"
      },
      "execution_count": 140,
      "outputs": []
    },
    {
      "cell_type": "code",
      "source": [
        "for c in cat_cols:\n",
        "  cat_cols_in2.append(c+\"_in\")"
      ],
      "metadata": {
        "id": "VAG_EsXvPqJe"
      },
      "execution_count": 141,
      "outputs": []
    },
    {
      "cell_type": "code",
      "source": [
        "indexr_q2 = StringIndexer(inputCols=cat_cols,outputCols=cat_cols_in2)\n",
        "df2_in = indexr_q2.fit(df2).transform(df2)"
      ],
      "metadata": {
        "id": "T5-Gyrh8PqL1"
      },
      "execution_count": 142,
      "outputs": []
    },
    {
      "cell_type": "code",
      "source": [
        "df2_in.show(5)"
      ],
      "metadata": {
        "colab": {
          "base_uri": "https://localhost:8080/"
        },
        "id": "TNB5S9b1PqOL",
        "outputId": "10791124-37cf-4287-912e-086628c23e6d"
      },
      "execution_count": 91,
      "outputs": [
        {
          "output_type": "stream",
          "name": "stdout",
          "text": [
            "+---+-----------+-------+-----------------+-------+-------+----+--------+-----+-----------+--------+--------+-----+--------+-----------+------------+--------------+-------------+---------+-----------+---+------+----------+------------+----------+----------+-------+----------+--------+--------------+-----------+\n",
            "|age|        job|marital|        education|default|housing|loan| contact|month|day_of_week|duration|campaign|pdays|previous|   poutcome|emp_var_rate|cons_price_idx|cons_conf_idx|euribor3m|nr_employed|  y|job_in|marital_in|education_in|default_in|housing_in|loan_in|contact_in|month_in|day_of_week_in|poutcome_in|\n",
            "+---+-----------+-------+-----------------+-------+-------+----+--------+-----+-----------+--------+--------+-----+--------+-----------+------------+--------------+-------------+---------+-----------+---+------+----------+------------+----------+----------+-------+----------+--------+--------------+-----------+\n",
            "| 44|blue-collar|married|         basic.4y|unknown|    yes|  no|cellular|  aug|        thu|     210|       6|  999|       0|nonexistent|         1.4|        93.444|        -36.1|    4.963|     5228.1|  0|   1.0|       0.0|         4.0|       1.0|       0.0|    0.0|       0.0|     2.0|           0.0|        0.0|\n",
            "| 53| technician|married|          unknown|     no|     no|  no|cellular|  nov|        fri|     138|       6|  999|       0|nonexistent|        -0.1|          93.2|        -42.0|    4.021|     5195.8|  0|   2.0|       0.0|         6.0|       0.0|       1.0|    0.0|       0.0|     4.0|           4.0|        0.0|\n",
            "| 28| management| single|university.degree|     no|    yes|  no|cellular|  jun|        thu|     339|       6|  999|       0|    success|        -1.7|        94.055|        -39.8|    0.729|     4991.6|  1|   4.0|       1.0|         0.0|       0.0|       0.0|    0.0|       0.0|     3.0|           0.0|        2.0|\n",
            "| 39|   services|married|      high.school|     no|     no|  no|cellular|  apr|        fri|     185|       6|  999|       0|nonexistent|        -1.8|        93.075|        -47.1|    1.405|     5099.1|  0|   3.0|       0.0|         1.0|       0.0|       1.0|    0.0|       0.0|     5.0|           4.0|        0.0|\n",
            "| 55|    retired|married|         basic.4y|     no|    yes|  no|cellular|  aug|        fri|     137|       6|  999|       0|    success|        -2.9|        92.201|        -31.4|    0.869|     5076.2|  1|   5.0|       0.0|         4.0|       0.0|       0.0|    0.0|       0.0|     2.0|           4.0|        2.0|\n",
            "+---+-----------+-------+-----------------+-------+-------+----+--------+-----+-----------+--------+--------+-----+--------+-----------+------------+--------------+-------------+---------+-----------+---+------+----------+------------+----------+----------+-------+----------+--------+--------------+-----------+\n",
            "only showing top 5 rows\n",
            "\n"
          ]
        }
      ]
    },
    {
      "cell_type": "code",
      "source": [
        "for c in cat_cols:\n",
        "  df2_in = df2_in.drop(c)"
      ],
      "metadata": {
        "id": "ZFvVoWKCPqQt"
      },
      "execution_count": 143,
      "outputs": []
    },
    {
      "cell_type": "code",
      "source": [
        "df2_in.columns"
      ],
      "metadata": {
        "colab": {
          "base_uri": "https://localhost:8080/"
        },
        "id": "3s8f7AIVUhVQ",
        "outputId": "9ee459df-dd97-48d9-b9d5-453e27e4096e"
      },
      "execution_count": 144,
      "outputs": [
        {
          "output_type": "execute_result",
          "data": {
            "text/plain": [
              "['age',\n",
              " 'duration',\n",
              " 'campaign',\n",
              " 'pdays',\n",
              " 'previous',\n",
              " 'emp_var_rate',\n",
              " 'cons_price_idx',\n",
              " 'cons_conf_idx',\n",
              " 'euribor3m',\n",
              " 'nr_employed',\n",
              " 'y',\n",
              " 'job_in',\n",
              " 'marital_in',\n",
              " 'education_in',\n",
              " 'default_in',\n",
              " 'housing_in',\n",
              " 'loan_in',\n",
              " 'contact_in',\n",
              " 'month_in',\n",
              " 'day_of_week_in',\n",
              " 'poutcome_in']"
            ]
          },
          "metadata": {},
          "execution_count": 144
        }
      ]
    },
    {
      "cell_type": "code",
      "source": [
        "vect_assem2 = [c for c in df2_in.columns if c!='y']\n"
      ],
      "metadata": {
        "id": "qpprbV4GUhYG"
      },
      "execution_count": 145,
      "outputs": []
    },
    {
      "cell_type": "code",
      "source": [
        "corr_cols = [c for c in vect_assem2 if df2_in.stat.corr(c,'y')>0.2 or df2_in.stat.corr(c,'y')<-0.2]\n"
      ],
      "metadata": {
        "id": "vF2amQ9KUhao"
      },
      "execution_count": 146,
      "outputs": []
    },
    {
      "cell_type": "code",
      "source": [],
      "metadata": {
        "id": "EOE4SKskUhdC"
      },
      "execution_count": 147,
      "outputs": []
    },
    {
      "cell_type": "code",
      "source": [
        "vec_assembeled2 = VectorAssembler(inputCols=corr_cols,outputCol='InputFeature2')\n",
        "df2_vectored= vec_assembeled2.transform(df2_in)"
      ],
      "metadata": {
        "id": "ltY3YaNDUhfe"
      },
      "execution_count": 148,
      "outputs": []
    },
    {
      "cell_type": "code",
      "source": [
        "df2_vectored = df2_vectored.select('InputFeature2','y')"
      ],
      "metadata": {
        "id": "z2LpFeZgUhi2"
      },
      "execution_count": 149,
      "outputs": []
    },
    {
      "cell_type": "code",
      "source": [
        "df2_vectored.show(5)"
      ],
      "metadata": {
        "colab": {
          "base_uri": "https://localhost:8080/"
        },
        "id": "27aA59NzWPeL",
        "outputId": "1bb77959-62f8-48ea-e48e-73664c448540"
      },
      "execution_count": 151,
      "outputs": [
        {
          "output_type": "stream",
          "name": "stdout",
          "text": [
            "+--------------------+---+\n",
            "|       InputFeature2|  y|\n",
            "+--------------------+---+\n",
            "|[210.0,1.4,4.963,...|  0|\n",
            "|[138.0,-0.1,4.021...|  0|\n",
            "|[339.0,-1.7,0.729...|  1|\n",
            "|[185.0,-1.8,1.405...|  0|\n",
            "|[137.0,-2.9,0.869...|  1|\n",
            "+--------------------+---+\n",
            "only showing top 5 rows\n",
            "\n"
          ]
        }
      ]
    },
    {
      "cell_type": "code",
      "source": [
        "from pyspark.ml.feature import StandardScaler\n"
      ],
      "metadata": {
        "id": "xQCwRMTqWPgr"
      },
      "execution_count": 150,
      "outputs": []
    },
    {
      "cell_type": "code",
      "source": [
        "scaler = StandardScaler(inputCol=\"InputFeature2\", outputCol=\"scaledFeatures2\",\n",
        "                        withStd=True, withMean=False)\n",
        "scalerModel = scaler.fit(df2_vectored)\n",
        "scaledData = scalerModel.transform(df2_vectored)\n",
        "scaledData = scaledData.select('scaledFeatures2','y')\n",
        "scaledData.show()"
      ],
      "metadata": {
        "colab": {
          "base_uri": "https://localhost:8080/"
        },
        "id": "zQKpJWWlWPjR",
        "outputId": "e5a2e143-5d2f-47ba-a4a8-8f1d16b7610c"
      },
      "execution_count": 153,
      "outputs": [
        {
          "output_type": "stream",
          "name": "stdout",
          "text": [
            "+--------------------+---+\n",
            "|     scaledFeatures2|  y|\n",
            "+--------------------+---+\n",
            "|[1.18463172177307...|  0|\n",
            "|[0.77847227430801...|  0|\n",
            "|[1.91233406514796...|  1|\n",
            "|[1.04360413584770...|  0|\n",
            "|[0.77283117087100...|  1|\n",
            "|[0.38359503371699...|  0|\n",
            "|[1.15078510115098...|  0|\n",
            "|[1.07745075646979...|  0|\n",
            "|[0.98155199804054...|  1|\n",
            "|[1.07745075646979...|  0|\n",
            "|[0.34974841309490...|  0|\n",
            "|[3.63287061343742...|  0|\n",
            "|[2.09849047856944...|  1|\n",
            "|[0.42308275777609...|  0|\n",
            "|[3.63287061343742...|  0|\n",
            "|[0.66000910213071...|  0|\n",
            "|[3.63287061343742...|  1|\n",
            "|[3.04619585598790...|  1|\n",
            "|[0.78975448118204...|  0|\n",
            "|[0.58667475744952...|  0|\n",
            "+--------------------+---+\n",
            "only showing top 20 rows\n",
            "\n"
          ]
        }
      ]
    },
    {
      "cell_type": "code",
      "source": [
        "train_data2, test_data2 = scaledData.randomSplit([0.8,0.2])\n"
      ],
      "metadata": {
        "id": "YkwQoJVxWPle"
      },
      "execution_count": 154,
      "outputs": []
    },
    {
      "cell_type": "code",
      "source": [
        "lr2 = LogisticRegression(featuresCol='scaledFeatures2',labelCol='y',maxIter=5).fit(train_data2)\n",
        "lr2_train_result2 = lr2.evaluate(train_data2).predictions\n",
        "lr2_train_result2.show()"
      ],
      "metadata": {
        "colab": {
          "base_uri": "https://localhost:8080/"
        },
        "id": "PSbAuy0lWPpV",
        "outputId": "68459fdc-5ca6-482c-e80b-012c76d33f65"
      },
      "execution_count": 156,
      "outputs": [
        {
          "output_type": "stream",
          "name": "stdout",
          "text": [
            "+--------------------+---+--------------------+--------------------+----------+\n",
            "|     scaledFeatures2|  y|       rawPrediction|         probability|prediction|\n",
            "+--------------------+---+--------------------+--------------------+----------+\n",
            "|[0.0,-1.145796390...|  0|[4.17639019959714...|[0.98487834345262...|       0.0|\n",
            "|[0.0,-1.145796390...|  0|[3.33898318567275...|[0.96574221775925...|       0.0|\n",
            "|[0.0,0.7002089051...|  0|[5.31344070937751...|[0.99509918408114...|       0.0|\n",
            "|[0.00564110343701...|  0|[1.09226392594105...|[0.74880779385340...|       0.0|\n",
            "|[0.00564110343701...|  0|[1.63639779305804...|[0.83704418836593...|       0.0|\n",
            "|[0.01128220687402...|  0|[4.47483326421131...|[0.98873619716921...|       0.0|\n",
            "|[0.01692331031104...|  0|[5.29278878859523...|[0.99499743206436...|       0.0|\n",
            "|[0.01692331031104...|  0|[5.29287914096333...|[0.99499788177698...|       0.0|\n",
            "|[0.02256441374805...|  0|[3.12890177614562...|[0.95806929671069...|       0.0|\n",
            "|[0.02256441374805...|  0|[3.29972621655025...|[0.96441941715089...|       0.0|\n",
            "|[0.02256441374805...|  0|[3.12908248088183...|[0.95807655547435...|       0.0|\n",
            "|[0.02256441374805...|  0|[1.25129097763732...|[0.77752325558008...|       0.0|\n",
            "|[0.02256441374805...|  0|[4.19329455586468...|[0.98512804723880...|       0.0|\n",
            "|[0.02256441374805...|  0|[5.28584458008906...|[0.99496274789033...|       0.0|\n",
            "|[0.02256441374805...|  0|[5.28602528482527...|[0.99496365347946...|       0.0|\n",
            "|[0.02256441374805...|  0|[5.28620598956147...|[0.99496455890660...|       0.0|\n",
            "|[0.02256441374805...|  0|[5.03435874327497...|[0.99353173918344...|       0.0|\n",
            "|[0.02820551718507...|  0|[2.75452642920268...|[0.94016847709464...|       0.0|\n",
            "|[0.02820551718507...|  0|[2.93450829150421...|[0.94952617881340...|       0.0|\n",
            "|[0.02820551718507...|  0|[3.12213827237566...|[0.95779674636039...|       0.0|\n",
            "+--------------------+---+--------------------+--------------------+----------+\n",
            "only showing top 20 rows\n",
            "\n"
          ]
        }
      ]
    },
    {
      "cell_type": "code",
      "source": [
        "lr2_test_results2 = lr2.evaluate(test_data2).predictions\n",
        "lr2_test_results2.show()"
      ],
      "metadata": {
        "colab": {
          "base_uri": "https://localhost:8080/"
        },
        "id": "h9emV_tEXRcc",
        "outputId": "1e13e918-44dd-4cb5-baaa-00ecbb6d3098"
      },
      "execution_count": 158,
      "outputs": [
        {
          "output_type": "stream",
          "name": "stdout",
          "text": [
            "+--------------------+---+--------------------+--------------------+----------+\n",
            "|     scaledFeatures2|  y|       rawPrediction|         probability|prediction|\n",
            "+--------------------+---+--------------------+--------------------+----------+\n",
            "|[0.02256441374805...|  0|[4.14400539479933...|[0.98438838598222...|       0.0|\n",
            "|[0.02820551718507...|  0|[3.59699317574073...|[0.97332505005786...|       0.0|\n",
            "|[0.02820551718507...|  0|[2.74819637908659...|[0.93981140723265...|       0.0|\n",
            "|[0.02820551718507...|  0|[3.29242059857168...|[0.96416787542606...|       0.0|\n",
            "|[0.02820551718507...|  0|[3.29323376988459...|[0.96419595841631...|       0.0|\n",
            "|[0.02820551718507...|  0|[2.15185130246938...|[0.89584164741950...|       0.0|\n",
            "|[0.02820551718507...|  0|[2.33189168442033...|[0.91148407830665...|       0.0|\n",
            "|[0.02820551718507...|  0|[5.27917142868721...|[0.99492919215953...|       0.0|\n",
            "|[0.02820551718507...|  0|[5.36978623452287...|[0.99536644348162...|       0.0|\n",
            "|[0.03384662062208...|  0|[4.13083979673182...|[0.98418476288244...|       0.0|\n",
            "|[0.03384662062208...|  0|[3.58733839619154...|[0.97307323036171...|       0.0|\n",
            "|[0.03384662062208...|  0|[4.14023644301435...|[0.98433035927304...|       0.0|\n",
            "|[0.03384662062208...|  0|[3.11537476860571...|[0.95752250297362...|       0.0|\n",
            "|[0.03384662062208...|  0|[4.43549132706970...|[0.98828951772221...|       0.0|\n",
            "|[0.03384662062208...|  0|[4.49349754739072...|[0.98894217508497...|       0.0|\n",
            "|[0.03384662062208...|  0|[5.36293237838481...|[0.99533472533874...|       0.0|\n",
            "|[0.03948772405910...|  0|[4.12769038768591...|[0.98413566714191...|       0.0|\n",
            "|[0.03948772405910...|  0|[4.13338258687629...|[0.98422429301444...|       0.0|\n",
            "|[0.03948772405910...|  0|[3.28432011746684...|[0.96388696383226...|       0.0|\n",
            "|[0.03948772405910...|  0|[5.35544605567005...|[0.99529983330036...|       0.0|\n",
            "+--------------------+---+--------------------+--------------------+----------+\n",
            "only showing top 20 rows\n",
            "\n"
          ]
        }
      ]
    },
    {
      "cell_type": "code",
      "source": [],
      "metadata": {
        "id": "z5pcZimsXRe-"
      },
      "execution_count": null,
      "outputs": []
    },
    {
      "cell_type": "code",
      "source": [],
      "metadata": {
        "id": "kQn7fi9RXRhj"
      },
      "execution_count": null,
      "outputs": []
    },
    {
      "cell_type": "code",
      "source": [
        "lsvc2 = LinearSVC(featuresCol='scaledFeatures2',labelCol='y',maxIter=5).fit(train_data2)\n",
        "lsvc2_train_result2 = lsvc2.evaluate(train_data2).predictions\n",
        "lsvc2_train_result2.show()"
      ],
      "metadata": {
        "colab": {
          "base_uri": "https://localhost:8080/"
        },
        "id": "NDipAUrCXRkw",
        "outputId": "7e51e2bd-ebf9-49ed-bedf-d136102f5f77"
      },
      "execution_count": 159,
      "outputs": [
        {
          "output_type": "stream",
          "name": "stdout",
          "text": [
            "+--------------------+---+--------------------+----------+\n",
            "|     scaledFeatures2|  y|       rawPrediction|prediction|\n",
            "+--------------------+---+--------------------+----------+\n",
            "|[0.0,-1.145796390...|  0|[1.85628383939149...|       0.0|\n",
            "|[0.0,-1.145796390...|  0|[1.51982029012239...|       0.0|\n",
            "|[0.0,0.7002089051...|  0|[2.11317290900073...|       0.0|\n",
            "|[0.00564110343701...|  0|[0.39605746629953...|       0.0|\n",
            "|[0.00564110343701...|  0|[0.73437555788533...|       0.0|\n",
            "|[0.01128220687402...|  0|[1.83689837270747...|       0.0|\n",
            "|[0.01692331031104...|  0|[2.10746903329259...|       0.0|\n",
            "|[0.01692331031104...|  0|[2.10747740898830...|       0.0|\n",
            "|[0.02256441374805...|  0|[1.46526308155151...|       0.0|\n",
            "|[0.02256441374805...|  0|[1.53286569214681...|       0.0|\n",
            "|[0.02256441374805...|  0|[1.46527983294294...|       0.0|\n",
            "|[0.02256441374805...|  0|[0.45877701936685...|       0.0|\n",
            "|[0.02256441374805...|  0|[1.70473909490842...|       0.0|\n",
            "|[0.02256441374805...|  0|[2.10556215759273...|       0.0|\n",
            "|[0.02256441374805...|  0|[2.10557890898416...|       0.0|\n",
            "|[0.02256441374805...|  0|[2.10559566037560...|       0.0|\n",
            "|[0.02256441374805...|  0|[1.99012981403652...|       0.0|\n",
            "|[0.02820551718507...|  0|[1.17144852690293...|       0.0|\n",
            "|[0.02820551718507...|  0|[1.39421246724463...|       0.0|\n",
            "|[0.02820551718507...|  0|[1.46337295724308...|       0.0|\n",
            "+--------------------+---+--------------------+----------+\n",
            "only showing top 20 rows\n",
            "\n"
          ]
        }
      ]
    },
    {
      "cell_type": "code",
      "source": [
        "lsvc2_test_results2 = lsvc2.evaluate(test_data2).predictions\n",
        "lsvc2_test_results2.show()"
      ],
      "metadata": {
        "colab": {
          "base_uri": "https://localhost:8080/"
        },
        "id": "JyYvvr0QXslC",
        "outputId": "d91d5500-f435-4a34-96dc-1f0fa04dea2f"
      },
      "execution_count": 160,
      "outputs": [
        {
          "output_type": "stream",
          "name": "stdout",
          "text": [
            "+--------------------+---+--------------------+----------+\n",
            "|     scaledFeatures2|  y|       rawPrediction|prediction|\n",
            "+--------------------+---+--------------------+----------+\n",
            "|[0.02256441374805...|  0|[1.84822917611055...|       0.0|\n",
            "|[0.02820551718507...|  0|[1.50838111513211...|       0.0|\n",
            "|[0.02820551718507...|  0|[1.19259884638258...|       0.0|\n",
            "|[0.02820551718507...|  0|[1.53092531366409...|       0.0|\n",
            "|[0.02820551718507...|  0|[1.53100069492554...|       0.0|\n",
            "|[0.02820551718507...|  0|[1.06498238971454...|       0.0|\n",
            "|[0.02820551718507...|  0|[1.13343932127286...|       0.0|\n",
            "|[0.02820551718507...|  0|[2.10368040898002...|       0.0|\n",
            "|[0.02820551718507...|  0|[2.12349516509300...|       0.0|\n",
            "|[0.03384662062208...|  0|[1.84448243027656...|       0.0|\n",
            "|[0.03384662062208...|  0|[1.50622296856078...|       0.0|\n",
            "|[0.03384662062208...|  0|[1.84535350263101...|       0.0|\n",
            "|[0.03384662062208...|  0|[1.46148283293466...|       0.0|\n",
            "|[0.03384662062208...|  0|[1.82819878085641...|       0.0|\n",
            "|[0.03384662062208...|  0|[1.83357597750599...|       0.0|\n",
            "|[0.03384662062208...|  0|[2.12159666508886...|       0.0|\n",
            "|[0.03948772405910...|  0|[1.84292733379677...|       0.0|\n",
            "|[0.03948772405910...|  0|[1.84345500262687...|       0.0|\n",
            "|[0.03948772405910...|  0|[1.50591098861043...|       0.0|\n",
            "|[0.03948772405910...|  0|[2.11963953521470...|       0.0|\n",
            "+--------------------+---+--------------------+----------+\n",
            "only showing top 20 rows\n",
            "\n"
          ]
        }
      ]
    },
    {
      "cell_type": "code",
      "source": [
        "lsvc2_test_results2 , lr2_test_results2 , lsvc_test_result1 , lr_test_result1"
      ],
      "metadata": {
        "id": "6cHwUq-xPqTE"
      },
      "execution_count": 95,
      "outputs": []
    },
    {
      "cell_type": "code",
      "source": [
        "evaluatorlr1 = MulticlassClassificationEvaluator(predictionCol=\"prediction\", labelCol=\"y\", metricName=\"accuracy\")\n",
        "accuracylr1 = evaluatorlr1.evaluate(lr_test_results1)\n",
        "print(\"Accuracylr1 = %g\" % accuracylr1)\n",
        "evaluatorlr12 = MulticlassClassificationEvaluator(predictionCol=\"prediction\", labelCol=\"y\", metricName=\"weightedPrecision\")\n",
        "precisionlr1 = evaluatorlr12.evaluate(lr_test_results1)\n",
        "print(\"Precisionlr1 = %g\" % precisionlr1)\n",
        "\n",
        "evaluatorlr13 = MulticlassClassificationEvaluator(predictionCol=\"prediction\", labelCol=\"y\", metricName=\"weightedRecall\")\n",
        "recalllr1 = evaluatorlr13.evaluate(lr_test_results1)\n",
        "print(\"Recalll1 = %g\" % recalllr1)"
      ],
      "metadata": {
        "colab": {
          "base_uri": "https://localhost:8080/"
        },
        "id": "TxNvTBjxPqWE",
        "outputId": "3fdf3ca6-2561-44cd-cb48-766068a28ce7"
      },
      "execution_count": 161,
      "outputs": [
        {
          "output_type": "stream",
          "name": "stdout",
          "text": [
            "Accuracylr1 = 0.907491\n",
            "Precisionlr1 = 0.893859\n",
            "Recalll1 = 0.907491\n"
          ]
        }
      ]
    },
    {
      "cell_type": "code",
      "source": [
        "evaluatorls1 = MulticlassClassificationEvaluator(predictionCol=\"prediction\", labelCol=\"y\", metricName=\"accuracy\")\n",
        "accuracyls1 = evaluatorls1.evaluate(lsvc_test_results1)\n",
        "print(\"Accuracyls1 = %g\" % accuracyls1)\n",
        "evaluatorls12 = MulticlassClassificationEvaluator(predictionCol=\"prediction\", labelCol=\"y\", metricName=\"weightedPrecision\")\n",
        "precisionls1 = evaluatorls12.evaluate(lsvc_test_results1)\n",
        "print(\"Precisionls1 = %g\" % precisionls1)\n",
        "\n",
        "evaluatorls13 = MulticlassClassificationEvaluator(predictionCol=\"prediction\", labelCol=\"y\", metricName=\"weightedRecall\")\n",
        "recallls1 = evaluatorls13.evaluate(lsvc_test_results1)\n",
        "print(\"Recallls1 = %g\" % recallls1)"
      ],
      "metadata": {
        "id": "NNQcRWuZIatE",
        "colab": {
          "base_uri": "https://localhost:8080/"
        },
        "outputId": "f2c8b21c-cc7a-4b98-96dd-a9d015b13ed0"
      },
      "execution_count": 162,
      "outputs": [
        {
          "output_type": "stream",
          "name": "stdout",
          "text": [
            "Accuracyls1 = 0.905912\n",
            "Precisionls1 = 0.890954\n",
            "Recallls1 = 0.905912\n"
          ]
        }
      ]
    },
    {
      "cell_type": "code",
      "source": [
        "evaluatorlr2 = MulticlassClassificationEvaluator(predictionCol=\"prediction\", labelCol=\"y\", metricName=\"accuracy\")\n",
        "accuracylr2 = evaluatorlr2.evaluate(lr2_test_results2)\n",
        "print(\"Accuracylr2 = %g\" % accuracylr2)\n",
        "evaluatorlr22 = MulticlassClassificationEvaluator(predictionCol=\"prediction\", labelCol=\"y\", metricName=\"weightedPrecision\")\n",
        "precisionlr2 = evaluatorlr22.evaluate(lr2_test_results2)\n",
        "print(\"Precisionlr2 = %g\" % precisionlr2)\n",
        "\n",
        "evaluatorlr23 = MulticlassClassificationEvaluator(predictionCol=\"prediction\", labelCol=\"y\", metricName=\"weightedRecall\")\n",
        "recalllr2 = evaluatorlr23.evaluate(lr2_test_results2)\n",
        "print(\"Recalllr2 = %g\" % recalllr2)"
      ],
      "metadata": {
        "colab": {
          "base_uri": "https://localhost:8080/"
        },
        "id": "_XUxpv1_PWmr",
        "outputId": "29006942-1702-4115-c76d-b4b307da9e26"
      },
      "execution_count": 163,
      "outputs": [
        {
          "output_type": "stream",
          "name": "stdout",
          "text": [
            "Accuracylr2 = 0.904974\n",
            "Precisionlr2 = 0.890417\n",
            "Recalllr2 = 0.904974\n"
          ]
        }
      ]
    },
    {
      "cell_type": "code",
      "source": [
        "evaluatorls2 = MulticlassClassificationEvaluator(predictionCol=\"prediction\", labelCol=\"y\", metricName=\"accuracy\")\n",
        "accuracyls2 = evaluatorls2.evaluate(lsvc2_test_results2)\n",
        "print(\"Accuracy = %g\" % accuracyls2)\n",
        "evaluatorls22 = MulticlassClassificationEvaluator(predictionCol=\"prediction\", labelCol=\"y\", metricName=\"weightedPrecision\")\n",
        "precisionls2 = evaluatorls22.evaluate(lsvc2_test_results2)\n",
        "print(\"Precision = %g\" % precisionls2)\n",
        "\n",
        "evaluatorls23 = MulticlassClassificationEvaluator(predictionCol=\"prediction\", labelCol=\"y\", metricName=\"weightedRecall\")\n",
        "recallls2 = evaluatorls23.evaluate(lsvc2_test_results2)\n",
        "print(\"Recallls2 = %g\" % recallls2)"
      ],
      "metadata": {
        "colab": {
          "base_uri": "https://localhost:8080/"
        },
        "id": "IXQZDvWRYVM4",
        "outputId": "4907919a-cc1d-4eb6-b88c-61b12d368196"
      },
      "execution_count": 164,
      "outputs": [
        {
          "output_type": "stream",
          "name": "stdout",
          "text": [
            "Accuracy = 0.898787\n",
            "Precision = 0.892542\n",
            "Recallls2 = 0.898787\n"
          ]
        }
      ]
    },
    {
      "cell_type": "code",
      "source": [],
      "metadata": {
        "id": "rX9DGFGPbLZE"
      },
      "execution_count": null,
      "outputs": []
    }
  ]
}